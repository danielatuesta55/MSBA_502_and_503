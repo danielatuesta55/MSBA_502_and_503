{
 "cells": [
  {
   "cell_type": "markdown",
   "id": "c384fff0-f3d4-42fd-bc25-7f666af613da",
   "metadata": {},
   "source": [
    "# Python Modules\n",
    "\n",
    "There are three catefories for python tools that we can use in our program\n",
    "\n",
    "- Built-in with no import: some tool, such as print() or input, are fundamental so they are always preloaded\n",
    "\n",
    "- Built-in but requiring an import: some modules, such as the math module and random modile, come with Python, but thye require an import to use\n",
    "\n",
    "- Downloadable modules: some modules are written by developers around the world and are very useful despite not being standard in python \n",
    "\n",
    "Request module - Allows us to download info from websites\n",
    "\n",
    "Request will use your computers internet connection to connect to any URL and download it in Python\n",
    "\n",
    "import requests\n",
    "\n",
    "response = requests.get('https://www.google.com/')\n",
    "\n",
    "- 200 success\n",
    "- 400 or 500 errors"
   ]
  },
  {
   "cell_type": "code",
   "execution_count": 4,
   "id": "7c1f1d49-676e-4302-a34a-25b17984b9e7",
   "metadata": {},
   "outputs": [
    {
     "name": "stdout",
     "output_type": "stream",
     "text": [
      "<Response [200]>\n",
      "200:successful connection\n"
     ]
    }
   ],
   "source": [
    "import requests\n",
    "\n",
    "response = requests.get('https://www.google.com/')\n",
    "print(response) # if its 200 it means we hit it and we got it! \n",
    "\n",
    "if response:\n",
    "    print(\"200:successful connection\")\n",
    "else:\n",
    "    print(\"Couldn't establish connection \")"
   ]
  },
  {
   "cell_type": "code",
   "execution_count": 14,
   "id": "fa018f0b-fb9f-49c2-95a1-b87023f23e15",
   "metadata": {
    "tags": []
   },
   "outputs": [
    {
     "name": "stdout",
     "output_type": "stream",
     "text": [
      "Don't let someone else ruin your day. \n",
      "\n",
      "Sieze the initiative -- ruin it yourself.\n",
      "\n"
     ]
    }
   ],
   "source": [
    "response = requests.get('https://raw.githubusercontent.com/jdoironSDSU/mis315/main/days.txt')\n",
    "#print(response) # if its 200 it means we hit it and we got it! \n",
    "\n",
    "# if response:\n",
    "#     print(\"200:successful connection\")\n",
    "# else:\n",
    "#     print(\"Couldn't establish connection \")\n",
    "print(response.text) # if its 200 it means we hit it and we got it! "
   ]
  },
  {
   "cell_type": "code",
   "execution_count": 30,
   "id": "9ac819d7-3b00-4307-9de6-93aa27b29abe",
   "metadata": {
    "tags": []
   },
   "outputs": [
    {
     "name": "stdout",
     "output_type": "stream",
     "text": [
      "{\n",
      "  \"timestamp\": 1667261127,\n",
      "  \"message\": \"success\",\n",
      "  \"iss_position\": {\n",
      "    \"longitude\": \"3.4532\",\n",
      "    \"latitude\": \"29.2129\"\n",
      "  }\n",
      "}\n"
     ]
    }
   ],
   "source": [
    "# User can look up the best word or the word that they like for the API\n",
    "\n",
    "import json\n",
    "\n",
    "#search = input(\"What word to look up\")\n",
    "url= 'http://api.open-notify.org/iss-now.json'\n",
    "response = requests.get(url)\n",
    "\n",
    "if response:\n",
    "    data = json.loads(response.text)\n",
    "    print(json.dumps(data,indent=2))# Only get the position use this data['iss_position']\n",
    "else:\n",
    "    print(\"No API hit!!!\")\n",
    "\n",
    "\n"
   ]
  },
  {
   "cell_type": "code",
   "execution_count": null,
   "id": "08446b09-ebe5-4857-bcfb-594ab4221409",
   "metadata": {},
   "outputs": [],
   "source": []
  }
 ],
 "metadata": {
  "kernelspec": {
   "display_name": "Python 3",
   "language": "python",
   "name": "python3"
  },
  "language_info": {
   "codemirror_mode": {
    "name": "ipython",
    "version": 3
   },
   "file_extension": ".py",
   "mimetype": "text/x-python",
   "name": "python",
   "nbconvert_exporter": "python",
   "pygments_lexer": "ipython3",
   "version": "3.8.8"
  }
 },
 "nbformat": 4,
 "nbformat_minor": 5
}
