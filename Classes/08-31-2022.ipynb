{
 "cells": [
  {
   "cell_type": "code",
   "execution_count": 1,
   "id": "bcfb4c0b-1c13-418f-aca3-07d9a41ec693",
   "metadata": {},
   "outputs": [
    {
     "name": "stdout",
     "output_type": "stream",
     "text": [
      "This only runs if x>5\n",
      "This block is still running\n",
      "step 1 complete\n",
      "x is enormous\n",
      "Done\n"
     ]
    }
   ],
   "source": [
    "# I decided to complete the class on Jupyter lab so I can run code independently \n",
    "\n",
    "#example of IF statement\n",
    "x = 19\n",
    "if x>5:\n",
    "    print(\"This only runs if x>5\")\n",
    "    print(\"This block is still running\")\n",
    "print(\"step 1 complete\")\n",
    "if x>12:\n",
    "    print(\"x is enormous\")\n",
    "print(\"Done\")"
   ]
  },
  {
   "cell_type": "code",
   "execution_count": 2,
   "id": "87a4169c-d9a0-4421-94f7-03fba67d9d59",
   "metadata": {},
   "outputs": [],
   "source": [
    "# Writing Conditions\n",
    "\n",
    "# We can use many different operators in writing our if block. For numeric values:\n",
    "\n",
    "# if x == y: True if x equals y\n",
    "# if x != y: True if x does not equal y\n",
    "# if x > y: True if X is greater than y\n",
    "# if x< y: True if x is less than y\n",
    "# if x>=: True if x is greater or equal to y\n",
    "# if x<= y : True if x is less than or equal to y\n",
    "\n",
    "# Rubber ducky debugging- Explain line by line to the rubber ducky and it helps debug! BUY A RUBBER DUCKY\n",
    "\n",
    "# you can use them to evaluate equality or inequality operators also work for strings \n",
    "# if value == \"test\"     True if value equals \"Test\"\n",
    "# if value != \"test\"     True if value does not equal \"Test\"\n",
    "\n",
    "# if-else\n",
    "\n",
    "# If we follow an if block with an else block, then we can divide up the possible conditions into two categories\n",
    "\n",
    "# Exactly one block will run\n",
    "# The else block automatically runs if the if block does not run\n",
    "\n"
   ]
  },
  {
   "cell_type": "code",
   "execution_count": 6,
   "id": "73523365-7369-4c23-b24a-7f3b6fbf1241",
   "metadata": {},
   "outputs": [
    {
     "name": "stdout",
     "output_type": "stream",
     "text": [
      "x does not equal 5\n"
     ]
    }
   ],
   "source": [
    "# if-else\n",
    "x = 6\n",
    "if x == 5:\n",
    "    print(\"x equals 5\")\n",
    "else:\n",
    "    print(\"x does not equal 5\")"
   ]
  },
  {
   "cell_type": "code",
   "execution_count": 7,
   "id": "804212a1-f6a6-439b-be78-67efd88e9763",
   "metadata": {},
   "outputs": [
    {
     "name": "stdout",
     "output_type": "stream",
     "text": [
      "Must be pizza\n",
      "That's all, folks\n"
     ]
    }
   ],
   "source": [
    "#Determine what snack someone is having \n",
    "\n",
    "snack = \"Pretzel\"\n",
    "\n",
    "if snack == \"pbj\":\n",
    "    print(\"yummy,sticky,googey\")\n",
    "else:\n",
    "    print(\"Must be pizza\")\n",
    "print(\"That's all, folks\")"
   ]
  },
  {
   "cell_type": "code",
   "execution_count": null,
   "id": "7080abeb-3cbd-4e43-9909-107e7fbf551a",
   "metadata": {},
   "outputs": [],
   "source": []
  }
 ],
 "metadata": {
  "kernelspec": {
   "display_name": "Python 3",
   "language": "python",
   "name": "python3"
  },
  "language_info": {
   "codemirror_mode": {
    "name": "ipython",
    "version": 3
   },
   "file_extension": ".py",
   "mimetype": "text/x-python",
   "name": "python",
   "nbconvert_exporter": "python",
   "pygments_lexer": "ipython3",
   "version": "3.8.8"
  }
 },
 "nbformat": 4,
 "nbformat_minor": 5
}
