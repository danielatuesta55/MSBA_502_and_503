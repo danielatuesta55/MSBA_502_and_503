{
 "cells": [
  {
   "cell_type": "code",
   "execution_count": 1,
   "id": "bcfb4c0b-1c13-418f-aca3-07d9a41ec693",
   "metadata": {},
   "outputs": [
    {
     "name": "stdout",
     "output_type": "stream",
     "text": [
      "This only runs if x>5\n",
      "This block is still running\n",
      "step 1 complete\n",
      "x is enormous\n",
      "Done\n"
     ]
    }
   ],
   "source": [
    "# I decided to complete the class on Jupyter lab so I can run code independently \n",
    "\n",
    "#example of IF statement\n",
    "x = 19\n",
    "if x>5:\n",
    "    print(\"This only runs if x>5\")\n",
    "    print(\"This block is still running\")\n",
    "print(\"step 1 complete\")\n",
    "if x>12:\n",
    "    print(\"x is enormous\")\n",
    "print(\"Done\")"
   ]
  },
  {
   "cell_type": "code",
   "execution_count": 2,
   "id": "87a4169c-d9a0-4421-94f7-03fba67d9d59",
   "metadata": {},
   "outputs": [],
   "source": [
    "# Writing Conditions\n",
    "\n",
    "# We can use many different operators in writing our if block. For numeric values:\n",
    "\n",
    "# if x == y: True if x equals y\n",
    "# if x != y: True if x does not equal y\n",
    "# if x > y: True if X is greater than y\n",
    "# if x< y: True if x is less than y\n",
    "# if x>=: True if x is greater or equal to y\n",
    "# if x<= y : True if x is less than or equal to y\n",
    "\n",
    "# Rubber ducky debugging- Explain line by line to the rubber ducky and it helps debug! BUY A RUBBER DUCKY\n",
    "\n",
    "# you can use them to evaluate equality or inequality operators also work for strings \n",
    "# if value == \"test\"     True if value equals \"Test\"\n",
    "# if value != \"test\"     True if value does not equal \"Test\"\n",
    "\n",
    "# if-else\n",
    "\n",
    "# If we follow an if block with an else block, then we can divide up the possible conditions into two categories\n",
    "\n",
    "# Exactly one block will run\n",
    "# The else block automatically runs if the if block does not run\n",
    "\n"
   ]
  },
  {
   "cell_type": "code",
   "execution_count": 6,
   "id": "73523365-7369-4c23-b24a-7f3b6fbf1241",
   "metadata": {},
   "outputs": [
    {
     "name": "stdout",
     "output_type": "stream",
     "text": [
      "x does not equal 5\n"
     ]
    }
   ],
   "source": [
    "# if-else\n",
    "x = 6\n",
    "if x == 5:\n",
    "    print(\"x equals 5\")\n",
    "else:\n",
    "    print(\"x does not equal 5\")"
   ]
  },
  {
   "cell_type": "code",
   "execution_count": 8,
   "id": "804212a1-f6a6-439b-be78-67efd88e9763",
   "metadata": {},
   "outputs": [
    {
     "name": "stdout",
     "output_type": "stream",
     "text": [
      "yummy,sticky,googey\n",
      "That's all, folks\n"
     ]
    }
   ],
   "source": [
    "#Determine what snack someone is having \n",
    "\n",
    "snack = \"pbj\"\n",
    "\n",
    "if snack == \"pbj\":\n",
    "    print(\"yummy\")\n",
    "    print(\"Sticky\")\n",
    "    print(\"Gooey\")\n",
    "else:\n",
    "    print(\"Must be pizza\")\n",
    "print(\"That's all, folks\")"
   ]
  },
  {
   "cell_type": "code",
   "execution_count": 11,
   "id": "7080abeb-3cbd-4e43-9909-107e7fbf551a",
   "metadata": {},
   "outputs": [
    {
     "name": "stdout",
     "output_type": "stream",
     "text": [
      "x is less than y\n"
     ]
    }
   ],
   "source": [
    "# Nested conditions \n",
    "# It is possible to put one block inside of another block (this is called nesting)\n",
    "x=2\n",
    "y=4\n",
    "\n",
    "if x == y:\n",
    "    print(\"x equals y\")\n",
    "else:\n",
    "    if x>y:\n",
    "        print(\"x is greater than y\")\n",
    "    else:\n",
    "        print(\"x is less than y\")"
   ]
  },
  {
   "cell_type": "code",
   "execution_count": 15,
   "id": "9ee043c5-d1cf-4cec-bdb5-912a0d466355",
   "metadata": {},
   "outputs": [
    {
     "name": "stdout",
     "output_type": "stream",
     "text": [
      "Have you enrolled?\n",
      "Okay maybe net semester\n",
      "Fall 2022 Lets goooo!\n"
     ]
    }
   ],
   "source": [
    "# Check if someone is enrolled in school if not print have you enrolled\n",
    "# of enrolled print what classes are you taking?\n",
    "# enrolled and not signup thats okay maybe net semester\n",
    "# at end always print \" Fall 2022 lets gooo\"\n",
    "\n",
    "#Declaring variables\n",
    "enrolled = \"no\"\n",
    "taking_classes = \"yes\"\n",
    "classes = \"Math, Science\"\n",
    "signup = \"yes\"\n",
    "\n",
    "#creating if statement\n",
    "if enrolled != \"yes\":\n",
    "    print(\"Have you enrolled?\")\n",
    "    \n",
    "    if enrolled == \"yes\":\n",
    "        print(\"What classes are you taking?\")\n",
    "        \n",
    "        if taking_classes == \"yes\":\n",
    "            print(classes)\n",
    "    else:\n",
    "        print(\"Okay maybe net semester\")\n",
    "\n",
    "#Print final statement\n",
    "print(\"Fall 2022 Lets goooo!\")\n",
    "            \n",
    "            \n",
    "        \n",
    "    \n"
   ]
  },
  {
   "cell_type": "code",
   "execution_count": 19,
   "id": "7ff32569-6018-4dfa-a91b-5729735213f1",
   "metadata": {},
   "outputs": [
    {
     "name": "stdout",
     "output_type": "stream",
     "text": [
      "What classes are you taking?\n",
      "Fall 2022 Let's gooo\n"
     ]
    }
   ],
   "source": [
    "#Declare variables\n",
    "\n",
    "enrolled_status = \"enrolled\"\n",
    "signed_up = \"yes\"\n",
    "\n",
    "#create nested if\n",
    "if enrolled_status == \"enrolled\":\n",
    "    if signed_up == \"yes\":\n",
    "        print(\"What classes are you taking?\")\n",
    "    else:\n",
    "        print(\"That's okay, maybe next semester?\")\n",
    "#End nested if statement\n",
    "else:\n",
    "    print(\"Have you enrolled?\")\n",
    "#print for all statement \n",
    "print(\"Fall 2022 Let's gooo\")\n",
    "\n"
   ]
  },
  {
   "cell_type": "code",
   "execution_count": null,
   "id": "93b8946f-67b1-4407-ae60-16ba7de2ce1c",
   "metadata": {},
   "outputs": [],
   "source": [
    "# If-elif-else\n",
    "# If we want to handle a case with more than two possibilities, we can use elif block\n",
    "\n",
    "#Elif blocks go bewteen the if block and the else block\n",
    "#Each block is mutually exclusive - "
   ]
  }
 ],
 "metadata": {
  "kernelspec": {
   "display_name": "Python 3",
   "language": "python",
   "name": "python3"
  },
  "language_info": {
   "codemirror_mode": {
    "name": "ipython",
    "version": 3
   },
   "file_extension": ".py",
   "mimetype": "text/x-python",
   "name": "python",
   "nbconvert_exporter": "python",
   "pygments_lexer": "ipython3",
   "version": "3.8.8"
  }
 },
 "nbformat": 4,
 "nbformat_minor": 5
}
