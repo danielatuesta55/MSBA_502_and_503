{
 "cells": [
  {
   "cell_type": "markdown",
   "id": "601cbc63-1300-401d-9c24-f2b6d97ba4d5",
   "metadata": {},
   "source": [
    "# Class 11-9-2022 \n",
    "\n",
    "## Pandas\n",
    "\n",
    "![pandas](https://media.giphy.com/media/EPcvhM28ER9XW/giphy.gif)\n",
    "\n",
    "## Week 12 \n",
    "\n",
    "It is well suited for many different kinds of data\n",
    "- Tabluar data with heterogeneously-typed columns, as in an SQL table or Excel spreadsheet\n",
    "- Ordered and unordered (not necessarlity fixed- frecuency) time series data.\n",
    "- Aribitrary matrix data with row and column labels\n",
    "- Any other form of observational/ statistical data sets. The data need nt be labeled at all to be placed into a padnas data structure. \n",
    "\n",
    "\n"
   ]
  },
  {
   "cell_type": "code",
   "execution_count": 1,
   "id": "c3fb23cc-6ef3-46fa-aeff-022630d8147e",
   "metadata": {},
   "outputs": [
    {
     "name": "stdout",
     "output_type": "stream",
     "text": [
      "0        90\n",
      "1    Appels\n",
      "2         2\n",
      "dtype: object\n"
     ]
    }
   ],
   "source": [
    "# A pandas series is like a column in a tbale\n",
    "#It is a one-dimensional array holding data of any type\n",
    "#You can turn a list into a Series with the pd.Series(target)\n",
    "\n",
    "#Import dependencies\n",
    "import pandas as pd\n",
    "\n",
    "stuff = [90,'Appels',2]\n",
    "series1 = pd.Series(stuff)\n",
    "print(series1)"
   ]
  },
  {
   "cell_type": "code",
   "execution_count": 2,
   "id": "ea57fee8-ca96-42cb-aa18-2a9b9b8d40e0",
   "metadata": {},
   "outputs": [
    {
     "name": "stdout",
     "output_type": "stream",
     "text": [
      "2\n"
     ]
    }
   ],
   "source": [
    "print(series1[2])"
   ]
  },
  {
   "cell_type": "code",
   "execution_count": null,
   "id": "5ac4e403-6bd3-48e6-9b89-cf47d19454d6",
   "metadata": {},
   "outputs": [],
   "source": []
  }
 ],
 "metadata": {
  "kernelspec": {
   "display_name": "Python 3",
   "language": "python",
   "name": "python3"
  },
  "language_info": {
   "codemirror_mode": {
    "name": "ipython",
    "version": 3
   },
   "file_extension": ".py",
   "mimetype": "text/x-python",
   "name": "python",
   "nbconvert_exporter": "python",
   "pygments_lexer": "ipython3",
   "version": "3.8.8"
  }
 },
 "nbformat": 4,
 "nbformat_minor": 5
}
