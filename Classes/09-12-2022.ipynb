{
 "cells": [
  {
   "cell_type": "markdown",
   "id": "83c9874f-19f0-4e42-8cbb-c8e4192503d4",
   "metadata": {},
   "source": [
    "# Class 9/12/2022\n",
    "## Daniel Atuesta"
   ]
  },
  {
   "cell_type": "markdown",
   "id": "20b4d5af-ed3a-421d-ab82-413990a4a6b0",
   "metadata": {},
   "source": [
    "# Modules\n",
    "A module is a Python file containing functions or tools written by previous programmers\n",
    "\n",
    "Some additional functionally can be added to Python by importing additional modules\n",
    "\n",
    "This help reduce code! You can break it down and bring everything togheter. \n",
    "\n",
    "Always breakdown your work to know what you need for your code\n",
    "\n",
    "Expansion packs - Pandas and Numpy Add new features of functionality\n",
    "\n",
    "Some modules come pre built into python you just have to call them. There is a lot of infomration out there! Look into the tradeing modules\n"
   ]
  },
  {
   "cell_type": "markdown",
   "id": "c55cf194-5dbb-477a-9b21-1ea4e483573d",
   "metadata": {},
   "source": [
    "Being efficient is KEY!!!!! Making sure you use less is best! \n",
    "\n",
    "Efficient versus Effective! They are different and we need to understand them when we are coding! \n",
    "\n",
    "To import modules you just use the module word and then the module name"
   ]
  },
  {
   "cell_type": "code",
   "execution_count": 14,
   "id": "142fcad5-dd6e-4341-814d-c0dbc09923a8",
   "metadata": {},
   "outputs": [],
   "source": [
    "#Importing modules\n",
    "import math # you can also add an aliase so your code is more efficient like the pandas module\n",
    "import pandas as pd # you can now call pd instead of pandas\n",
    "\n",
    "# You can use the remiander in math instead of modulus this could be useful for the HW"
   ]
  },
  {
   "cell_type": "code",
   "execution_count": 23,
   "id": "eabb5872-5fd3-441a-9233-590a7a0b71b0",
   "metadata": {},
   "outputs": [
    {
     "name": "stdin",
     "output_type": "stream",
     "text": [
      "What is your name? D\n"
     ]
    },
    {
     "name": "stdout",
     "output_type": "stream",
     "text": [
      "\n"
     ]
    },
    {
     "name": "stdin",
     "output_type": "stream",
     "text": [
      "What is the radius of the circle? 9\n"
     ]
    },
    {
     "name": "stdout",
     "output_type": "stream",
     "text": [
      "\n",
      "This is the area of the circle if we do not round,  254.46900494077323\n",
      "D  The area of the circle is:  254.47\n"
     ]
    }
   ],
   "source": [
    "#ask username\n",
    "userName= input('What is your name?')\n",
    "#Spacing\n",
    "print()\n",
    "\n",
    "#Ask user for radius of circle\n",
    "userInput = int(input('What is the radius of the circle?'))\n",
    "#Spacing\n",
    "print()\n",
    "\n",
    "#Create calculation to get area\n",
    "area = math.pi * (userInput ** 2)\n",
    "\n",
    "\n",
    "#Print the result of the area\n",
    "print(\"This is the area of the circle if we do not round, \", area)\n",
    "print(userName, \" The area of the circle is: \", round(area,2))\n",
    "\n",
    "#Python always know exponents go first! so no need to do () for it to work "
   ]
  },
  {
   "cell_type": "markdown",
   "id": "58561e75-3f4e-42e2-bde7-442c38acf93c",
   "metadata": {},
   "source": [
    "# LOOPS!\n",
    "\n",
    "Often, we may want the same or very similar lines of code to run several times in a row\n",
    "1. for example, use python to count from 1 to 100\n",
    "\n",
    "Loops allow us to run a block of code as many times as the condition is run\n",
    "\n",
    "## For loops\n",
    "\n",
    "A for loop runs repeatedly as it counts from a start value to a stop value\n",
    "\n",
    "### Example of a for loop\n",
    "for i in range (0,10,1): #Number starts at, stops and the step\n",
    "    print(i)"
   ]
  },
  {
   "cell_type": "code",
   "execution_count": 37,
   "id": "fa9ae894-9334-41cf-a596-8c74751b3653",
   "metadata": {},
   "outputs": [
    {
     "name": "stdout",
     "output_type": "stream",
     "text": [
      "[0, 1, 2, 3, 4, 5, 6, 7, 8, 9]\n"
     ]
    }
   ],
   "source": [
    "# First for loop \n",
    "\n",
    "# for i in range(0,10,1):\n",
    "    #print(i)\n",
    "\n",
    "# Create a list from the for loop\n",
    "MyList = []\n",
    "for i in range (0,10,1):\n",
    "    MyList.append(i)\n",
    "print(MyList) # This wil print [0-9]\n"
   ]
  },
  {
   "cell_type": "code",
   "execution_count": 38,
   "id": "f3a9b741-d1a0-4d09-b1df-df0dc425d7bd",
   "metadata": {},
   "outputs": [
    {
     "name": "stdout",
     "output_type": "stream",
     "text": [
      "1\n",
      "2\n",
      "3\n",
      "4\n",
      "5\n",
      "6\n",
      "7\n",
      "8\n",
      "9\n",
      "10\n",
      "11\n",
      "12\n",
      "13\n",
      "14\n",
      "15\n",
      "16\n",
      "17\n",
      "18\n",
      "19\n",
      "20\n",
      "21\n",
      "22\n",
      "23\n",
      "24\n",
      "25\n",
      "26\n",
      "27\n",
      "28\n",
      "29\n",
      "30\n",
      "31\n",
      "32\n",
      "33\n",
      "34\n",
      "35\n",
      "36\n",
      "37\n",
      "38\n",
      "39\n",
      "40\n",
      "41\n",
      "42\n",
      "43\n",
      "44\n",
      "45\n",
      "46\n",
      "47\n",
      "48\n",
      "49\n",
      "50\n",
      "51\n",
      "52\n",
      "53\n",
      "54\n",
      "55\n",
      "56\n",
      "57\n",
      "58\n",
      "59\n",
      "60\n",
      "61\n",
      "62\n",
      "63\n",
      "64\n",
      "65\n",
      "66\n",
      "67\n",
      "68\n",
      "69\n",
      "70\n",
      "71\n",
      "72\n",
      "73\n",
      "74\n",
      "75\n",
      "76\n",
      "77\n",
      "78\n",
      "79\n",
      "80\n",
      "81\n",
      "82\n",
      "83\n",
      "84\n",
      "85\n",
      "86\n",
      "87\n",
      "88\n",
      "89\n",
      "90\n",
      "91\n",
      "92\n",
      "93\n",
      "94\n",
      "95\n",
      "96\n",
      "97\n",
      "98\n",
      "99\n",
      "100\n",
      "Complete!\n",
      "10\n",
      "20\n",
      "30\n",
      "40\n",
      "50\n",
      "60\n",
      "70\n",
      "80\n",
      "90\n",
      "100\n",
      "Complete!\n"
     ]
    }
   ],
   "source": [
    "#Count form 1 to 100 in increments of 1 using a for loop\n",
    "\n",
    "for i in range (1,101,1):\n",
    "    print(i)\n",
    "print(\"Complete!\")\n",
    "#Count form 10 to 100 in increments of 10 using for loop\n",
    "for i in range (10,101,10):\n",
    "    print(i)\n",
    "#After reaching 100 print (\"Complete\")\n",
    "print(\"Complete!\")\n"
   ]
  },
  {
   "cell_type": "code",
   "execution_count": 41,
   "id": "4aa99325-9298-4869-ba54-fc9c2be046f5",
   "metadata": {},
   "outputs": [
    {
     "name": "stdout",
     "output_type": "stream",
     "text": [
      "[1, 2, 3, 4, 5, 6, 7, 8, 9, 10, 11, 12, 13, 14, 15, 16, 17, 18, 19, 20, 21, 22, 23, 24, 25, 26, 27, 28, 29, 30, 31, 32, 33, 34, 35, 36, 37, 38, 39, 40, 41, 42, 43, 44, 45, 46, 47, 48, 49, 50, 51, 52, 53, 54, 55, 56, 57, 58, 59, 60, 61, 62, 63, 64, 65, 66, 67, 68, 69, 70, 71, 72, 73, 74, 75, 76, 77, 78, 79, 80, 81, 82, 83, 84, 85, 86, 87, 88, 89, 90, 91, 92, 93, 94, 95, 96, 97, 98, 99, 100]\n",
      "Complete!\n",
      "[10, 20, 30, 40, 50, 60, 70, 80, 90, 100]\n",
      "Complete!\n"
     ]
    }
   ],
   "source": [
    "#Making the values into two lists\n",
    "\n",
    "#Create empty list\n",
    "MyList1 = []\n",
    "\n",
    "#Create for loop \n",
    "for i in range (1,101,1):\n",
    "    MyList1.append(i)\n",
    "\n",
    "#Print MyList and complete\n",
    "print(MyList1)\n",
    "print(\"Complete!\")\n",
    "\n",
    "#Create empty list\n",
    "MyList2 = []\n",
    "\n",
    "#Create for loop\n",
    "for i in range (10,101,10):\n",
    "    MyList2.append(i)\n",
    "\n",
    "#Print MyList and complete\n",
    "print(MyList2)\n",
    "print(\"Complete!\")"
   ]
  },
  {
   "cell_type": "markdown",
   "id": "e2f217fe-eb90-47f6-8f13-b6917c58bcba",
   "metadata": {},
   "source": [
    "# Going backwords"
   ]
  },
  {
   "cell_type": "code",
   "execution_count": 42,
   "id": "4b03de0f-e9ac-4dae-982f-61dfc6e975ed",
   "metadata": {},
   "outputs": [
    {
     "name": "stdout",
     "output_type": "stream",
     "text": [
      "[10, 9, 8, 7, 6, 5, 4, 3, 2, 1]\n",
      "Blast OFF!\n"
     ]
    }
   ],
   "source": [
    "#Going backwards\n",
    "\n",
    "#Create empty list\n",
    "MyList1 = []\n",
    "\n",
    "#Create for loop \n",
    "for i in range (10,0,-1):\n",
    "    MyList1.append(i)\n",
    "\n",
    "#Print MyList and complete\n",
    "print(MyList1)\n",
    "print(\"Blast OFF!\")\n"
   ]
  },
  {
   "cell_type": "markdown",
   "id": "6a917636-e1a4-4faa-bdc2-f6e4faaed2ad",
   "metadata": {},
   "source": [
    "# For Loops and IF STATEMENTS"
   ]
  },
  {
   "cell_type": "code",
   "execution_count": 45,
   "id": "af7f1fbc-1cfc-4444-a0ce-74e864bdbe74",
   "metadata": {},
   "outputs": [
    {
     "name": "stdout",
     "output_type": "stream",
     "text": [
      "10\n",
      "9\n",
      "8\n",
      "7\n",
      "6\n",
      "5\n",
      "Launch Initiated...\n",
      "4\n",
      "3\n",
      "2\n",
      "1\n",
      "0\n",
      "BLASTOFF!!!\n"
     ]
    }
   ],
   "source": [
    "#Creating for loop with if statements inside!\n",
    "\n",
    "#Created for loop to go backwards\n",
    "for i in range (10,-1,-1):\n",
    "    #print\n",
    "    print(i)\n",
    "    # Conditional statement if\n",
    "    if i == 5:\n",
    "        print('Launch Initiated...')\n",
    "    elif i == 0:\n",
    "        print('BLASTOFF!!!')\n",
    "    else:\n",
    "        continue"
   ]
  },
  {
   "cell_type": "markdown",
   "id": "a2ae7034-9baf-452c-b49a-04dc3165a18b",
   "metadata": {},
   "source": [
    "# USING TIME Module for SLEEP"
   ]
  },
  {
   "cell_type": "code",
   "execution_count": 46,
   "id": "aadcac67-ce98-4058-ad6e-86f68420121c",
   "metadata": {},
   "outputs": [
    {
     "name": "stdout",
     "output_type": "stream",
     "text": [
      "10\n",
      "9\n",
      "8\n",
      "7\n",
      "6\n",
      "5\n",
      "Launch Initiated...\n",
      "4\n",
      "3\n",
      "2\n",
      "1\n",
      "0\n",
      "BLASTOFF!!!\n"
     ]
    }
   ],
   "source": [
    "#Creating for loop with if statements inside!\n",
    "\n",
    "#Using Time to make is more dramatic\n",
    "import time # Import the time module! \n",
    "\n",
    "#Created for loop to go backwards\n",
    "for i in range (10,-1,-1):\n",
    "    time.sleep(1) # This will delay the output time its a useful technique to create artificial delay\n",
    "    \n",
    "    #print\n",
    "    print(i)\n",
    "    \n",
    "    # Conditional statement if\n",
    "    if i == 5:\n",
    "        print('Launch Initiated...')\n",
    "    elif i == 0:\n",
    "        print('BLASTOFF!!!')\n",
    "    else:\n",
    "        continue"
   ]
  },
  {
   "cell_type": "code",
   "execution_count": null,
   "id": "76b99971-30a6-43b5-800f-48e6d44f0952",
   "metadata": {},
   "outputs": [],
   "source": []
  }
 ],
 "metadata": {
  "kernelspec": {
   "display_name": "Python 3",
   "language": "python",
   "name": "python3"
  },
  "language_info": {
   "codemirror_mode": {
    "name": "ipython",
    "version": 3
   },
   "file_extension": ".py",
   "mimetype": "text/x-python",
   "name": "python",
   "nbconvert_exporter": "python",
   "pygments_lexer": "ipython3",
   "version": "3.8.8"
  }
 },
 "nbformat": 4,
 "nbformat_minor": 5
}
