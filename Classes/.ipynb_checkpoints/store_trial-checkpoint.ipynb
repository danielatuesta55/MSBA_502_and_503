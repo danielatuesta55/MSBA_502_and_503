{
 "cells": [
  {
   "cell_type": "code",
   "execution_count": 1,
   "id": "1e3edb3c-986b-4d90-8930-6a5c9bc5a88a",
   "metadata": {},
   "outputs": [],
   "source": [
    "#I created this workbook to play around with some if functions and blocks of code. \n",
    "#import dependencies\n",
    "import pandas as pd"
   ]
  },
  {
   "cell_type": "code",
   "execution_count": 6,
   "id": "03a1f1a8-b528-45bc-9d61-291c3702c4cc",
   "metadata": {},
   "outputs": [
    {
     "name": "stdin",
     "output_type": "stream",
     "text": [
      "Good morning! Welcome to my shop. what is the name for your order? D\n"
     ]
    },
    {
     "name": "stdout",
     "output_type": "stream",
     "text": [
      "Nice to meet you D. Please look at our menu and choose your items. Make sure you type them exactly as they are shown in the menu, ONLY CHOOSE ONE ITEM AT A TIME\n",
      "           Item  Price $\n",
      "0        apples      0.5\n",
      "1      banannas      0.8\n",
      "2          meat      6.0\n",
      "3       chicken      5.5\n",
      "4         salad      8.4\n",
      "5         drink      3.5\n",
      "6        hotdog      7.0\n",
      "7         pizza      6.7\n",
      "8  french_fries      3.8\n",
      "9    watermelon      1.4\n"
     ]
    },
    {
     "name": "stdin",
     "output_type": "stream",
     "text": [
      "What can I get ready for you? (Please remember to type all lowercase) apple\n"
     ]
    },
    {
     "name": "stdout",
     "output_type": "stream",
     "text": [
      "Great selection! Let me repeat your order to you: apple\n"
     ]
    },
    {
     "name": "stdin",
     "output_type": "stream",
     "text": [
      "is there anything else I can get for you? yes\n",
      "Great what else do you need? pizza\n"
     ]
    },
    {
     "name": "stdout",
     "output_type": "stream",
     "text": [
      "your new order is: apple, pizza\n"
     ]
    },
    {
     "name": "stdin",
     "output_type": "stream",
     "text": [
      "is that all for today? no\n",
      "what else can I get for you? drink\n"
     ]
    },
    {
     "name": "stdout",
     "output_type": "stream",
     "text": [
      "your final order is: apple, pizza, drink\n",
      "Let's get you to checkout!\n"
     ]
    }
   ],
   "source": [
    "#This block of code is created to start the customer journey! The next block of code with heading \"Checkout\" will be the checkout portion \n",
    "#Creating df to serve as menu for customer\n",
    "d = {'Item':[\"apples\",\"banannas\",\"meat\",\"chicken\",\"salad\",\"drink\",\"hotdog\",\"pizza\",\"french_fries\",\"watermelon\"],'Price $':[0.50,0.80,6.00,5.50,8.40,3.50,7.00,6.70,3.80,1.40]}\n",
    "menu_df = pd.DataFrame(data=d)\n",
    "\n",
    "#Create dictionary for items in menu \n",
    "items_in_menu_dict = {\"apples\" : 0.50,\n",
    "\"bananas\" : 0.80,\n",
    "\"meat\" : 6.00,\n",
    "\"chicken\" : 5.50,\n",
    "\"salad\" : 8.40,\n",
    "\"drink\" : 3.50,\n",
    "\"hotdog\" : 7.00,\n",
    "\"pizza\" : 6.70,\n",
    "\"french_fries\" : 3.80,\n",
    "\"watermelon\" : 1.40\n",
    "}\n",
    "\n",
    "# Declare discounts percentages\n",
    "discount_max_2_items= 0.20\n",
    "discount_max_5_items= 0.35\n",
    "discount_max_8_items=0.50\n",
    "\n",
    "#Declare customer cart for checkout in list format\n",
    "\n",
    "customer_cart = []\n",
    "\n",
    "#user input for decision making\n",
    "customer_name = input(\"Good morning! Welcome to my shop. what is the name for your order?\")\n",
    "\n",
    "#print name \n",
    "print(\"Nice to meet you \" + customer_name + \". Please look at our menu and choose your items. Make sure you type them exactly as they are shown in the menu, ONLY CHOOSE ONE ITEM AT A TIME\")\n",
    "print(menu_df)\n",
    "#ask user input for their order \n",
    "todays_order = input(\"What can I get ready for you? (Please remember to type all lowercase)\")\n",
    "\n",
    "#print name and ask if there is anything else you could get them\n",
    "print(\"Great selection! Let me repeat your order to you: \" + todays_order)\n",
    "customer_cart.append(todays_order)\n",
    "\n",
    "#create first If function \n",
    "\n",
    "more_items = input(\"is there anything else I can get for you?\")\n",
    "\n",
    "if more_items == \"yes\":\n",
    "    more_items_1 = input(\"Great what else do you need?\")\n",
    "    print(\"your new order is: \" + todays_order + \", \" + more_items_1)\n",
    "    #Append all items to list \n",
    "    customer_cart.append(more_items_1)\n",
    "    checkout_ready_1 = input(\"is that all for today?\")\n",
    "\n",
    "    #Create nested if function     \n",
    "    if checkout_ready_1 == \"yes\":\n",
    "        print (\"great, let's see what discounts we have for your today!\") \n",
    "    else:\n",
    "        more_items_2 = input(\"what else can I get for you?\")\n",
    "        print(\"your final order is: \" + todays_order +\", \"+ more_items_1 + \", \" + more_items_2)\n",
    "        #Append all items to list \n",
    "        customer_cart.append(more_items_2)\n",
    "        print(\"Let's get you to checkout!\")\n",
    "\n",
    "#Exit first if statement block!\n",
    "else:\n",
    "    print(\"Lets head on out to checkout! to see all your available discounts\")\n",
    "\n",
    "\n",
    "#Make sure that all items where appended to the list by using this statement: print(customer_cart)\n",
    "\n",
    "customer_cart_final = customer_cart"
   ]
  },
  {
   "cell_type": "code",
   "execution_count": 7,
   "id": "94539e2b-238b-4056-b99b-467413f3341e",
   "metadata": {},
   "outputs": [
    {
     "name": "stdin",
     "output_type": "stream",
     "text": [
      "Are all your items being displayed: apple pizza drink yes\n"
     ]
    },
    {
     "name": "stdout",
     "output_type": "stream",
     "text": [
      "You have a total of 3 items. Looking for discounts, please wait\n"
     ]
    }
   ],
   "source": [
    "#Checkout \n",
    "#count number of items in customer cart and convert to string\n",
    "count_customer_cart = len(customer_cart)\n",
    "\n",
    "#print(count_customer_cart)\n",
    "\n",
    "#Double checking with customer their order. \n",
    "#convert list into string\n",
    "double_check_list_customer = ' '.join(customer_cart)\n",
    "#print(double_check_list_customer)\n",
    "\n",
    "#customer consent\n",
    "customer_confirmation_all_items_in_cart= input(\"Are all your items being displayed: \" + double_check_list_customer)\n",
    "\n",
    "#Create If statement to continue or restart\n",
    "if customer_confirmation_all_items_in_cart == \"yes\":\n",
    "    print(\"You have a total of \" + str(count_customer_cart) + \" items. Looking for discounts, please wait\")\n",
    "else: \n",
    "    print(\"Sorry, please restart the program!\")\n",
    "    "
   ]
  },
  {
   "cell_type": "code",
   "execution_count": 8,
   "id": "b315c154-f775-4a5d-be83-5cba4b5df1b1",
   "metadata": {},
   "outputs": [
    {
     "name": "stdout",
     "output_type": "stream",
     "text": [
      "You get 20% off\n"
     ]
    }
   ],
   "source": [
    "#Discounts\n",
    "if count_customer_cart <= 1:\n",
    "    print(\"We have no discounts for your order today\")\n",
    "elif count_customer_cart <= 4:\n",
    "    print(\"You get 20% off\")\n",
    "elif count_customer_cart <= 7:\n",
    "    print(\"You get 35% off\")\n",
    "else:\n",
    "    print(\"You get 50% off \")\n",
    "\n",
    "#displaying total order cost before discount\n",
    "\n",
    "    "
   ]
  },
  {
   "cell_type": "code",
   "execution_count": 12,
   "id": "09d76f2c-e273-4dac-9f05-3126b7d2ac0e",
   "metadata": {},
   "outputs": [
    {
     "name": "stdout",
     "output_type": "stream",
     "text": [
      "['apple', 'pizza', 'drink']\n"
     ]
    }
   ],
   "source": [
    "#make df from my customers list\n",
    "df1= pd.DataFrame(customer_cart_final, columns =['Item'])\n",
    "df1"
   ]
  },
  {
   "cell_type": "code",
   "execution_count": 19,
   "id": "b914acfc-4aff-41d2-8e43-5ee312ef0ee1",
   "metadata": {},
   "outputs": [
    {
     "data": {
      "text/html": [
       "<div>\n",
       "<style scoped>\n",
       "    .dataframe tbody tr th:only-of-type {\n",
       "        vertical-align: middle;\n",
       "    }\n",
       "\n",
       "    .dataframe tbody tr th {\n",
       "        vertical-align: top;\n",
       "    }\n",
       "\n",
       "    .dataframe thead th {\n",
       "        text-align: right;\n",
       "    }\n",
       "</style>\n",
       "<table border=\"1\" class=\"dataframe\">\n",
       "  <thead>\n",
       "    <tr style=\"text-align: right;\">\n",
       "      <th></th>\n",
       "      <th>Item</th>\n",
       "      <th>Price $</th>\n",
       "    </tr>\n",
       "  </thead>\n",
       "  <tbody>\n",
       "    <tr>\n",
       "      <th>0</th>\n",
       "      <td>drink</td>\n",
       "      <td>3.5</td>\n",
       "    </tr>\n",
       "    <tr>\n",
       "      <th>1</th>\n",
       "      <td>pizza</td>\n",
       "      <td>6.7</td>\n",
       "    </tr>\n",
       "  </tbody>\n",
       "</table>\n",
       "</div>"
      ],
      "text/plain": [
       "    Item  Price $\n",
       "0  drink      3.5\n",
       "1  pizza      6.7"
      ]
     },
     "execution_count": 19,
     "metadata": {},
     "output_type": "execute_result"
    }
   ],
   "source": [
    "final_customer_df_with_price_df = pd.merge(menu_df, df1)\n",
    "print(final_customer_df_with_price_df)"
   ]
  },
  {
   "cell_type": "code",
   "execution_count": null,
   "id": "1e256db3-98cd-48db-ba07-802a08f9d856",
   "metadata": {},
   "outputs": [],
   "source": [
    "#need to add up the price column on final_customer_df_with_price_df\n",
    "#and print your total before discount is = \n",
    "#deduct discount and print total with discount is = \n",
    "print(\"Thank you for shopping with us today! Until next time\")"
   ]
  }
 ],
 "metadata": {
  "kernelspec": {
   "display_name": "Python 3",
   "language": "python",
   "name": "python3"
  },
  "language_info": {
   "codemirror_mode": {
    "name": "ipython",
    "version": 3
   },
   "file_extension": ".py",
   "mimetype": "text/x-python",
   "name": "python",
   "nbconvert_exporter": "python",
   "pygments_lexer": "ipython3",
   "version": "3.8.8"
  }
 },
 "nbformat": 4,
 "nbformat_minor": 5
}
