{
 "cells": [
  {
   "cell_type": "code",
   "execution_count": 1,
   "id": "bcfb4c0b-1c13-418f-aca3-07d9a41ec693",
   "metadata": {},
   "outputs": [
    {
     "name": "stdout",
     "output_type": "stream",
     "text": [
      "This only runs if x>5\n",
      "This block is still running\n",
      "step 1 complete\n",
      "x is enormous\n",
      "Done\n"
     ]
    }
   ],
   "source": [
    "# I decided to complete the class on Jupyter lab so I can run code independently \n",
    "\n",
    "#example of IF statement\n",
    "x = 19\n",
    "if x>5:\n",
    "    print(\"This only runs if x>5\")\n",
    "    print(\"This block is still running\")\n",
    "print(\"step 1 complete\")\n",
    "if x>12:\n",
    "    print(\"x is enormous\")\n",
    "print(\"Done\")"
   ]
  },
  {
   "cell_type": "code",
   "execution_count": 2,
   "id": "87a4169c-d9a0-4421-94f7-03fba67d9d59",
   "metadata": {},
   "outputs": [],
   "source": [
    "#Writing Conditions\n",
    "\n",
    "#We can use many different operators in writing our if block. For numeric values:\n",
    "\n",
    "# if x == y: True if x equals y\n",
    "# if x != y: True if x does not equal y\n",
    "# if x > y: True if X is greater than y\n",
    "# if x< y: True if x is less than y\n",
    "# if x>=: True if x is greater or equal to y\n",
    "# if x<= y : True if x is less than or equal to y\n",
    "\n",
    "# Rubber ducky debugging- Explain line by line to the rubber ducky and it helps debug! BUY A RUBBER DUCKY\n"
   ]
  },
  {
   "cell_type": "code",
   "execution_count": null,
   "id": "73523365-7369-4c23-b24a-7f3b6fbf1241",
   "metadata": {},
   "outputs": [],
   "source": []
  }
 ],
 "metadata": {
  "kernelspec": {
   "display_name": "Python 3",
   "language": "python",
   "name": "python3"
  },
  "language_info": {
   "codemirror_mode": {
    "name": "ipython",
    "version": 3
   },
   "file_extension": ".py",
   "mimetype": "text/x-python",
   "name": "python",
   "nbconvert_exporter": "python",
   "pygments_lexer": "ipython3",
   "version": "3.8.8"
  }
 },
 "nbformat": 4,
 "nbformat_minor": 5
}
