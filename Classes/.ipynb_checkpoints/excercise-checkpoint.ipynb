{
 "cells": [
  {
   "cell_type": "markdown",
   "id": "82af124d-b95b-4558-bddd-4c40f7051c9a",
   "metadata": {},
   "source": [
    "# Excercises  \n",
    "\n",
    "Jorge Daniel Atuesta "
   ]
  },
  {
   "cell_type": "code",
   "execution_count": 1,
   "id": "12a19d65-b45f-4116-9173-51ba03872a51",
   "metadata": {},
   "outputs": [
    {
     "name": "stdout",
     "output_type": "stream",
     "text": [
      "5\n",
      "20\n",
      "4\n"
     ]
    }
   ],
   "source": [
    "# Understanding variables and how they can change.\n",
    "x = 10\n",
    "\n",
    "y = 10 + x\n",
    "\n",
    "x = -9 + x\n",
    "\n",
    "z = 4\n",
    "\n",
    "x = x + z\n",
    "\n",
    "print(x)\n",
    "print(y)\n",
    "print(z)"
   ]
  },
  {
   "cell_type": "code",
   "execution_count": 9,
   "id": "868e892b-fd33-4138-a1b9-6a3f9d4f34bd",
   "metadata": {},
   "outputs": [
    {
     "name": "stdin",
     "output_type": "stream",
     "text": [
      "How old are you?  23\n",
      "What is your name?  katie\n"
     ]
    },
    {
     "name": "stdout",
     "output_type": "stream",
     "text": [
      "Start\n",
      "Go to work, katie\n",
      "Completed\n"
     ]
    }
   ],
   "source": [
    "#playing with if statements and \"and\" function\n",
    "age = int(input(\"How old are you? \"))\n",
    "name = input(\"What is your name? \")\n",
    "\n",
    "print(\"Start\")\n",
    "if age < 10:\n",
    "      if name == \"Daniel\" or name == \"daniel\":# I could use \"or\" here same result\n",
    "           print(\"Do your homework, {}\".format(name))\n",
    "else:\n",
    "       print(\"Go to work, {}\".format(name))\n",
    "print(\"Completed\")"
   ]
  },
  {
   "cell_type": "code",
   "execution_count": 11,
   "id": "04c2726a-2ec9-49f6-ae71-8ead3df9422b",
   "metadata": {},
   "outputs": [
    {
     "data": {
      "text/plain": [
       "str"
      ]
     },
     "execution_count": 11,
     "metadata": {},
     "output_type": "execute_result"
    }
   ],
   "source": [
    "#adjusting type from the variable int to strg\n",
    "num = 100\n",
    "num = str(num)\n",
    "type(num)"
   ]
  },
  {
   "cell_type": "code",
   "execution_count": 13,
   "id": "43c15866-6af8-4b56-937f-b5eeb59a5043",
   "metadata": {},
   "outputs": [
    {
     "name": "stdout",
     "output_type": "stream",
     "text": [
      "5791.5\n"
     ]
    }
   ],
   "source": [
    "#PEDMAS in Python\n",
    "print(20 + 76 ** (1 + 1) - 9 / 2)\n",
    "\n"
   ]
  },
  {
   "cell_type": "code",
   "execution_count": 14,
   "id": "2dc428d6-2184-4a2f-a0bc-4433ee2324d5",
   "metadata": {
    "tags": []
   },
   "outputs": [
    {
     "name": "stdin",
     "output_type": "stream",
     "text": [
      "What state are you from?  california\n",
      "What city are you from?  Bogota\n"
     ]
    },
    {
     "name": "stdout",
     "output_type": "stream",
     "text": [
      "california best state ever.\n"
     ]
    }
   ],
   "source": [
    "#practice if - if else and else \n",
    "state = input(\"What state are you from? \")\n",
    "city = input(\"What city are you from? \")\n",
    "\n",
    "\n",
    "if state == \"California\" or state == \"california\" or state == \"CA\" or state == \"ca\":\n",
    "     output = state + \" best state ever.\"\n",
    "elif state == \"Colorado\":\n",
    "     output = \"Not a bad state \"\n",
    "else:\n",
    "     output = \"What is the weather at \" + city + \"?\"\n",
    "print(output)\n",
    "\n"
   ]
  },
  {
   "cell_type": "code",
   "execution_count": 31,
   "id": "a6324832-2f07-406a-bf97-57f4e45d77ba",
   "metadata": {},
   "outputs": [
    {
     "name": "stdin",
     "output_type": "stream",
     "text": [
      "What is the value of X? 32\n",
      "What is the value of Y? 100\n"
     ]
    },
    {
     "name": "stdout",
     "output_type": "stream",
     "text": [
      "Status: alert\n"
     ]
    }
   ],
   "source": [
    "#taken from a class excercise \n",
    "#Prompt for user values of x and y\n",
    "\n",
    "x = int(input('What is the value of X?'))\n",
    "\n",
    "y = int(input('What is the value of Y?'))\n",
    "\n",
    "\n",
    "\n",
    "\n",
    "# Create conditional statement using If,elif and else function\n",
    "\n",
    "if x < 50 and y < 100:\n",
    "    print('Status: normal')\n",
    "\n",
    "elif x >= 50 and y  < 100:\n",
    "    print('Status: normal')\n",
    "\n",
    "elif x < 50 and y >= 100:\n",
    "    print('Status: alert')\n",
    "\n",
    "else:\n",
    "    print('Status: poor preformance')"
   ]
  },
  {
   "cell_type": "code",
   "execution_count": null,
   "id": "2cf6d0c2-0fcd-4c98-898f-55a5b57d8fcb",
   "metadata": {},
   "outputs": [],
   "source": []
  }
 ],
 "metadata": {
  "kernelspec": {
   "display_name": "Python 3",
   "language": "python",
   "name": "python3"
  },
  "language_info": {
   "codemirror_mode": {
    "name": "ipython",
    "version": 3
   },
   "file_extension": ".py",
   "mimetype": "text/x-python",
   "name": "python",
   "nbconvert_exporter": "python",
   "pygments_lexer": "ipython3",
   "version": "3.8.8"
  }
 },
 "nbformat": 4,
 "nbformat_minor": 5
}
