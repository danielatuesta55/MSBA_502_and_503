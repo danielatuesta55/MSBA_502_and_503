{
 "cells": [
  {
   "cell_type": "markdown",
   "id": "b21ef465-e59b-4f56-96e0-b7170b7a72c0",
   "metadata": {},
   "source": [
    "# 10-03-2022 Class\n",
    "\n",
    "## Functions\n"
   ]
  },
  {
   "cell_type": "code",
   "execution_count": 5,
   "id": "3d04a7ff-e749-47ed-bb02-59401e7f7844",
   "metadata": {},
   "outputs": [
    {
     "name": "stdin",
     "output_type": "stream",
     "text": [
      "What country are you from? bogota\n"
     ]
    },
    {
     "name": "stdout",
     "output_type": "stream",
     "text": [
      "you are from Bogota!\n",
      "you are from USA!\n"
     ]
    }
   ],
   "source": [
    "#create function to use parameter print what country ar eyou form \n",
    "\n",
    "def what_country(country='USA'): #To set up a default value you just add = inside the parenthesis\n",
    "    \"\"\"Prints what country the user is from\"\"\"\n",
    "    print(f\"you are from {country}!\")\n",
    "\n",
    "country= input(\"What country are you from?\").capitalize()\n",
    "\n",
    "what_country(country)# Inside the () is the input value\n",
    "what_country()\n",
    "\n",
    "#If you dont give an input value than the default value will be printed! "
   ]
  },
  {
   "cell_type": "code",
   "execution_count": 7,
   "id": "7b1ab27b-696c-4cc7-9c72-04ca53934924",
   "metadata": {},
   "outputs": [
    {
     "name": "stdin",
     "output_type": "stream",
     "text": [
      "What type of shape are we calculating? circle\n",
      "What is the heigth? 2\n",
      "What is the base? 2\n"
     ]
    },
    {
     "name": "stdout",
     "output_type": "stream",
     "text": [
      "circle This mode is not supported\n"
     ]
    }
   ],
   "source": [
    "#Write function thatdetmines the area of rectangels(b*h) or triangles (0.5*b*h)\n",
    "#Use rectangel as default funcitons\n",
    "# Allow user to enter as many shapes as they desire \n",
    "\n",
    "def areas_of_shapes(b,h, mode=\"rectangle\"):\n",
    "    \"\"\"Prints the area of a rectangle or triangle\"\"\"\n",
    "    if mode == \"rectangle\":\n",
    "        area_rectangle = b*h\n",
    "        print('The area of the rectangle is', area_rectangle)\n",
    "    elif mode ==\"Triangle\":\n",
    "        area_triangle = 0.5 * b * h\n",
    "        print(\"The area of the triangle is:\",area_triangle)\n",
    "    else:\n",
    "        print(mode, \"This mode is not supported\")\n",
    "\n",
    "mode = input(\"What type of shape are we calculating?\")\n",
    "h = float(input(\"What is the heigth?\"))\n",
    "b = float(input(\"What is the base?\"))\n",
    "\n",
    "areas_of_shapes(b,h,mode)   \n",
    "    \n",
    "    "
   ]
  },
  {
   "cell_type": "code",
   "execution_count": 12,
   "id": "35bed81f-853c-4a00-81c6-2ba050362d76",
   "metadata": {},
   "outputs": [
    {
     "name": "stdin",
     "output_type": "stream",
     "text": [
      "Enter a number 123\n"
     ]
    },
    {
     "name": "stdout",
     "output_type": "stream",
     "text": [
      "You successfully entered a number: 123\n"
     ]
    },
    {
     "name": "stdin",
     "output_type": "stream",
     "text": [
      "Do you want to include a new number (yes/no)? yasdfasd\n",
      "Enter a number 123\n"
     ]
    },
    {
     "name": "stdout",
     "output_type": "stream",
     "text": [
      "You successfully entered a number: 123\n"
     ]
    },
    {
     "name": "stdin",
     "output_type": "stream",
     "text": [
      "Do you want to include a new number (yes/no)? YESADASDA\n",
      "Enter a number 90349324\n"
     ]
    },
    {
     "name": "stdout",
     "output_type": "stream",
     "text": [
      "You successfully entered a number: 90349324\n"
     ]
    },
    {
     "name": "stdin",
     "output_type": "stream",
     "text": [
      "Do you want to include a new number (yes/no)? NOYES\n"
     ]
    },
    {
     "name": "stdout",
     "output_type": "stream",
     "text": [
      "Here is a list of the values you entered: [123.0, 123.0, 90349324.0]\n"
     ]
    }
   ],
   "source": [
    "#Write some code to allow the user to enter as many numers as they like. Ensure that the numbers are numeric or else give the user an explanation not numeric \n",
    "\n",
    "#start while loop for code to run\n",
    "repeat = \"yes\"\n",
    "\n",
    "#Empty list to get the user list    \n",
    "user_number_list =[]\n",
    "\n",
    "while \"y\" in repeat[0].lower().strip():# Here I can gurantee that y is only taken in the first position of the string [0]\n",
    "    \n",
    "    #capture number in raw form \n",
    "    new_number = input(\"Enter a number\")\n",
    "    \n",
    "    #user enters a valid number\n",
    "    if new_number.isdigit():\n",
    "        #Change data type to make future calculations\n",
    "        new_number_float = float(new_number)\n",
    "        \n",
    "        #Append number to list\n",
    "        user_number_list.append(new_number_float)\n",
    "        \n",
    "        #Print to user\n",
    "        print(\"You successfully entered a number:\", new_number)\n",
    "    \n",
    "    #user enter invalid number\n",
    "    else:\n",
    "        print(f\"Sorry, the value entered **{new_number}** is not a valid number try again\")\n",
    "\n",
    "    \n",
    "    repeat = input(\"Do you want to include a new number (yes/no)?\")\n",
    "    \n",
    "print(f\"Here is a list of the values you entered: {user_number_list}\")"
   ]
  },
  {
   "cell_type": "markdown",
   "id": "ea5687a4-eee0-4d5e-a6aa-2a03da5bfdd2",
   "metadata": {},
   "source": [
    "# Try and Except \n",
    "\n",
    "1. Disatvantage of try-except that the except block will run for any type of error\n",
    "2. To handel each type of error more specifically, you can have several except locks for differet cases (similar to if-elif and else)\n",
    "3. in our examples value error\n",
    "4. In the last except block it can be usedul to get the python error message that caused the unecpected error and print it out. \n",
    "5. This practice will help you remove bugs from code as you are building it. \n",
    "\n",
    "## \"Hit a lot of EFO errors in HW 4\""
   ]
  },
  {
   "cell_type": "code",
   "execution_count": 14,
   "id": "fdc67a4f-d4f7-4aa4-bac5-7994589491c0",
   "metadata": {},
   "outputs": [
    {
     "name": "stdin",
     "output_type": "stream",
     "text": [
      "enter a number: yes\n"
     ]
    },
    {
     "name": "stdout",
     "output_type": "stream",
     "text": [
      "Sorry, you entered an invalid number\n",
      "could not convert string to float: 'yes'\n"
     ]
    },
    {
     "name": "stdin",
     "output_type": "stream",
     "text": [
      "Do you want to add a new number (yes/no)? no\n"
     ]
    }
   ],
   "source": [
    "#Allow the user to enter as many numbers as desired\n",
    "#Check that each value is a number\n",
    "#if the value is a not numeric, alert the user\n",
    "#Use try-except to handle negatives/floats\n",
    "\n",
    "repeat = \"yes\"\n",
    "\n",
    "#while \"y\" in repeat.lower().strip():\n",
    "while \"y\" in repeat.lower().strip(): \n",
    "    try:\n",
    "        number=float(input(\"enter a number:\"))\n",
    "        print(f\"You have successfully entered a new number {number}\")\n",
    "    except Exception as e:\n",
    "        print(\"Sorry, you entered an invalid number\")\n",
    "        print(e)\n",
    "        \n",
    "    repeat = input(\"Do you want to add a new number (yes/no)?\")\n",
    "    "
   ]
  },
  {
   "cell_type": "code",
   "execution_count": 16,
   "id": "648366e7-1716-4f43-913e-86e985291c44",
   "metadata": {},
   "outputs": [
    {
     "name": "stdin",
     "output_type": "stream",
     "text": [
      "Enter a number -9\n"
     ]
    }
   ],
   "source": [
    "try:\n",
    "    number = float(input(\"Enter a number\"))\n",
    "except ValueError:\n",
    "    print(\"Sorry, you need to enter a number.\")\n",
    "except Exception as e:\n",
    "    print(\"An unexcepted error occured\")\n",
    "    print(e)"
   ]
  },
  {
   "cell_type": "code",
   "execution_count": 20,
   "id": "2ec3d19d-f7cc-4b94-8b86-742355d72a78",
   "metadata": {},
   "outputs": [
    {
     "name": "stdin",
     "output_type": "stream",
     "text": [
      "Enter the radius:  asfas\n"
     ]
    },
    {
     "name": "stdout",
     "output_type": "stream",
     "text": [
      "could not convert string to float: 'asfas'\n"
     ]
    }
   ],
   "source": [
    "import math \n",
    "\n",
    "def calc_circumference(radius):\n",
    "    \"\"\"This will help calc the circumference of radio\"\"\"\n",
    "    circumference = 2*math.pi*radius\n",
    "    print(\"The circumference is:\", circumference)\n",
    "\n",
    "try:\n",
    "    radius = float(input(\"Enter the radius: \"))\n",
    "    calc_circumference(radius)\n",
    "# except ValueError:\n",
    "#     print(\"Sorry invalid value. Try again.\")\n",
    "except Exception as e:\n",
    "    print(e)"
   ]
  },
  {
   "cell_type": "code",
   "execution_count": null,
   "id": "69eae6db-f6f3-4f1d-bc23-2b7d9c74aced",
   "metadata": {},
   "outputs": [],
   "source": []
  }
 ],
 "metadata": {
  "kernelspec": {
   "display_name": "Python 3",
   "language": "python",
   "name": "python3"
  },
  "language_info": {
   "codemirror_mode": {
    "name": "ipython",
    "version": 3
   },
   "file_extension": ".py",
   "mimetype": "text/x-python",
   "name": "python",
   "nbconvert_exporter": "python",
   "pygments_lexer": "ipython3",
   "version": "3.8.8"
  }
 },
 "nbformat": 4,
 "nbformat_minor": 5
}
