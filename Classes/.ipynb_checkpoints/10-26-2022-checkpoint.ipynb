{
 "cells": [
  {
   "cell_type": "markdown",
   "id": "52e0cc13-2f79-4161-a862-cde74d89bbed",
   "metadata": {},
   "source": [
    "# Class Oct 26 2022\n",
    "## GUI's "
   ]
  },
  {
   "cell_type": "code",
   "execution_count": 2,
   "id": "93641561-2a7c-4899-9d3c-b330205151d0",
   "metadata": {},
   "outputs": [],
   "source": [
    "# combobox example \n",
    "# Write some code to create the following GUI naed \"International greetings\" that will show a messagebox with an appropiate greeting. The combobox should have options for english, French, and Spanish. When the \"Greet!\" button is pressed, than message box should say \"Hello\",\"Bonour\" or \"Hola\"\n",
    "\n",
    "import tkinter\n",
    "import tkinter.messagebox\n",
    "import tkinter.ttk\n",
    "\n",
    "def greetingmessage():\n",
    "    '''Show an appropiate messagebox depending on the appropiate language'''\n",
    "    global language_box\n",
    "    \n",
    "    if language_box.get() ==\"English\":\n",
    "        tkinter.messagebox.showinfo(\"Greeting\",\"Hello\")\n",
    "    elif language_box.get() ==\"French\":\n",
    "        tkinter.messagebox.showinfo(\"Greeting\",\"Bonjour\")\n",
    "    elif language_box.get() ==\"Spanish\":\n",
    "        tkinter.messagebox.showinfo(\"Greeting\",\"Hola\")\n",
    "    else:\n",
    "        tkinter.messagebox.showinfo(\"Greeting\",\"Aloha\")\n",
    "\n",
    "root = tkinter.Tk()\n",
    "root.title(\"International Greetings\")\n",
    "root.configure(bg='light blue')\n",
    "root.geometry('400x400')\n",
    "\n",
    "language_box = tkinter.ttk.Combobox(root, values = [\"English\",\"French\",\"Spanish\",\"Other\"])\n",
    "language_box.current(0)\n",
    "language_box.grid(row=0,column=0)\n",
    "\n",
    "greeting_button = tkinter.Button(root,text=\"Greet!\", command=greetingmessage)\n",
    "greeting_button.grid(row=0,column=1)\n",
    "\n",
    "\n",
    "\n",
    "\n",
    "root.mainloop()"
   ]
  },
  {
   "cell_type": "code",
   "execution_count": 15,
   "id": "cb9afb8e-e5d0-423d-a309-18c3a64f6bfc",
   "metadata": {},
   "outputs": [],
   "source": [
    "#Create a program with tkinter to help the user know if the coffe is good or bad\n",
    "\n",
    "def coffeeanalyzer():\n",
    "    \"\"\"Created a function to let the user know the temp of the coffe\"\"\"\n",
    "    global temp_box\n",
    "    temp=float(temp_box.get())\n",
    "    if temp < 120:\n",
    "        tkinter.messagebox.showwarning(\"Bad coffee\",\"The cofee is to cold\")\n",
    "    elif temp > 140:\n",
    "        tkinter.messagebox.showwarning(\"Bad coffee\",\"The coffee is to hot!\")\n",
    "    else:\n",
    "        tkinter.messagebox.showinfo(\"Good coffee\",\"The coffee is just right!\")\n",
    "\n",
    "root=tkinter.Tk()\n",
    "root.title(\"Coffee Analyzer\")\n",
    "root.configure(bg=\"Orange\")\n",
    "#root.geometry('200x200')\n",
    "\n",
    "temp_label = tkinter.Label(root,text=\"Temperature:\")\n",
    "temp_label.configure(bg='orange')\n",
    "temp_label.grid(row=0,column=0)\n",
    "\n",
    "temp_box = tkinter.Entry(root, width =10)\n",
    "temp_box.grid(row=0,column=1)\n",
    "temp_box.configure(bg='light grey')\n",
    "\n",
    "Coffe_button= tkinter.Button(root,text=\"Analyze\",command=coffeeanalyzer)\n",
    "Coffe_button.grid(row=0,column=3)\n",
    "\n",
    "root.mainloop()\n"
   ]
  },
  {
   "cell_type": "markdown",
   "id": "4aa60d63-12b2-4874-9c96-1d0616c90c49",
   "metadata": {},
   "source": [
    "# tkinter.Tk() vs tkinter.Toplevel()\n",
    "\n",
    "- Tk is used for the main \"root\" window MAIN\n",
    "\n",
    "- Tolevel is used to create secondary windows. "
   ]
  },
  {
   "cell_type": "code",
   "execution_count": 27,
   "id": "57ba4606-a9cb-48ce-8229-c09f61b6495b",
   "metadata": {},
   "outputs": [
    {
     "name": "stderr",
     "output_type": "stream",
     "text": [
      "Exception in Tkinter callback\n",
      "Traceback (most recent call last):\n",
      "  File \"C:\\Users\\danie\\anaconda3\\lib\\tkinter\\__init__.py\", line 1892, in __call__\n",
      "    return self.func(*args)\n",
      "  File \"<ipython-input-27-99271cdc8b5e>\", line 9, in new_window\n",
      "    counter +=1\n",
      "UnboundLocalError: local variable 'counter' referenced before assignment\n"
     ]
    }
   ],
   "source": [
    "counter = 0\n",
    "def new_window():\n",
    "    \"\"\"Creates and Shows a new window\"\"\"\n",
    "    \n",
    "    secondary_window = tkinter.Toplevel()\n",
    "    secondary_window.title(\"New Window\")\n",
    "    new_label = tkinter.Label(secondary_window,text=\"Hello!\")\n",
    "    new_label.pack()\n",
    "    #for i in \n",
    "    #counter +=1\n",
    "\n",
    "root = tkinter.Tk()\n",
    "root.title(\"Main\")\n",
    "\n",
    "button= tkinter.Button(root,text=\"Click Me!!\",command=new_window)\n",
    "button.grid(row=0,column=3)\n",
    "button.pack()\n",
    "\n",
    "root.mainloop()"
   ]
  },
  {
   "cell_type": "code",
   "execution_count": 15,
   "id": "b9bf4444-1257-40cf-ad12-aa2ef6d9e6e8",
   "metadata": {},
   "outputs": [],
   "source": [
    "import tkinter\n",
    "import tkinter.messagebox\n",
    "\n",
    "def popup():\n",
    "    #new_label = tkinter.Label(root,text='Click on the button')\n",
    "    tkinter.messagebox.showinfo(\"Information\",\"GO TOREROS\")\n",
    "    \n",
    "root = tkinter.Tk()\n",
    "root.title(\"Activation form\")\n",
    "root.configure(bg='tan')\n",
    "info_label = tkinter.Label(root,text='Information')\n",
    "info_label.configure(bg='tan')\n",
    "info_label.grid(row=1,column=1)\n",
    "label = tkinter.Label(root, text = \"Click on the button\")\n",
    "label.configure(bg='tan')\n",
    "label.grid(row= 2, column= 0)\n",
    "button = tkinter.Button(root, text=\"Button\",command=popup)\n",
    "button.grid(row=2, column=2)\n",
    "root.mainloop()\n",
    "\n",
    "# search_label.grid(row = 0, column = 0)\n",
    "    "
   ]
  },
  {
   "cell_type": "code",
   "execution_count": null,
   "id": "18a9ad83-e0f3-40b4-a98f-80caf9899919",
   "metadata": {},
   "outputs": [],
   "source": []
  }
 ],
 "metadata": {
  "kernelspec": {
   "display_name": "Python 3",
   "language": "python",
   "name": "python3"
  },
  "language_info": {
   "codemirror_mode": {
    "name": "ipython",
    "version": 3
   },
   "file_extension": ".py",
   "mimetype": "text/x-python",
   "name": "python",
   "nbconvert_exporter": "python",
   "pygments_lexer": "ipython3",
   "version": "3.8.8"
  }
 },
 "nbformat": 4,
 "nbformat_minor": 5
}
