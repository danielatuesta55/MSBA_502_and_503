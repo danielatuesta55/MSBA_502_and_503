{
 "cells": [
  {
   "cell_type": "markdown",
   "id": "6ee04715-8cad-4847-8614-1ee580015d65",
   "metadata": {},
   "source": [
    "# Class 09-28-2022\n",
    "\n",
    "## Functions"
   ]
  },
  {
   "cell_type": "code",
   "execution_count": 18,
   "id": "d62e7e1e-4673-4bd4-8219-182c55558a2f",
   "metadata": {},
   "outputs": [
    {
     "name": "stdin",
     "output_type": "stream",
     "text": [
      "What country are you from? S\n"
     ]
    },
    {
     "name": "stdout",
     "output_type": "stream",
     "text": [
      "You are from: S\n"
     ]
    }
   ],
   "source": [
    "#Write a funtion to know the country form someone is from \n",
    "#default values\n",
    "\n",
    "\"\"\"NOT WORKING PROPERLY MOVING ON\"\"\"\n",
    "\n",
    "def country(default='USA'):\n",
    "    \"\"\"Print the country that the user is from!\"\"\"\n",
    "    \n",
    "    user_country = input(\"What country are you from?\").title()\n",
    "    \n",
    "    if country == \" \":\n",
    "        print(f\"You are from:{default}\")\n",
    "    else:\n",
    "        print(f\"You are from: {user_country}\")\n",
    "    \n",
    "country(\"France\")\n",
    "    "
   ]
  },
  {
   "cell_type": "code",
   "execution_count": 5,
   "id": "7ca6c3fd-fb05-45c3-a852-b970ed9f3510",
   "metadata": {},
   "outputs": [
    {
     "name": "stdout",
     "output_type": "stream",
     "text": [
      "You are from:USA\n"
     ]
    }
   ],
   "source": [
    "#Write a funtion to know the country form someone is from \n",
    "#default values \n",
    "\n",
    "def country(country='USA'):\n",
    "    \"\"\"Print the country that the user is from!\"\"\"\n",
    "    print(f\"You are from:{country}\")\n",
    "\n",
    "#country = input(\"What country are you from?\").title()   \n",
    "\n",
    "country()"
   ]
  },
  {
   "cell_type": "markdown",
   "id": "b1e24d74-3879-4314-8408-518e1b9aa625",
   "metadata": {},
   "source": [
    "# Validating input\n",
    "\n",
    "1. It is good practice to ensure that your code can appropriatley handle anything the user inputs, including unexpected values\n",
    "2. For example we've handled this efore by using repeat.lower() to handel cases where the user may respond in lowecase letters\n",
    "\n",
    "## For numerical validation of input\n",
    "1. For numerical inputs, a good practice is to ensure that the user actualy entered a number\n",
    "2. you can check if an unput is a number by using .isdigit() to see if input contains only digits\n",
    "\n",
    "ex. \"567\".isdigit() = True\n",
    "\n",
    "Python will first attempt to run the contentsof the try block, and if it encoutners an error (exception) it will break \n"
   ]
  },
  {
   "cell_type": "code",
   "execution_count": 29,
   "id": "dd5bcd8a-fe7d-43e9-b3a4-52820f753365",
   "metadata": {},
   "outputs": [
    {
     "name": "stdin",
     "output_type": "stream",
     "text": [
      "Enter a number 1\n"
     ]
    },
    {
     "name": "stdout",
     "output_type": "stream",
     "text": [
      "You successfully entered a number: 1\n"
     ]
    },
    {
     "name": "stdin",
     "output_type": "stream",
     "text": [
      "Do you want to include a new number (yes/no)? y\n",
      "Enter a number 2\n"
     ]
    },
    {
     "name": "stdout",
     "output_type": "stream",
     "text": [
      "You successfully entered a number: 2\n"
     ]
    },
    {
     "name": "stdin",
     "output_type": "stream",
     "text": [
      "Do you want to include a new number (yes/no)? no\n"
     ]
    },
    {
     "name": "stdout",
     "output_type": "stream",
     "text": [
      "here is a list of the values you entered: [1.0, 2.0]\n"
     ]
    }
   ],
   "source": [
    "#Write some code to allow the user to enter as many numers as they like. Ensure that the numbers are numeric or else give the user an explanation not numeric \n",
    "\n",
    "#start while loop for code to run\n",
    "repeat = \"yes\"\n",
    "\n",
    "#Empty list to get the user list    \n",
    "user_number_list =[]\n",
    "\n",
    "while \"y\" in repeat.lower().strip():\n",
    "    \n",
    "    #capture number in raw form \n",
    "    new_number = input(\"Enter a number\")\n",
    "    \n",
    "    #user enters a valid number\n",
    "    if new_number.isdigit():\n",
    "        #Change data type to make future calculations\n",
    "        new_number_float = float(new_number)\n",
    "        \n",
    "        #Append number to list\n",
    "        user_number_list.append(new_number_float)\n",
    "        \n",
    "        #Print to user\n",
    "        print(\"You successfully entered a number:\", new_number)\n",
    "    \n",
    "    #user enter invalid number\n",
    "    else:\n",
    "        print(f\"Sorry, the value entered *{new_number}* is not a number try again\")\n",
    "\n",
    "    \n",
    "    repeat = input(\"Do you want to include a new number (yes/no)?\")\n",
    "    \n",
    "print(f\"here is a list of the values you entered: {user_number_list}\")\n",
    "\n",
    "# def summing(user_number_list):\n",
    "#     for i in user_number_list:\n",
    "#         addition = sum(i)\n",
    "#         print(addition)\n",
    "        \n",
    "# summing(user_number_list)"
   ]
  },
  {
   "cell_type": "markdown",
   "id": "d211b321-3740-481f-8308-8c7542e8778d",
   "metadata": {},
   "source": [
    "# Try and Except\n",
    "\n",
    "below is an example of try and except blocks:\n",
    "\n",
    "try:\n",
    "    number=float(input(\"enter a number:\"\"))\n",
    "    \n",
    "    \n",
    "    \n",
    "except:\n",
    "    print(\"Sorry, you entered an invalid number\")"
   ]
  },
  {
   "cell_type": "code",
   "execution_count": 2,
   "id": "10365d45-8b8b-4c46-8e69-507b35625047",
   "metadata": {},
   "outputs": [
    {
     "name": "stdin",
     "output_type": "stream",
     "text": [
      "enter a number: 3\n"
     ]
    },
    {
     "name": "stdout",
     "output_type": "stream",
     "text": [
      "You have successfully entered a new number 3.0\n"
     ]
    },
    {
     "name": "stdin",
     "output_type": "stream",
     "text": [
      "Do you want to add a new number (yes/no)? y\n",
      "enter a number: 123\n"
     ]
    },
    {
     "name": "stdout",
     "output_type": "stream",
     "text": [
      "You have successfully entered a new number 123.0\n"
     ]
    },
    {
     "name": "stdin",
     "output_type": "stream",
     "text": [
      "Do you want to add a new number (yes/no)? yes\n",
      "enter a number: sdf\n"
     ]
    },
    {
     "name": "stdout",
     "output_type": "stream",
     "text": [
      "Sorry, you entered an invalid number\n"
     ]
    },
    {
     "name": "stdin",
     "output_type": "stream",
     "text": [
      "Do you want to add a new number (yes/no)? no\n"
     ]
    }
   ],
   "source": [
    "#Allow the user to enter as many numbers as desired\n",
    "#Check that each value is a number\n",
    "#if the value is a not numeric, alert the user\n",
    "#Use try-except to handle negatives/floats\n",
    "\n",
    "repeat = \"yes\"\n",
    "\n",
    "#while \"y\" in repeat.lower().strip():\n",
    "while \"y\" in repeat.lower().strip(): \n",
    "    try:\n",
    "        number=float(input(\"enter a number:\"))\n",
    "        print(f\"You have successfully entered a new number {number}\")\n",
    "    except:\n",
    "        print(\"Sorry, you entered an invalid number\")\n",
    "        \n",
    "    repeat = input(\"Do you want to add a new number (yes/no)?\")\n",
    "    "
   ]
  },
  {
   "cell_type": "code",
   "execution_count": 3,
   "id": "37bdcb1c-c52c-4159-8870-187564309873",
   "metadata": {},
   "outputs": [
    {
     "name": "stdout",
     "output_type": "stream",
     "text": [
      "come to U\n"
     ]
    }
   ],
   "source": [
    "Welcome = \"Welcome to USD\"\n",
    "print(Welcome[3:12])"
   ]
  },
  {
   "cell_type": "code",
   "execution_count": 5,
   "id": "6e7878f8-03cf-4106-b394-84c0b4b9e7c8",
   "metadata": {},
   "outputs": [
    {
     "name": "stdout",
     "output_type": "stream",
     "text": [
      "Area: 4\n",
      "2\n"
     ]
    }
   ],
   "source": [
    "def area_of_square(side_length):\n",
    "    area = side_length ** 2\n",
    "    return area\n",
    "\n",
    "a = 2\n",
    "\n",
    "print(\"Area:\", area_of_square(a))\n",
    "\n",
    "print(a)"
   ]
  },
  {
   "cell_type": "code",
   "execution_count": 6,
   "id": "ae54dd27-7fad-43be-a55c-e25bb143a94a",
   "metadata": {},
   "outputs": [
    {
     "name": "stdout",
     "output_type": "stream",
     "text": [
      "2\n",
      "3\n",
      "4\n",
      "6\n",
      "8\n"
     ]
    }
   ],
   "source": [
    "for i in range(2,10,2):\n",
    "    print(i)\n",
    "    if i <3:\n",
    "        print(i+1)"
   ]
  },
  {
   "cell_type": "code",
   "execution_count": 8,
   "id": "56fce82d-6e96-4c1e-ac0a-3830fc8276de",
   "metadata": {},
   "outputs": [
    {
     "name": "stdout",
     "output_type": "stream",
     "text": [
      "3\n",
      "5\n",
      "6\n"
     ]
    }
   ],
   "source": [
    "count = 1\n",
    "\n",
    "x = 1\n",
    "\n",
    "while count <= 3:\n",
    "    if x % 5 == 0 or x % 3 == 0:\n",
    "        count = count + 1\n",
    "        print(x)\n",
    "    x = x + 1"
   ]
  },
  {
   "cell_type": "code",
   "execution_count": 15,
   "id": "2bf075e3-7acd-45c5-a34d-0c187769c2f3",
   "metadata": {},
   "outputs": [
    {
     "name": "stdin",
     "output_type": "stream",
     "text": [
      "Enter a number:  3\n",
      "Add a new number? y\n",
      "Enter a number:  2\n",
      "Add a new number? y\n",
      "Enter a number:  2\n",
      "Add a new number? no\n"
     ]
    },
    {
     "name": "stdout",
     "output_type": "stream",
     "text": [
      "Here is the list of numbers you chose [3, 2, 2]\n",
      "3\n",
      "7\n",
      "2.3333333333333335\n"
     ]
    }
   ],
   "source": [
    "#start while loop\n",
    "repeat = 'yes'\n",
    "\n",
    "#empty list\n",
    "list_numbers = []\n",
    "\n",
    "#Create user defined while loop\n",
    "while 'y' in repeat.strip().lower():\n",
    "    number = int(input(\"Enter a number: \"))\n",
    "    if number > 0:\n",
    "        list_numbers.append(number)\n",
    "        repeat = input(\"Add a new number?\")\n",
    "    else:\n",
    "        print(\"No positive numbers entered\")\n",
    "        repeat = input(\"start again (yes,no)?\")\n",
    "        \n",
    "    \n",
    "\n",
    "print(f\"Here is the list of numbers you chose {list_numbers}\")\n",
    "\n",
    "#Calculations\n",
    "length_list = len(list_numbers)\n",
    "print(length_list)\n",
    "addition_list = sum(list_numbers)\n",
    "print(addition_list)\n",
    "average = addition_list/length_list\n",
    "print(average)"
   ]
  },
  {
   "cell_type": "code",
   "execution_count": 20,
   "id": "e1ede2ff-d755-4118-8795-e5418907754c",
   "metadata": {},
   "outputs": [
    {
     "name": "stdin",
     "output_type": "stream",
     "text": [
      "Enter a number:  1\n",
      "Add a new number (yes/no)? y\n",
      "Enter a number:  2\n",
      "Add a new number (yes/no)? y\n",
      "Enter a number:  3\n",
      "Add a new number (yes/no)? no\n"
     ]
    },
    {
     "name": "stdout",
     "output_type": "stream",
     "text": [
      "Here is a list of the numbers you chose: [1, 2, 3]\n",
      "\n",
      "The length of your list is: 3\n",
      "\n",
      "The sum of your list is: 6\n",
      "\n",
      "The average of your list is: 2.0\n",
      "\n",
      "Thanks for using this program!\n"
     ]
    }
   ],
   "source": [
    "#Start user defined while loop\n",
    "\n",
    "repeat = 'yes'\n",
    "\n",
    "#Create empty list numbers to append user input\n",
    "\n",
    "list_numbers = [ ]\n",
    "\n",
    "#Start user defined while loop\n",
    "\n",
    "while 'y' in repeat.strip().lower():\n",
    "    number = int(input(\"Enter a number: \"))\n",
    "    if number > 0:\n",
    "        list_numbers.append(number)\n",
    "        repeat = input(\"Add a new number (yes/no)?\")\n",
    "\n",
    "    else:\n",
    "        print(\"No positive values where entered\")\n",
    "        repeat = input(\"Do you want to start again\")\n",
    "\n",
    "\n",
    "\n",
    "\n",
    "#Print list to user\n",
    "\n",
    "print(f\"Here is a list of the numbers you chose: {list_numbers}\")\n",
    "\n",
    "#Calc length\n",
    "\n",
    "length_list = len(list_numbers)\n",
    "\n",
    "print()\n",
    "\n",
    "#print length to user\n",
    "\n",
    "print(f\"The length of your list is: {length_list}\")\n",
    "\n",
    "print()\n",
    "\n",
    "#calculate addition\n",
    "\n",
    "addition_list = sum(list_numbers)\n",
    "\n",
    "#print add to user\n",
    "\n",
    "print(f\"The sum of your list is: {addition_list}\")\n",
    "\n",
    "#calc avg\n",
    "\n",
    "average = addition_list/length_list\n",
    "\n",
    "print()\n",
    "\n",
    "#print avg to user\n",
    "\n",
    "print(f\"The average of your list is: {average}\")\n",
    "\n",
    "print()\n",
    "\n",
    "#final goodbye\n",
    "\n",
    "print(\"Thanks for using this program!\")"
   ]
  },
  {
   "cell_type": "code",
   "execution_count": null,
   "id": "ed87b854-2dda-41b3-b1f3-8d31386c32b5",
   "metadata": {},
   "outputs": [],
   "source": [
    "count = 1\n",
    "\n",
    "x = 1\n",
    "\n",
    "while count <= 3:\n",
    "\n",
    "      if x % 5 == 0 or x % 3 == 0:\n",
    "\n",
    "            count = count + 1\n",
    "\n",
    "            print(x)\n",
    "\n",
    "     x = x + 1"
   ]
  },
  {
   "cell_type": "code",
   "execution_count": null,
   "id": "b15aec56-4fe4-4218-9e78-e13f478dd0b0",
   "metadata": {},
   "outputs": [],
   "source": []
  }
 ],
 "metadata": {
  "kernelspec": {
   "display_name": "Python 3",
   "language": "python",
   "name": "python3"
  },
  "language_info": {
   "codemirror_mode": {
    "name": "ipython",
    "version": 3
   },
   "file_extension": ".py",
   "mimetype": "text/x-python",
   "name": "python",
   "nbconvert_exporter": "python",
   "pygments_lexer": "ipython3",
   "version": "3.8.8"
  }
 },
 "nbformat": 4,
 "nbformat_minor": 5
}
