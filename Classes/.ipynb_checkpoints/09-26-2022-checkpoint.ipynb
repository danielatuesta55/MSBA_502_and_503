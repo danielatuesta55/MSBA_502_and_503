{
 "cells": [
  {
   "cell_type": "markdown",
   "id": "0eb65f7c-b339-4391-bb53-33438d1438ae",
   "metadata": {},
   "source": [
    "# CLASS 09-26-22\n",
    "\n",
    "## Functions \n",
    "\n",
    "a function is like a \"program in  aprogram\". It is a block of code that you can reuse over and over. \n",
    "\n",
    "Python has many built-in functions, such as print()\n",
    "or input()\n",
    "\n",
    "Python aslo allows \n",
    "\n",
    "Functions may make use od parameters, or values that it requieres to perform its actions\n"
   ]
  },
  {
   "cell_type": "code",
   "execution_count": 1,
   "id": "2439128e-8d99-4d2d-9996-9f0e5247b04d",
   "metadata": {
    "collapsed": true,
    "jupyter": {
     "outputs_hidden": true
    },
    "tags": []
   },
   "outputs": [
    {
     "name": "stdin",
     "output_type": "stream",
     "text": [
      "Enter a value:  2\n"
     ]
    },
    {
     "name": "stdout",
     "output_type": "stream",
     "text": [
      "your numbers are:  [2]\n"
     ]
    },
    {
     "name": "stdin",
     "output_type": "stream",
     "text": [
      "Enter another value (yes/no)? yes\n",
      "Enter a value:  5\n"
     ]
    },
    {
     "name": "stdout",
     "output_type": "stream",
     "text": [
      "your numbers are:  [2, 5]\n"
     ]
    },
    {
     "name": "stdin",
     "output_type": "stream",
     "text": [
      "Enter another value (yes/no)? yes\n",
      "Enter a value:  6\n"
     ]
    },
    {
     "name": "stdout",
     "output_type": "stream",
     "text": [
      "your numbers are:  [2, 5, 6]\n"
     ]
    },
    {
     "name": "stdin",
     "output_type": "stream",
     "text": [
      "Enter another value (yes/no)? yes\n",
      "Enter a value:  10\n"
     ]
    },
    {
     "name": "stdout",
     "output_type": "stream",
     "text": [
      "your numbers are:  [2, 5, 6, 10]\n"
     ]
    },
    {
     "name": "stdin",
     "output_type": "stream",
     "text": [
      "Enter another value (yes/no)? yes\n",
      "Enter a value:  100\n"
     ]
    },
    {
     "name": "stdout",
     "output_type": "stream",
     "text": [
      "your numbers are:  [2, 5, 6, 10, 100]\n"
     ]
    },
    {
     "name": "stdin",
     "output_type": "stream",
     "text": [
      "Enter another value (yes/no)? no\n"
     ]
    },
    {
     "name": "stdout",
     "output_type": "stream",
     "text": [
      "2 is divisible by  2\n",
      "6 is divisible by  2\n",
      "10 is divisible by  2\n",
      "100 is divisible by  2\n",
      "6 is divisible by  3\n",
      "5 is divisible by  5\n",
      "10 is divisible by  5\n",
      "100 is divisible by  5\n"
     ]
    }
   ],
   "source": [
    "#Ask the user for as many numbers as they would like\n",
    "#Print numbers divisible by 2, then 3, then 5 \n",
    "numbers =[]\n",
    "repeat = 'yes'\n",
    "while repeat.lower().strip() == 'yes':\n",
    "    value = int(input(\"Enter a value: \"))\n",
    "    numbers.append(value)\n",
    "    print('your numbers are: ', numbers)\n",
    "    repeat = input(\"Enter another value (yes/no)?\")\n",
    "\n",
    "\n",
    "def find_divisible(numbers, divide_by):\n",
    "    \"\"\"Print out all numbers divisible by divide_by\"\"\"\n",
    "    for i in numbers:\n",
    "        if i % divide_by == 0:\n",
    "            print(i, \"is divisible by \", divide_by)\n",
    "\n",
    "\n",
    "find_divisible(numbers, 2)\n",
    "find_divisible(numbers, 3)\n",
    "find_divisible(numbers, 5)"
   ]
  },
  {
   "cell_type": "markdown",
   "id": "31e0e601-c82d-4f42-9add-6e5f63ecc41f",
   "metadata": {},
   "source": [
    "## Default values \n",
    "\n",
    "Functions can be defined with deault values for any of their paramenters\n",
    "\n",
    "If no value is entered for the apraments, then the default value is assumed. If a value is entered, then that overrides the default value. \n"
   ]
  },
  {
   "cell_type": "code",
   "execution_count": 10,
   "id": "02daf764-d993-402f-a025-27c17828adf1",
   "metadata": {},
   "outputs": [
    {
     "name": "stdin",
     "output_type": "stream",
     "text": [
      "What type od shape are we calculating? Triangle\n",
      "What is the heigth? 2\n",
      "What is the base? 3\n"
     ]
    },
    {
     "data": {
      "text/plain": [
       "('The area of the triangle is: ', 3.0)"
      ]
     },
     "execution_count": 10,
     "metadata": {},
     "output_type": "execute_result"
    }
   ],
   "source": [
    "#Write function thatdetmines the area of rectangels(b*h) or triangles (0.5*b*h)\n",
    "#Use rectangel as default funcitons\n",
    "# Allow user to enter as many shapes as they desire \n",
    "\n",
    "def areas_of_shapes(b,h, mode=\"rectangle\"):\n",
    "    \"\"\"Prints the area of a rectangle or triangle\"\"\"\n",
    "    if mode == \"rectangle\":\n",
    "        area_rectangle = b*h\n",
    "        return('The area of the rectangle is', area_rectangle)\n",
    "    elif mode ==\"Triangle\":\n",
    "        area_triangle = 0.5 * b * h\n",
    "        return(\"The area of the triangle is:\",area_triangle)\n",
    "    else:\n",
    "        return(mode, \"This mode is not supported\")\n",
    "\n",
    "mode = input(\"What type od shape are we calculating?\")\n",
    "h = float(input(\"What is the heigth?\"))\n",
    "b = float(input(\"What is the base?\"))\n",
    "areas_of_shapes(b,h,mode)   \n",
    "    "
   ]
  },
  {
   "cell_type": "code",
   "execution_count": null,
   "id": "3926989d-be31-46a6-b544-af628a7a73fb",
   "metadata": {},
   "outputs": [],
   "source": []
  }
 ],
 "metadata": {
  "kernelspec": {
   "display_name": "Python 3",
   "language": "python",
   "name": "python3"
  },
  "language_info": {
   "codemirror_mode": {
    "name": "ipython",
    "version": 3
   },
   "file_extension": ".py",
   "mimetype": "text/x-python",
   "name": "python",
   "nbconvert_exporter": "python",
   "pygments_lexer": "ipython3",
   "version": "3.8.8"
  }
 },
 "nbformat": 4,
 "nbformat_minor": 5
}
