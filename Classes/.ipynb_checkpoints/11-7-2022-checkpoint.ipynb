{
 "cells": [
  {
   "cell_type": "markdown",
   "id": "c68d90e2-8c13-4d50-a44e-ab4512c7fcbf",
   "metadata": {},
   "source": [
    "# Object Oriented Programming \n",
    "![object](https://media.giphy.com/media/YYW0hHizzIOrlhimPG/giphy.gif)\n",
    "\n",
    "\n",
    "An Object lets the programmer model different properties and behaviorus of real-worl things\n",
    "- for example you could create an email object. It could have properties like sender and recipient and behaviours like adding attachments and sending the message. \n",
    "\n",
    "Object Operated Programming (OOP) is not neccesarily better or worse tan proceduaral programming. Each approach may have advantages or disadvantages for different applications.\n",
    "\n",
    "## Class structure\n",
    "- Each class starts with a special __int__() method, which helps define its basic attributes\n",
    "\n",
    "## Custom methods\n",
    "\n",
    "you can also create other custom methods for more functionality. For example, for emails, you could put this search_email() method in your class\n",
    "\n",
    "## 'Magic' Methods\n",
    "\n",
    "By default, the clases you make will work with the attributes and methods you define, but they won't work well with other basic Python operations\n",
    "\n",
    "For example on or last animal example, if we print our animal instance, we get:\n",
    "- <__main__.animal object at 0x00...\n",
    "![Magic](Magic_methods.jpeg)\n"
   ]
  },
  {
   "cell_type": "code",
   "execution_count": 1,
   "id": "5e16db8b-0f65-4061-8fb1-6e0a40af41c9",
   "metadata": {},
   "outputs": [
    {
     "name": "stdout",
     "output_type": "stream",
     "text": [
      "Search not found\n"
     ]
    }
   ],
   "source": [
    "class email:\n",
    "    def __init__(self,sender,recipient,text):\n",
    "        self.sender = sender\n",
    "        self.recipient = recipient\n",
    "        self.text = text\n",
    "    def search_email(self,search):\n",
    "        if search in self.text:\n",
    "            print(\"Search found\")\n",
    "        else:\n",
    "            print(\"Search not found\")\n",
    "\n",
    "new_email = email(\"David\",\"Bruce\",\"How are you?\")\n",
    "new_email.search_email(\"Hello\")"
   ]
  },
  {
   "cell_type": "code",
   "execution_count": 14,
   "id": "ffd5d286-d8fe-41c3-ade6-e0ee381f27c9",
   "metadata": {},
   "outputs": [
    {
     "name": "stdout",
     "output_type": "stream",
     "text": [
      "Meow\n",
      "A cat name Goose.\n",
      "Goose\n",
      "A cat name Goose.\n",
      "A Raptor name Bobert.\n",
      "A cat  name  Goose .\n"
     ]
    }
   ],
   "source": [
    "# Method example\n",
    "\n",
    "#create a new class for animals \n",
    "#Create attributes name and species\n",
    "#Create a method for speak()\n",
    "# If the animal is a cat speack() should print meow\n",
    "# If animal is dog speak() should print bark\n",
    "# If animal anything else speak() roar\n",
    "#Create a new instance for a cat named Goose\n",
    "#Use speak on the new instance\n",
    "\n",
    "class animal:\n",
    "    \"\"\"Representes anumals based on their name and species\"\"\"\n",
    "    \n",
    "    def __init__(self,name,species):\n",
    "        \"\"\"Set up animal object\"\"\"\n",
    "        self.name = name\n",
    "        self.species = species\n",
    "        \n",
    "    def speak(self):\n",
    "        \"\"\"Prints out the noise the animal makes \"\"\"\n",
    "        if self.species == \"cat\":\n",
    "            print(\"Meow\")\n",
    "        elif self.species ==\"dog\":\n",
    "            print(\"Bark\")\n",
    "        else:\n",
    "            print(\"Roar\")\n",
    "            \n",
    "    def __str__(self): #This will help print out the contents of the object\n",
    "        \"\"\"Handels the printing of the animal\"\"\"\n",
    "        return \"A \"+ self.species + \" name \" + self.name + \".\"\n",
    "    \n",
    "    def __eq__(self,other):\n",
    "        \"\"\"Compare two animals\"\"\"\n",
    "        if self.name == other.name and self.species == other.species:\n",
    "            return True\n",
    "        else:\n",
    "            return False\n",
    "    \n",
    "\n",
    "new_animal = animal(\"Goose\",\"cat\")\n",
    "second_animal = animal(\"Bobert\",\"Raptor\")\n",
    "new_animal.speak()\n",
    "print(new_animal) #Print the object and location on hard drive\n",
    "print(new_animal.name)#Will print the name or first argument on the class in this case Goose\n",
    "print(new_animal)\n",
    "print(second_animal)\n",
    "print(\"A\" , new_animal.species , \" name \" , new_animal.name , \".\")# Long way! you can just use the __str__ method shown above \n"
   ]
  },
  {
   "cell_type": "code",
   "execution_count": 30,
   "id": "7da6adb9-085b-41a4-a661-a961b06da81d",
   "metadata": {},
   "outputs": [
    {
     "name": "stdin",
     "output_type": "stream",
     "text": [
      "What is the first x coord? 34\n",
      "What is the first y coord 562\n",
      "What is the second x coord? 328\n",
      "What is the second y coord 343\n"
     ]
    },
    {
     "name": "stdout",
     "output_type": "stream",
     "text": [
      "(34,562)\n",
      "(328,343)\n",
      "Points are different\n"
     ]
    }
   ],
   "source": [
    "## define the class\n",
    "class point:\n",
    "    \n",
    "    \"\"\"Class created to set up the points\"\"\"\n",
    "    def __init__(self,x,y):\n",
    "        \"\"\"Sets up point objects\"\"\"\n",
    "        self.x = x\n",
    "        self.y = y\n",
    "    \n",
    "    def __str__(self): #This will help print out the contents of the object\n",
    "        \"\"\"Handels the printing of the coordinates\"\"\"\n",
    "        return \"(\"+ self.x + \",\"+ self.y + \")\"\n",
    "    \n",
    "    def __eq__(self,point):\n",
    "        \"\"\"Compare two animals\"\"\"\n",
    "        if self.x == point.x and self.y == point.y:\n",
    "            return True\n",
    "        else:\n",
    "            return False\n",
    "        \n",
    "p1x = input(\"What is the first x coord?\")\n",
    "p1y = input(\"What is the first y coord\")\n",
    "p2x = input(\"What is the second x coord?\")\n",
    "p2y = input(\"What is the second y coord\")\n",
    "\n",
    "point1= point(p1x,p1y)\n",
    "point2=point(p2x,p2y)\n",
    "\n",
    "print(point1)\n",
    "print(point2)\n",
    "\n",
    "if point1 ==point2:\n",
    "    print(\"The two coordinates are the same\")\n",
    "else:\n",
    "    print(\"Points are different\")\n"
   ]
  },
  {
   "cell_type": "code",
   "execution_count": null,
   "id": "58a8eaf4-0491-4efe-8e02-fe1f52b46229",
   "metadata": {},
   "outputs": [],
   "source": []
  }
 ],
 "metadata": {
  "kernelspec": {
   "display_name": "Python 3",
   "language": "python",
   "name": "python3"
  },
  "language_info": {
   "codemirror_mode": {
    "name": "ipython",
    "version": 3
   },
   "file_extension": ".py",
   "mimetype": "text/x-python",
   "name": "python",
   "nbconvert_exporter": "python",
   "pygments_lexer": "ipython3",
   "version": "3.8.8"
  }
 },
 "nbformat": 4,
 "nbformat_minor": 5
}
