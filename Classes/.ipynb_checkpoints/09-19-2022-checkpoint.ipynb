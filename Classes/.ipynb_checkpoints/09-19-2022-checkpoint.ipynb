{
 "cells": [
  {
   "cell_type": "markdown",
   "id": "bb2817e4-366f-4792-893d-c4eba1fbd76f",
   "metadata": {},
   "source": [
    "# Class 09-19-2022\n",
    "\n",
    "## Review\n",
    "Using \"in\" \n",
    "\n",
    "See if something is present in another present\n",
    "\n",
    "Usre define while loop \n",
    "Escape characters - to enter some special characters in a stiring \n",
    "String slicing - Index vlaues (location of a vlaue in a string itterable!)\n",
    "Looping Index value notation\n",
    "\n",
    "## Lists \n",
    "\n",
    "A list is a collection that has many aspects in common with strings\n",
    "\n",
    "1. Comprised of smaleer pieces\n",
    "2. Indexes are ordered starting from 0\n",
    "3. Slicing works the same way\n",
    "\n",
    "Unlike string, the elements of a list do not have to be characters. A list can be filled with any tupe and mixing types is allowed\n",
    "\n",
    "Lists in real life:\n",
    "1. to do list\n",
    "2. Shopping list\n",
    "3. Resume\n",
    "4. Acomplishments\n",
    "\n",
    "A list is a thing that holds other things! \n",
    "we can have a chors list and grossery list in the same list \"My weekend list\" WE CAN NEST LISTS \n",
    "\n",
    "Normally we do lists vertically but in python they are horizontally. \n",
    "\n",
    "Structure and syntax is new but its something that we already do and we use in our every day life\n",
    "\n",
    "## Elements of a list \n",
    "\n",
    "Any data type! can be in a list! Remeber that. Its a collection of other things! \n",
    "\n",
    "### Lists are itterables! \n",
    "\n",
    "A list is defined with []\n",
    "\n",
    "### Adding elemets into a list\n",
    "the elements will be added at the end of the list unless you tell it the exact position you want to be added.\n",
    "\n",
    "### Printing specific elements\n",
    "\n",
    "We specify using the index of the element in the list \n",
    "print(new_list[4])\n",
    "\n",
    "We can also change the list values at any time:\n",
    "new_list[4] = \"new value\"\n"
   ]
  },
  {
   "cell_type": "code",
   "execution_count": 45,
   "id": "7a2c96a8-d086-4b98-9c5b-762b48e71b55",
   "metadata": {},
   "outputs": [
    {
     "name": "stdout",
     "output_type": "stream",
     "text": [
      "[10, 20, 30, 40, 50, 'test']\n",
      "[]\n",
      "[2]\n",
      "This is an empty list: []\n",
      "This is the list that was populated with the loop [10, 20, 30, 40, 50]\n"
     ]
    }
   ],
   "source": [
    "#Creating a list \n",
    "my_list = [10,20,30,40,50,'test']\n",
    "#Printing the list\n",
    "print(my_list)\n",
    "\n",
    "# we can have blank lists\n",
    "empty_list = []\n",
    "print(empty_list)\n",
    "\n",
    "#We can add values to a list with .append()\n",
    "empty_list.append(2)\n",
    "print(empty_list)\n",
    "\n",
    "#We cna use a loop to add all values to list \n",
    "#We cna use a loop to add all values to list \n",
    "data = [10,20,30,40,50]\n",
    "results=[]\n",
    "print('This is an empty list:',results)\n",
    "for x in data:\n",
    "    results.append(x)\n",
    "print('This is the list that was populated with the loop', results)"
   ]
  },
  {
   "cell_type": "code",
   "execution_count": 46,
   "id": "ea16e7e7-1f97-4590-9f24-6c3db9aa4a21",
   "metadata": {},
   "outputs": [
    {
     "name": "stdout",
     "output_type": "stream",
     "text": [
      "['Apples', 'Bananas', '6 coconuts', 'Strawberries', 'Starfruit', 'WD40']\n",
      "6 coconuts\n",
      "['6 coconuts', 'Strawberries', 'Starfruit', 'WD40']\n",
      "['Apples', 'Bananas', '6 coconuts']\n",
      "Starfruit\n"
     ]
    }
   ],
   "source": [
    "#Created the list\n",
    "grocery_list = ['Apples','Bananas','6 coconuts','Strawberries','Starfruit','WD40']\n",
    "\n",
    "#print the list\n",
    "print(grocery_list)\n",
    "\n",
    "# Print 6 cocunuts\n",
    "print(grocery_list[2])\n",
    "\n",
    "# Print from cocunts to the end\n",
    "print(grocery_list[2:])\n",
    "\n",
    "#Print beggining to 3 index\n",
    "print(grocery_list[:3])\n",
    "\n",
    "#We do not need to know the exact value example\n",
    "\n",
    "get_this_index = 4\n",
    "print(grocery_list[get_this_index]) #Is taking the specific item from the list\n",
    "\n",
    "\n"
   ]
  },
  {
   "cell_type": "code",
   "execution_count": 47,
   "id": "24f9efe5-15b3-4fa4-bb2c-2284250efb47",
   "metadata": {},
   "outputs": [
    {
     "name": "stdout",
     "output_type": "stream",
     "text": [
      "WD40\n"
     ]
    }
   ],
   "source": [
    "# Another way to grab elements\n",
    "var1 = \"12496\"\n",
    "var2 = len(var1)\n",
    "print(grocery_list[var2])"
   ]
  },
  {
   "cell_type": "code",
   "execution_count": 48,
   "id": "fe063290-e7ce-4734-ade7-7f3686f723a2",
   "metadata": {},
   "outputs": [
    {
     "name": "stdout",
     "output_type": "stream",
     "text": [
      "['Zebras']\n",
      "['Zebras', 'Cheethas']\n",
      "['Firewood', 'Cheethas']\n"
     ]
    }
   ],
   "source": [
    "#Create list\n",
    "new_grocery_list =['Zebras']\n",
    "\n",
    "print(new_grocery_list)\n",
    "\n",
    "#Adde - append\n",
    "animal=\"Cheethas\"\n",
    "new_grocery_list.append(animal)\n",
    "print(new_grocery_list)\n",
    "\n",
    "new_grocery_list[0]=\"Firewood\" # This replaces the value zebra for firewood\n",
    "print(new_grocery_list)"
   ]
  },
  {
   "cell_type": "code",
   "execution_count": 49,
   "id": "fa160d57-368b-48b1-b334-2f7f2b16cf64",
   "metadata": {},
   "outputs": [
    {
     "name": "stdout",
     "output_type": "stream",
     "text": [
      "10\n",
      "20\n",
      "30\n",
      "40\n",
      "50\n",
      "test\n",
      "The length of the list called new_list is: 6\n"
     ]
    }
   ],
   "source": [
    "#Looping and printing one element at a time!\n",
    "new_list=[10,20,30,40,50,'test']\n",
    "\n",
    "#for loop\n",
    "for element in new_list:\n",
    "    print(element)\n",
    "\n",
    "#Printing the length of the list \n",
    "print(\"The length of the list called new_list is:\",len(new_list))"
   ]
  },
  {
   "cell_type": "code",
   "execution_count": 51,
   "id": "2f794386-4279-4137-8204-3c9e90b79b21",
   "metadata": {},
   "outputs": [
    {
     "name": "stdout",
     "output_type": "stream",
     "text": [
      "Item 0 in your list is : Apples\n",
      "Item 1 in your list is : Bananas\n",
      "Item 2 in your list is : 6 coconuts\n",
      "Item 3 in your list is : Strawberries\n",
      "Item 4 in your list is : Starfruit\n",
      "Item 5 in your list is : WD40\n"
     ]
    }
   ],
   "source": [
    "grocery_list = ['Apples','Bananas','6 coconuts','Strawberries','Starfruit','WD40']\n",
    "\n",
    "for i in range(0, len(grocery_list),1):#Start value, end value and increments!\n",
    "    print(\"Item\",i,\"in your list is :\",grocery_list[i])# Grab a specific element from the list "
   ]
  },
  {
   "cell_type": "code",
   "execution_count": 52,
   "id": "e47f6d15-0af0-44dd-bbc6-65a3a16eab9f",
   "metadata": {},
   "outputs": [
    {
     "name": "stdout",
     "output_type": "stream",
     "text": [
      "Item 1 in your list is : Apples\n",
      "Item 2 in your list is : Bananas\n",
      "Item 3 in your list is : 6 coconuts\n",
      "Item 4 in your list is : Strawberries\n",
      "Item 5 in your list is : Starfruit\n",
      "Item 6 in your list is : WD40\n"
     ]
    }
   ],
   "source": [
    "grocery_list = ['Apples','Bananas','6 coconuts','Strawberries','Starfruit','WD40']\n",
    "\n",
    "for i in range(0, len(grocery_list),1):#Start value, end value and increments!\n",
    "    print(\"Item\",(i+1),\"in your list is :\",grocery_list[i])# make it user friendly! \n",
    "\n",
    "#This code turns the 0 to 1 for user friendly print! This is needed for HW 3"
   ]
  },
  {
   "cell_type": "markdown",
   "id": "0243e1d0-8487-4c90-be57-9f764a998e7d",
   "metadata": {},
   "source": [
    "# This code turns the 0 to 1 for user friendly print! This is needed for HW 3\n",
    "for i in range(0, len(grocery_list),1):#Start value, end value and increments!\n",
    "\n",
    "    print(\"Item\",(i+1),\"in your list is :\",grocery_list[i])# make it user friendly! "
   ]
  },
  {
   "cell_type": "code",
   "execution_count": 60,
   "id": "98da3a30-95a2-4663-bdb7-932cf6990b05",
   "metadata": {},
   "outputs": [
    {
     "name": "stdin",
     "output_type": "stream",
     "text": [
      "Enter a number:  10\n"
     ]
    },
    {
     "name": "stdout",
     "output_type": "stream",
     "text": [
      "\n",
      " This is your current list: [10.0]\n"
     ]
    },
    {
     "name": "stdin",
     "output_type": "stream",
     "text": [
      "Do you want to add a new number?(yes/no) yes\n",
      "Enter a number:  1231\n"
     ]
    },
    {
     "name": "stdout",
     "output_type": "stream",
     "text": [
      "\n",
      " This is your current list: [10.0, 1231.0]\n"
     ]
    },
    {
     "name": "stdin",
     "output_type": "stream",
     "text": [
      "Do you want to add a new number?(yes/no) yes\n",
      "Enter a number:  900\n"
     ]
    },
    {
     "name": "stdout",
     "output_type": "stream",
     "text": [
      "\n",
      " This is your current list: [10.0, 1231.0, 900.0]\n"
     ]
    },
    {
     "name": "stdin",
     "output_type": "stream",
     "text": [
      "Do you want to add a new number?(yes/no) no\n"
     ]
    },
    {
     "name": "stdout",
     "output_type": "stream",
     "text": [
      "\n",
      " The count of numbers in your list is: 3. \n",
      " The Sum of your list is: 2141.0.\n",
      " The average of your list is: 713.667\n"
     ]
    }
   ],
   "source": [
    "#Ask the user for as many numbers as they would like\n",
    "#If a nyumber is already in the list, verify that the user really wants another entry\n",
    "#once the user is finishes, compute the sum, count and average \n",
    "\n",
    "#import dependencies\n",
    "import pandas as pd\n",
    "import math as math\n",
    "\n",
    "repeat = 'yes'\n",
    "#Created blank list to store all vlaues from user\n",
    "numbers = []\n",
    "\n",
    "while repeat.lower().strip() == 'yes':\n",
    "    #Ask user for a number\n",
    "    new_number = float(input(\"Enter a number: \"))\n",
    "    print()\n",
    "    #Check if number is already in list\n",
    "    if new_number in numbers:\n",
    "        check = input(\"Are you sure you want to enter this number? It's a duplicate. (yes/no)\")\n",
    "        print()\n",
    "        #Logic for if the number is already in the list and they want to add it\n",
    "        if check.lower().strip() == \"yes\":\n",
    "            numbers.append(new_number)\n",
    "            print()\n",
    "        #Logic if they do not want to add it\n",
    "        else:\n",
    "            print(\"Ok, disregarding\", new_number)\n",
    "            \n",
    "    #if its not a number in the list then add it to the list\n",
    "    else:\n",
    "        numbers.append(new_number)\n",
    "    print(' This is your current list:', numbers)\n",
    "    repeat = input('Do you want to add a new number?(yes/no)')\n",
    "\n",
    "print()\n",
    "count = len(numbers)\n",
    "sum_of_list = sum(numbers)\n",
    "Average_of_list = round(sum_of_list / count,3)\n",
    "\n",
    "#Print count, sum and average of the user list!\n",
    "print(' The count of numbers in your list is: {}. \\n The Sum of your list is: {}.\\n The average of your list is: {}'.format(count,sum_of_list,Average_of_list))\n",
    "    \n",
    "    \n",
    "    "
   ]
  },
  {
   "cell_type": "code",
   "execution_count": 76,
   "id": "1fafb9d6-8f8d-4667-bcbb-c81499116435",
   "metadata": {},
   "outputs": [
    {
     "name": "stdout",
     "output_type": "stream",
     "text": [
      "3\n",
      "[['Apples', 'Bananas', '6 coconuts', 'Strawberries', 'Starfruit', 'WD40'], ['CA', 'AZ', 'CO', 'WA', 'MO', 'HI', 'AK'], ['Wedding', 'Vaccum', 'Sweep', 'Pet the cat', 'Water Plants', 75]]\n",
      "6 coconuts\n",
      "6 coconuts\n",
      "Water Plants\n",
      "Apples\n",
      "Bananas\n",
      "6 coconuts\n",
      "Strawberries\n",
      "Starfruit\n",
      "WD40\n",
      "CA\n",
      "AZ\n",
      "CO\n",
      "WA\n",
      "MO\n",
      "HI\n",
      "AK\n",
      "Wedding\n",
      "Vaccum\n",
      "Sweep\n",
      "Pet the cat\n",
      "Water Plants\n",
      "75\n"
     ]
    }
   ],
   "source": [
    "#Creating three different lists\n",
    "\n",
    "grocery_list = ['Apples','Bananas','6 coconuts','Strawberries','Starfruit','WD40']\n",
    "states_list = ['CA','AZ','CO','WA','MO', 'HI','AK']\n",
    "chores_list = ['Wedding','Vaccum','Sweep','Pet the cat','Water Plants',75]\n",
    "\n",
    "#Adding all list into one list. End result is the collection of three lists\n",
    "giga_list =[grocery_list,states_list,chores_list]\n",
    "\n",
    "#See how many elements (lists) are within one list\n",
    "print(len(giga_list))\n",
    "\n",
    "#print the list\n",
    "print(giga_list)\n",
    "\n",
    "#print specific value from a list\n",
    "print(grocery_list[2])\n",
    "\n",
    "#we dont know the total values so we can do the following\n",
    "print(giga_list[0][2]) # first [] tells to grab the first list and then 2 states the to grab the element on index 2\n",
    "\n",
    "#example\n",
    "print(giga_list[2][4])#Grabs the third list and goes to index 4 in this case Water Plants\n",
    "\n",
    "#Print all the items with forloop in gigalist\n",
    "new=[]\n",
    "for i in giga_list:\n",
    "    for x in i:\n",
    "        new.append(x)\n",
    "        print(x)\n",
    "\n"
   ]
  },
  {
   "cell_type": "code",
   "execution_count": 89,
   "id": "aa8f8b3c-b3c5-484c-be87-285dd2c26cb8",
   "metadata": {},
   "outputs": [
    {
     "name": "stdout",
     "output_type": "stream",
     "text": [
      "[]\n",
      "[]\n",
      "Apples\n",
      "['Apples']\n",
      "Bananas\n",
      "['Apples', 'Bananas']\n",
      "6 coconuts\n",
      "['Apples', 'Bananas', '6 coconuts']\n",
      "Strawberries\n",
      "['Apples', 'Bananas', '6 coconuts', 'Strawberries']\n",
      "Starfruit\n",
      "['Apples', 'Bananas', '6 coconuts', 'Strawberries', 'Starfruit']\n",
      "WD40\n",
      "['Apples', 'Bananas', '6 coconuts', 'Strawberries', 'Starfruit', 'WD40']\n",
      "['Apples', 'Bananas', '6 coconuts', 'Strawberries', 'Starfruit', 'WD40']\n",
      "CA\n",
      "['Apples', 'Bananas', '6 coconuts', 'Strawberries', 'Starfruit', 'WD40', 'CA']\n",
      "AZ\n",
      "['Apples', 'Bananas', '6 coconuts', 'Strawberries', 'Starfruit', 'WD40', 'CA', 'AZ']\n",
      "CO\n",
      "['Apples', 'Bananas', '6 coconuts', 'Strawberries', 'Starfruit', 'WD40', 'CA', 'AZ', 'CO']\n",
      "WA\n",
      "['Apples', 'Bananas', '6 coconuts', 'Strawberries', 'Starfruit', 'WD40', 'CA', 'AZ', 'CO', 'WA']\n",
      "MO\n",
      "['Apples', 'Bananas', '6 coconuts', 'Strawberries', 'Starfruit', 'WD40', 'CA', 'AZ', 'CO', 'WA', 'MO']\n",
      "HI\n",
      "['Apples', 'Bananas', '6 coconuts', 'Strawberries', 'Starfruit', 'WD40', 'CA', 'AZ', 'CO', 'WA', 'MO', 'HI']\n",
      "AK\n",
      "['Apples', 'Bananas', '6 coconuts', 'Strawberries', 'Starfruit', 'WD40', 'CA', 'AZ', 'CO', 'WA', 'MO', 'HI', 'AK']\n",
      "['Apples', 'Bananas', '6 coconuts', 'Strawberries', 'Starfruit', 'WD40', 'CA', 'AZ', 'CO', 'WA', 'MO', 'HI', 'AK']\n",
      "Wedding\n",
      "['Apples', 'Bananas', '6 coconuts', 'Strawberries', 'Starfruit', 'WD40', 'CA', 'AZ', 'CO', 'WA', 'MO', 'HI', 'AK', 'Wedding']\n",
      "Vaccum\n",
      "['Apples', 'Bananas', '6 coconuts', 'Strawberries', 'Starfruit', 'WD40', 'CA', 'AZ', 'CO', 'WA', 'MO', 'HI', 'AK', 'Wedding', 'Vaccum']\n",
      "Sweep\n",
      "['Apples', 'Bananas', '6 coconuts', 'Strawberries', 'Starfruit', 'WD40', 'CA', 'AZ', 'CO', 'WA', 'MO', 'HI', 'AK', 'Wedding', 'Vaccum', 'Sweep']\n",
      "Pet the cat\n",
      "['Apples', 'Bananas', '6 coconuts', 'Strawberries', 'Starfruit', 'WD40', 'CA', 'AZ', 'CO', 'WA', 'MO', 'HI', 'AK', 'Wedding', 'Vaccum', 'Sweep', 'Pet the cat']\n",
      "Water Plants\n",
      "['Apples', 'Bananas', '6 coconuts', 'Strawberries', 'Starfruit', 'WD40', 'CA', 'AZ', 'CO', 'WA', 'MO', 'HI', 'AK', 'Wedding', 'Vaccum', 'Sweep', 'Pet the cat', 'Water Plants']\n",
      "75\n",
      "Item 1 in your list is : ['Apples', 'Bananas', '6 coconuts', 'Strawberries', 'Starfruit', 'WD40']\n"
     ]
    },
    {
     "ename": "IndexError",
     "evalue": "list index out of range",
     "output_type": "error",
     "traceback": [
      "\u001b[1;31m---------------------------------------------------------------------------\u001b[0m",
      "\u001b[1;31mIndexError\u001b[0m                                Traceback (most recent call last)",
      "\u001b[1;32m<ipython-input-89-12de1602c1f4>\u001b[0m in \u001b[0;36m<module>\u001b[1;34m\u001b[0m\n\u001b[0;32m     21\u001b[0m \u001b[1;32mfor\u001b[0m \u001b[0mi\u001b[0m \u001b[1;32min\u001b[0m \u001b[0mgiga_list\u001b[0m\u001b[1;33m:\u001b[0m\u001b[1;33m\u001b[0m\u001b[1;33m\u001b[0m\u001b[0m\n\u001b[0;32m     22\u001b[0m     \u001b[1;32mfor\u001b[0m \u001b[0mx\u001b[0m \u001b[1;32min\u001b[0m \u001b[0mrange\u001b[0m\u001b[1;33m(\u001b[0m\u001b[1;36m0\u001b[0m\u001b[1;33m,\u001b[0m\u001b[1;33m(\u001b[0m\u001b[0mlen\u001b[0m\u001b[1;33m(\u001b[0m\u001b[0mnew\u001b[0m\u001b[1;33m)\u001b[0m\u001b[1;33m-\u001b[0m\u001b[1;36m1\u001b[0m\u001b[1;33m)\u001b[0m\u001b[1;33m,\u001b[0m\u001b[1;36m1\u001b[0m\u001b[1;33m)\u001b[0m\u001b[1;33m:\u001b[0m\u001b[1;33m\u001b[0m\u001b[1;33m\u001b[0m\u001b[0m\n\u001b[1;32m---> 23\u001b[1;33m         \u001b[0mprint\u001b[0m\u001b[1;33m(\u001b[0m\u001b[1;34m\"Item\"\u001b[0m\u001b[1;33m,\u001b[0m\u001b[1;33m(\u001b[0m\u001b[0mx\u001b[0m\u001b[1;33m+\u001b[0m\u001b[1;36m1\u001b[0m\u001b[1;33m)\u001b[0m\u001b[1;33m,\u001b[0m\u001b[1;34m\"in your list is :\"\u001b[0m\u001b[1;33m,\u001b[0m\u001b[1;33m[\u001b[0m\u001b[0mi\u001b[0m\u001b[1;33m]\u001b[0m\u001b[1;33m[\u001b[0m\u001b[0mx\u001b[0m\u001b[1;33m]\u001b[0m\u001b[1;33m)\u001b[0m\u001b[1;33m\u001b[0m\u001b[1;33m\u001b[0m\u001b[0m\n\u001b[0m",
      "\u001b[1;31mIndexError\u001b[0m: list index out of range"
     ]
    }
   ],
   "source": [
    "\n",
    "        \n",
    "grocery_list = ['Apples','Bananas','6 coconuts','Strawberries','Starfruit','WD40']\n",
    "states_list = ['CA','AZ','CO','WA','MO', 'HI','AK']\n",
    "chores_list = ['Wedding','Vaccum','Sweep','Pet the cat','Water Plants',75]\n",
    "\n",
    "\n",
    "#Adding all list into one list. End result is the collection of three lists\n",
    "giga_list =[grocery_list,states_list,chores_list]\n",
    "\n",
    "#Print all the items with forloop in gigalist\n",
    "new=[]\n",
    "for i in giga_list:\n",
    "    print(new)\n",
    "    for x in i:\n",
    "        print(new)\n",
    "        new.append(x)\n",
    "        print(x)\n",
    "\n",
    "\n",
    "#Print all the items with forloop in gigalist\n",
    "\n",
    "for i in giga_list:\n",
    "    for x in range(0,(len(new)-1),1):\n",
    "        print(\"Item\",(x+1),\"in your list is :\",[i][x])"
   ]
  },
  {
   "cell_type": "code",
   "execution_count": null,
   "id": "73e99bd2-4466-4b85-882b-b230e3d0d36f",
   "metadata": {},
   "outputs": [],
   "source": []
  }
 ],
 "metadata": {
  "kernelspec": {
   "display_name": "Python 3",
   "language": "python",
   "name": "python3"
  },
  "language_info": {
   "codemirror_mode": {
    "name": "ipython",
    "version": 3
   },
   "file_extension": ".py",
   "mimetype": "text/x-python",
   "name": "python",
   "nbconvert_exporter": "python",
   "pygments_lexer": "ipython3",
   "version": "3.8.8"
  }
 },
 "nbformat": 4,
 "nbformat_minor": 5
}
