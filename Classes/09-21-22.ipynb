{
 "cells": [
  {
   "cell_type": "markdown",
   "id": "fa785e79-7c3f-4acb-b220-49a4b0fa4efe",
   "metadata": {},
   "source": [
    "# Class 09-21-2022\n",
    "\n",
    "Given two lists write code that determines if a value "
   ]
  },
  {
   "cell_type": "code",
   "execution_count": 8,
   "id": "50723019-24db-45f0-a0e4-818a36192d5b",
   "metadata": {},
   "outputs": [
    {
     "name": "stdin",
     "output_type": "stream",
     "text": [
      "Enter your search:  5\n"
     ]
    },
    {
     "name": "stdout",
     "output_type": "stream",
     "text": [
      "The number is in list 1.\n"
     ]
    },
    {
     "name": "stdin",
     "output_type": "stream",
     "text": [
      "Do you want to do another search? (yes/no) yes\n",
      "Enter your search:  10\n"
     ]
    },
    {
     "name": "stdout",
     "output_type": "stream",
     "text": [
      "The number is in both lists.\n"
     ]
    },
    {
     "name": "stdin",
     "output_type": "stream",
     "text": [
      "Do you want to do another search? (yes/no) yes\n",
      "Enter your search:  100\n"
     ]
    },
    {
     "name": "stdout",
     "output_type": "stream",
     "text": [
      "Search termn 100 is not in list 1 or list 2.\n"
     ]
    },
    {
     "name": "stdin",
     "output_type": "stream",
     "text": [
      "Do you want to do another search? (yes/no) no\n"
     ]
    }
   ],
   "source": [
    "#Start with two predefined lists\n",
    "#ask user for a search term\n",
    "#Determine if the search term is in both, one, or neither lists\n",
    "#Print out results\n",
    "\n",
    "list1=[5,10,15,20,25,30]\n",
    "list2=[0,10,20,30,40,50]\n",
    "tryAgain ='yes'\n",
    "\n",
    "while tryAgain == 'yes':\n",
    "    number = int(input('Enter your search: '))\n",
    "\n",
    "    if number in list1 and number in list2:\n",
    "        print(\"The number is in both lists.\")\n",
    "        tryAgain = input('Do you want to do another search? (yes/no)').strip().lower()\n",
    "        print()\n",
    "    elif number in list1:\n",
    "        print('The number is in list 1.')\n",
    "        tryAgain = input('Do you want to do another search? (yes/no)').strip().lower()\n",
    "        print()\n",
    "    elif number in list2:\n",
    "        print('The number is in list 2')\n",
    "        tryAgain = input('Do you want to do another search? (yes/no)').strip().lower()\n",
    "        print()\n",
    "    else:\n",
    "        print(\"Search termn {} is not in list 1 or list 2.\".format(number))\n",
    "        tryAgain = input('Do you want to do another search? (yes/no)').strip().lower()\n",
    "        print()"
   ]
  },
  {
   "cell_type": "markdown",
   "id": "b3731975-b983-40da-9d06-83e53c85ebe6",
   "metadata": {},
   "source": [
    "# Random\n",
    "\n",
    "Often, it is useful to incorporate a random value in your programming\n",
    "    -For example, if you are programming a game, you might want the computer to be unpredictable\n",
    "    \n",
    "In practice, it is impossible for the computer to generate a truly random number\n",
    "\n",
    "Instead, the computer uses pseudorandom numbers. These numbers look random, but they actually do follow a pattern if you know the method.\n",
    "\n",
    "The mid square method starts with a \"seed\" value.\n",
    "- The seed alue is squared\n",
    "- The middel digit in the squared value are the outputted pseudorandom number\n",
    "- The outputted pseudorandom number becomes the new seed and the process repeats\n",
    "\n",
    "## The random Module\n",
    "\n",
    "We can impor the random module, which asks Python to automatically generate random numbers without us needing to program the ourselves\n",
    "-import random \n",
    "\n",
    "### functions of Random\n",
    "\n",
    "Random seed - random.seed(x)\n",
    "- Sets the initial seed for the pseudo random number generator. If not speciifed the module will use the current time as the seed \n",
    "random.random()\n",
    "- Returns a pseudorandom float bewteen 0.0 and 1.0\n",
    "random.randrange(start,stop)\n",
    "- Returns a pseudorandom integer bewteen start and stop. The stop value is excluded, just like for a loop\n"
   ]
  },
  {
   "cell_type": "code",
   "execution_count": 17,
   "id": "0521c429-e6a6-4736-a773-29eeb473c3c8",
   "metadata": {},
   "outputs": [
    {
     "name": "stdin",
     "output_type": "stream",
     "text": [
      "How many numbers? 5\n",
      "lower bound? 1\n",
      "upper bound? 100\n"
     ]
    },
    {
     "name": "stdout",
     "output_type": "stream",
     "text": [
      "60\n",
      "89\n",
      "53\n",
      "97\n",
      "23\n"
     ]
    },
    {
     "name": "stdin",
     "output_type": "stream",
     "text": [
      "Do you want to repeat no\n"
     ]
    }
   ],
   "source": [
    "#Ask the user for 1) how many numbers they want2) lower bound 3) the upper bound\n",
    "#Generate and print these random numbers\n",
    "#Try with a seed of 1 and without a seed\n",
    "\n",
    "#Import dependencies \n",
    "import random\n",
    "\n",
    "#random.seed() #Start here as seed if you have a number here it will always produce the same numbers since its starting from that number if you dont put a value the computer system outcome will be seed value\n",
    "repeat = 'yes'\n",
    "while repeat == 'yes':\n",
    "    count = int(input('How many numbers?'))\n",
    "    lower = int(input('lower bound?'))\n",
    "    upper = int(input(\"upper bound?\"))\n",
    "\n",
    "    for i in range(1, count + 1, 1):\n",
    "        print(random.randrange(lower, upper +1))\n",
    "    repeat = input('Do you want to repeat').lower().strip()\n"
   ]
  },
  {
   "cell_type": "code",
   "execution_count": 23,
   "id": "ceb407c4-d88f-4559-bac5-7912e75b6288",
   "metadata": {},
   "outputs": [
    {
     "name": "stdin",
     "output_type": "stream",
     "text": [
      "What is the stock price? 5\n",
      "How many days would you like to simulate? 4\n"
     ]
    },
    {
     "name": "stdout",
     "output_type": "stream",
     "text": [
      "After 1 day(s), the stock price is: 8.0\n",
      "After 2 day(s), the stock price is: 10.0\n",
      "After 3 day(s), the stock price is: 13.0\n",
      "After 4 day(s), the stock price is: 16.0\n"
     ]
    }
   ],
   "source": [
    "#Ask the user for the starting price of the stock\n",
    "#Ask the user for the simulation length\n",
    "#For each day, have the stock retun bewteeen +$3 and -$1\n",
    "\n",
    "import random\n",
    "stock_price = float(input('What is the stock price?'))\n",
    "sim_length = int(input(\"How many days would you like to simulate?\"))\n",
    "\n",
    "for i in range(1,sim_length+1, 1):\n",
    "    change = random.randrange(-1,4)\n",
    "    stock_price = stock_price + change\n",
    "    print(\"After\", i , \"day(s), the stock price is:\",stock_price)"
   ]
  },
  {
   "cell_type": "code",
   "execution_count": 25,
   "id": "751f2a1a-ff0a-4667-92b6-f6d20dc62c6d",
   "metadata": {},
   "outputs": [
    {
     "name": "stdin",
     "output_type": "stream",
     "text": [
      "Enter a value:  3\n"
     ]
    },
    {
     "name": "stdout",
     "output_type": "stream",
     "text": [
      "your numbers are:  [3]\n"
     ]
    },
    {
     "name": "stdin",
     "output_type": "stream",
     "text": [
      "Enter another value (yes/no)? yes\n",
      "Enter a value:  5\n"
     ]
    },
    {
     "name": "stdout",
     "output_type": "stream",
     "text": [
      "your numbers are:  [3, 5]\n"
     ]
    },
    {
     "name": "stdin",
     "output_type": "stream",
     "text": [
      "Enter another value (yes/no)? yes\n",
      "Enter a value:  6\n"
     ]
    },
    {
     "name": "stdout",
     "output_type": "stream",
     "text": [
      "your numbers are:  [3, 5, 6]\n"
     ]
    },
    {
     "name": "stdin",
     "output_type": "stream",
     "text": [
      "Enter another value (yes/no)? yes\n",
      "Enter a value:  10\n"
     ]
    },
    {
     "name": "stdout",
     "output_type": "stream",
     "text": [
      "your numbers are:  [3, 5, 6, 10]\n"
     ]
    },
    {
     "name": "stdin",
     "output_type": "stream",
     "text": [
      "Enter another value (yes/no)? no\n"
     ]
    },
    {
     "name": "stdout",
     "output_type": "stream",
     "text": [
      "3  is divisible by 3\n",
      "5  is divisible by 5\n",
      "6  is divisible by 2\n",
      "10  is divisible by 2\n"
     ]
    }
   ],
   "source": [
    "#Ask the user for as many numbers as they would like\n",
    "#Print numbers divisible by 2, then 3, then 5 \n",
    "\n",
    "repeat = 'yes'\n",
    "\n",
    "numbers =[]\n",
    "\n",
    "while repeat.lower().strip() == 'yes':\n",
    "    value = int(input(\"Enter a value: \"))\n",
    "    numbers.append(value)\n",
    "    print('your numbers are: ', numbers)\n",
    "    repeat = input(\"Enter another value (yes/no)?\")\n",
    "    \n",
    "for i in numbers:\n",
    "    if i % 2 == 0:\n",
    "        print(i,\" is divisible by 2\")\n",
    "    elif i % 3 == 0:\n",
    "        print(i, \" is divisible by 3\")\n",
    "    elif  i % 5 == 0:\n",
    "        print(i, \" is divisible by 5\")\n",
    "    else:\n",
    "        print(\"Not an integer\")\n",
    "        \n",
    "\n"
   ]
  },
  {
   "cell_type": "code",
   "execution_count": null,
   "id": "d9dbbc78-ef95-47c5-854f-c63f32ef0279",
   "metadata": {},
   "outputs": [],
   "source": [
    "#Ask the user for as many numbers as they would like\n",
    "#Print numbers divisible by 2, then 3, then 5 \n",
    "\n",
    "repeat = 'yes'\n",
    "\n",
    "numbers =[]\n",
    "\n",
    "while repeat.lower().strip() == 'yes':\n",
    "    value = int(input(\"Enter a value: \"))\n",
    "    numbers.append(value)\n",
    "    print('your numbers are: ', numbers)\n",
    "    repeat = input(\"Enter another value (yes/no)?\")\n",
    "    \n",
    "for i in numbers:\n",
    "    if i % 2 == 0:\n",
    "        print(i,\" is divisible by 2\")\n",
    "for i in numbers:\n",
    "    if i % 3 == 0:\n",
    "        print(i, \" is divisible by 3\")\n",
    "        \n",
    "for i % 5 == 0:\n",
    "    print(i, \" is divisible by 5\")\n",
    "    "
   ]
  },
  {
   "cell_type": "code",
   "execution_count": 27,
   "id": "e8e811d2-d209-4ad7-bd39-e02f272dda88",
   "metadata": {},
   "outputs": [
    {
     "name": "stdin",
     "output_type": "stream",
     "text": [
      "Enter a value:  10\n"
     ]
    },
    {
     "name": "stdout",
     "output_type": "stream",
     "text": [
      "your numbers are:  [10]\n"
     ]
    },
    {
     "name": "stdin",
     "output_type": "stream",
     "text": [
      "Enter another value (yes/no)? yes\n",
      "Enter a value:  5\n"
     ]
    },
    {
     "name": "stdout",
     "output_type": "stream",
     "text": [
      "your numbers are:  [10, 5]\n"
     ]
    },
    {
     "name": "stdin",
     "output_type": "stream",
     "text": [
      "Enter another value (yes/no)? yes\n",
      "Enter a value:  20\n"
     ]
    },
    {
     "name": "stdout",
     "output_type": "stream",
     "text": [
      "your numbers are:  [10, 5, 20]\n"
     ]
    },
    {
     "name": "stdin",
     "output_type": "stream",
     "text": [
      "Enter another value (yes/no)? yes\n",
      "Enter a value:  30\n"
     ]
    },
    {
     "name": "stdout",
     "output_type": "stream",
     "text": [
      "your numbers are:  [10, 5, 20, 30]\n"
     ]
    },
    {
     "name": "stdin",
     "output_type": "stream",
     "text": [
      "Enter another value (yes/no)? no\n"
     ]
    },
    {
     "name": "stdout",
     "output_type": "stream",
     "text": [
      "10  is divisible by 2\n",
      "10  is divisible by 5\n",
      "5  is divisible by 5\n",
      "20  is divisible by 2\n",
      "20  is divisible by 5\n",
      "30  is divisible by 2\n",
      "30  is divisible by 3\n",
      "30  is divisible by 5\n"
     ]
    }
   ],
   "source": [
    "#Ask the user for as many numbers as they would like\n",
    "#Print numbers divisible by 2, then 3, then 5 \n",
    "\n",
    "repeat = 'yes'\n",
    "\n",
    "numbers =[]\n",
    "\n",
    "while repeat.lower().strip() == 'yes':\n",
    "    value = int(input(\"Enter a value: \"))\n",
    "    numbers.append(value)\n",
    "    print('your numbers are: ', numbers)\n",
    "    repeat = input(\"Enter another value (yes/no)?\")\n",
    "    \n",
    "for i in numbers:\n",
    "    if i % 2 == 0:\n",
    "        print(i,\" is divisible by 2\")\n",
    "    if i % 3 == 0:\n",
    "        print(i, \" is divisible by 3\")\n",
    "    if  i % 5 == 0:\n",
    "        print(i, \" is divisible by 5\")\n",
    "    else:\n",
    "        print(\"Not an integer\")"
   ]
  },
  {
   "cell_type": "markdown",
   "id": "b8744d45-8c7e-495b-aacf-badbf0b9fb97",
   "metadata": {},
   "source": [
    "# Functions\n",
    "\n",
    "A function may make use of parameters or vlaues that it requires to preform its actions\n",
    "- function cannont \"see\" the rest of your progrma, so this gives the function enough information to get started\n",
    "\n",
    "For example, the input() function has one parameter called prompt. This is the string the user sees in the shell when they type in their response\n",
    "\n",
    "A function can have zero to many parameters\n",
    "\n",
    "#### Always use doc string when creating a function! \"\"\"doc string\"\"\" This will explain what the function does and how it does it."
   ]
  },
  {
   "cell_type": "code",
   "execution_count": 42,
   "id": "583bd168-8857-49cd-9ed4-ac621a6ed176",
   "metadata": {},
   "outputs": [
    {
     "data": {
      "text/plain": [
       "12"
      ]
     },
     "execution_count": 42,
     "metadata": {},
     "output_type": "execute_result"
    }
   ],
   "source": [
    "#Create a function that adds up two numbers\n",
    "\n",
    "def add_numbers(number1, number2):\n",
    "    \"\"\"this function prints the sum of two numbres\"\"\"\n",
    "    sum = number1 + number2\n",
    "    return sum\n",
    "add_numbers(5,7)"
   ]
  },
  {
   "cell_type": "code",
   "execution_count": 52,
   "id": "151f68bc-c7c0-44bc-81f8-01cce4d05090",
   "metadata": {},
   "outputs": [
    {
     "ename": "KeyboardInterrupt",
     "evalue": "Interrupted by user",
     "output_type": "error",
     "traceback": [
      "\u001b[1;31m---------------------------------------------------------------------------\u001b[0m",
      "\u001b[1;31mKeyboardInterrupt\u001b[0m                         Traceback (most recent call last)",
      "\u001b[1;32m<ipython-input-52-e37a32e026f2>\u001b[0m in \u001b[0;36m<module>\u001b[1;34m\u001b[0m\n\u001b[0;32m      4\u001b[0m \u001b[0mrepeat\u001b[0m \u001b[1;33m=\u001b[0m \u001b[1;34m'yes'\u001b[0m\u001b[1;33m\u001b[0m\u001b[1;33m\u001b[0m\u001b[0m\n\u001b[0;32m      5\u001b[0m \u001b[1;32mwhile\u001b[0m \u001b[0mrepeat\u001b[0m\u001b[1;33m.\u001b[0m\u001b[0mlower\u001b[0m\u001b[1;33m(\u001b[0m\u001b[1;33m)\u001b[0m\u001b[1;33m.\u001b[0m\u001b[0mstrip\u001b[0m\u001b[1;33m(\u001b[0m\u001b[1;33m)\u001b[0m \u001b[1;33m==\u001b[0m \u001b[1;34m'yes'\u001b[0m\u001b[1;33m:\u001b[0m\u001b[1;33m\u001b[0m\u001b[1;33m\u001b[0m\u001b[0m\n\u001b[1;32m----> 6\u001b[1;33m     \u001b[0mvalue\u001b[0m \u001b[1;33m=\u001b[0m \u001b[0mint\u001b[0m\u001b[1;33m(\u001b[0m\u001b[0minput\u001b[0m\u001b[1;33m(\u001b[0m\u001b[1;34m\"Enter a value: \"\u001b[0m\u001b[1;33m)\u001b[0m\u001b[1;33m)\u001b[0m\u001b[1;33m\u001b[0m\u001b[1;33m\u001b[0m\u001b[0m\n\u001b[0m\u001b[0;32m      7\u001b[0m     \u001b[0mnumbers\u001b[0m\u001b[1;33m.\u001b[0m\u001b[0mappend\u001b[0m\u001b[1;33m(\u001b[0m\u001b[0mvalue\u001b[0m\u001b[1;33m)\u001b[0m\u001b[1;33m\u001b[0m\u001b[1;33m\u001b[0m\u001b[0m\n\u001b[0;32m      8\u001b[0m     \u001b[0mprint\u001b[0m\u001b[1;33m(\u001b[0m\u001b[1;34m'your numbers are: '\u001b[0m\u001b[1;33m,\u001b[0m \u001b[0mnumbers\u001b[0m\u001b[1;33m)\u001b[0m\u001b[1;33m\u001b[0m\u001b[1;33m\u001b[0m\u001b[0m\n",
      "\u001b[1;32m~\\anaconda3\\lib\\site-packages\\ipykernel\\kernelbase.py\u001b[0m in \u001b[0;36mraw_input\u001b[1;34m(self, prompt)\u001b[0m\n\u001b[0;32m    858\u001b[0m                 \u001b[1;34m\"raw_input was called, but this frontend does not support input requests.\"\u001b[0m\u001b[1;33m\u001b[0m\u001b[1;33m\u001b[0m\u001b[0m\n\u001b[0;32m    859\u001b[0m             )\n\u001b[1;32m--> 860\u001b[1;33m         return self._input_request(str(prompt),\n\u001b[0m\u001b[0;32m    861\u001b[0m             \u001b[0mself\u001b[0m\u001b[1;33m.\u001b[0m\u001b[0m_parent_ident\u001b[0m\u001b[1;33m,\u001b[0m\u001b[1;33m\u001b[0m\u001b[1;33m\u001b[0m\u001b[0m\n\u001b[0;32m    862\u001b[0m             \u001b[0mself\u001b[0m\u001b[1;33m.\u001b[0m\u001b[0m_parent_header\u001b[0m\u001b[1;33m,\u001b[0m\u001b[1;33m\u001b[0m\u001b[1;33m\u001b[0m\u001b[0m\n",
      "\u001b[1;32m~\\anaconda3\\lib\\site-packages\\ipykernel\\kernelbase.py\u001b[0m in \u001b[0;36m_input_request\u001b[1;34m(self, prompt, ident, parent, password)\u001b[0m\n\u001b[0;32m    902\u001b[0m             \u001b[1;32mexcept\u001b[0m \u001b[0mKeyboardInterrupt\u001b[0m\u001b[1;33m:\u001b[0m\u001b[1;33m\u001b[0m\u001b[1;33m\u001b[0m\u001b[0m\n\u001b[0;32m    903\u001b[0m                 \u001b[1;31m# re-raise KeyboardInterrupt, to truncate traceback\u001b[0m\u001b[1;33m\u001b[0m\u001b[1;33m\u001b[0m\u001b[1;33m\u001b[0m\u001b[0m\n\u001b[1;32m--> 904\u001b[1;33m                 \u001b[1;32mraise\u001b[0m \u001b[0mKeyboardInterrupt\u001b[0m\u001b[1;33m(\u001b[0m\u001b[1;34m\"Interrupted by user\"\u001b[0m\u001b[1;33m)\u001b[0m \u001b[1;32mfrom\u001b[0m \u001b[1;32mNone\u001b[0m\u001b[1;33m\u001b[0m\u001b[1;33m\u001b[0m\u001b[0m\n\u001b[0m\u001b[0;32m    905\u001b[0m             \u001b[1;32mexcept\u001b[0m \u001b[0mException\u001b[0m \u001b[1;32mas\u001b[0m \u001b[0me\u001b[0m\u001b[1;33m:\u001b[0m\u001b[1;33m\u001b[0m\u001b[1;33m\u001b[0m\u001b[0m\n\u001b[0;32m    906\u001b[0m                 \u001b[0mself\u001b[0m\u001b[1;33m.\u001b[0m\u001b[0mlog\u001b[0m\u001b[1;33m.\u001b[0m\u001b[0mwarning\u001b[0m\u001b[1;33m(\u001b[0m\u001b[1;34m\"Invalid Message:\"\u001b[0m\u001b[1;33m,\u001b[0m \u001b[0mexc_info\u001b[0m\u001b[1;33m=\u001b[0m\u001b[1;32mTrue\u001b[0m\u001b[1;33m)\u001b[0m\u001b[1;33m\u001b[0m\u001b[1;33m\u001b[0m\u001b[0m\n",
      "\u001b[1;31mKeyboardInterrupt\u001b[0m: Interrupted by user"
     ]
    }
   ],
   "source": [
    "#Ask the user for as many numbers as they would like\n",
    "#Print numbers divisible by 2, then 3, then 5 \n",
    "numbers =[]\n",
    "repeat = 'yes'\n",
    "while repeat.lower().strip() == 'yes':\n",
    "    value = int(input(\"Enter a value: \"))\n",
    "    numbers.append(value)\n",
    "    print('your numbers are: ', numbers)\n",
    "    repeat = input(\"Enter another value (yes/no)?\")\n",
    "\n",
    "\n",
    "def find_divisible(numbers, divide_by):\n",
    "    \"\"\"Print out all numbers divisible by divide_by\"\"\"\n",
    "    for i in numbers:\n",
    "        if i % divide_by == 0:\n",
    "            print(i, \"is divisible by \", divide_by)\n",
    "\n",
    "\n",
    "find_divisible(numbers, 2)\n",
    "find_divisible(numbers, 3)\n",
    "find_divisible(numbers, 5)\n",
    " "
   ]
  }
 ],
 "metadata": {
  "kernelspec": {
   "display_name": "Python 3",
   "language": "python",
   "name": "python3"
  },
  "language_info": {
   "codemirror_mode": {
    "name": "ipython",
    "version": 3
   },
   "file_extension": ".py",
   "mimetype": "text/x-python",
   "name": "python",
   "nbconvert_exporter": "python",
   "pygments_lexer": "ipython3",
   "version": "3.8.8"
  }
 },
 "nbformat": 4,
 "nbformat_minor": 5
}
