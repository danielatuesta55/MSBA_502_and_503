{
 "cells": [
  {
   "cell_type": "markdown",
   "id": "82af124d-b95b-4558-bddd-4c40f7051c9a",
   "metadata": {},
   "source": [
    "# Test 1 \n",
    "\n",
    "Jorge Daniel Atuesta "
   ]
  },
  {
   "cell_type": "code",
   "execution_count": 33,
   "id": "12a19d65-b45f-4116-9173-51ba03872a51",
   "metadata": {},
   "outputs": [
    {
     "name": "stdout",
     "output_type": "stream",
     "text": [
      "14\n",
      "8\n",
      "10\n"
     ]
    }
   ],
   "source": [
    "x = 5\n",
    "\n",
    "y = x + 3\n",
    "\n",
    "x = x - 1\n",
    "\n",
    "z = 10\n",
    "\n",
    "x = x + z\n",
    "\n",
    "print(x)\n",
    "print(y)\n",
    "print(z)"
   ]
  },
  {
   "cell_type": "code",
   "execution_count": 3,
   "id": "868e892b-fd33-4138-a1b9-6a3f9d4f34bd",
   "metadata": {},
   "outputs": [
    {
     "name": "stdin",
     "output_type": "stream",
     "text": [
      "How old are you?  45\n",
      "What is your name?  Anya\n"
     ]
    },
    {
     "name": "stdout",
     "output_type": "stream",
     "text": [
      "Start\n",
      "Go to work, Anya\n",
      "Completed\n"
     ]
    }
   ],
   "source": [
    "age = int(input(\"How old are you? \"))\n",
    "name = input(\"What is your name? \")\n",
    "\n",
    "print(\"Start\")\n",
    "if age < 10:\n",
    "      if name == \"Anya\":\n",
    "           print(\"Do your homework, Anya\")\n",
    "else:\n",
    "       print(\"Go to work,\", name)\n",
    "print(\"Completed\")"
   ]
  },
  {
   "cell_type": "code",
   "execution_count": 7,
   "id": "04c2726a-2ec9-49f6-ae71-8ead3df9422b",
   "metadata": {},
   "outputs": [],
   "source": [
    "num = 5\n",
    "num = str(num)"
   ]
  },
  {
   "cell_type": "code",
   "execution_count": 8,
   "id": "870f2803-359b-4481-ae6a-1d6cc816d15c",
   "metadata": {},
   "outputs": [
    {
     "data": {
      "text/plain": [
       "str"
      ]
     },
     "execution_count": 8,
     "metadata": {},
     "output_type": "execute_result"
    }
   ],
   "source": [
    "type(num)"
   ]
  },
  {
   "cell_type": "code",
   "execution_count": 10,
   "id": "43c15866-6af8-4b56-937f-b5eeb59a5043",
   "metadata": {},
   "outputs": [
    {
     "name": "stdout",
     "output_type": "stream",
     "text": [
      "24.0\n"
     ]
    }
   ],
   "source": [
    "print(2 + 5 ** (1 + 1) - 6 / 2)\n",
    "\n"
   ]
  },
  {
   "cell_type": "code",
   "execution_count": 15,
   "id": "2dc428d6-2184-4a2f-a0bc-4433ee2324d5",
   "metadata": {},
   "outputs": [
    {
     "name": "stdin",
     "output_type": "stream",
     "text": [
      "What school do you attend?  USD\n",
      "What is the mascot?  Diego Torero\n"
     ]
    },
    {
     "name": "stdout",
     "output_type": "stream",
     "text": [
      "What is the weather at USD?\n"
     ]
    }
   ],
   "source": [
    "school = input(\"What school do you attend? \")\n",
    "mascot = input(\"What is the mascot? \")\n",
    "\n",
    "\n",
    "if school == \"UCSD\":\n",
    "     output = mascot + \" is a strange mascot.\"\n",
    "elif school == \"SDSU\":\n",
    "     output = \"Go \" + mascot + \"s!\"\n",
    "else:\n",
    "     output = \"What is the weather at \" + school + \"?\"\n",
    "print(output)\n",
    "\n"
   ]
  },
  {
   "cell_type": "code",
   "execution_count": 20,
   "id": "27a83244-28a7-4c1f-8f80-ecad217c8ad3",
   "metadata": {},
   "outputs": [
    {
     "name": "stdin",
     "output_type": "stream",
     "text": [
      "What is the value of x? 100\n",
      "What is the value of y? 100\n"
     ]
    },
    {
     "name": "stdout",
     "output_type": "stream",
     "text": [
      "Status: poor preformance\n"
     ]
    }
   ],
   "source": [
    "#Prompr user for values of x and y \n",
    "x = int(input('What is the value of x?'))\n",
    "y = int(input('What is the value of y?'))\n",
    "\n",
    "if x < 50 and y < 100:\n",
    "    print('Status: normal')\n",
    "elif x >= 50 and y < 100:\n",
    "    print('Status: normal')\n",
    "elif x < 50 and y >= 100:\n",
    "    print('Status: alert')\n",
    "else:\n",
    "    print('Status: poor preformance')"
   ]
  },
  {
   "cell_type": "code",
   "execution_count": 31,
   "id": "a6324832-2f07-406a-bf97-57f4e45d77ba",
   "metadata": {},
   "outputs": [
    {
     "name": "stdin",
     "output_type": "stream",
     "text": [
      "What is the value of X? 32\n",
      "What is the value of Y? 100\n"
     ]
    },
    {
     "name": "stdout",
     "output_type": "stream",
     "text": [
      "Status: alert\n"
     ]
    }
   ],
   "source": [
    "#Prompt for user values of x and y\n",
    "\n",
    "x = int(input('What is the value of X?'))\n",
    "\n",
    "y = int(input('What is the value of Y?'))\n",
    "\n",
    "\n",
    "\n",
    "\n",
    "# Create conditional statement using If,elif and else function\n",
    "\n",
    "if x < 50 and y < 100:\n",
    "    print('Status: normal')\n",
    "\n",
    "elif x >= 50 and y  < 100:\n",
    "    print('Status: normal')\n",
    "\n",
    "elif x < 50 and y >= 100:\n",
    "    print('Status: alert')\n",
    "\n",
    "else:\n",
    "    print('Status: poor preformance')"
   ]
  },
  {
   "cell_type": "code",
   "execution_count": null,
   "id": "2cf6d0c2-0fcd-4c98-898f-55a5b57d8fcb",
   "metadata": {},
   "outputs": [],
   "source": []
  }
 ],
 "metadata": {
  "kernelspec": {
   "display_name": "Python 3",
   "language": "python",
   "name": "python3"
  },
  "language_info": {
   "codemirror_mode": {
    "name": "ipython",
    "version": 3
   },
   "file_extension": ".py",
   "mimetype": "text/x-python",
   "name": "python",
   "nbconvert_exporter": "python",
   "pygments_lexer": "ipython3",
   "version": "3.8.8"
  }
 },
 "nbformat": 4,
 "nbformat_minor": 5
}
