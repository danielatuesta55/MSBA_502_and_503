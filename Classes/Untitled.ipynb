{
 "cells": [
  {
   "cell_type": "markdown",
   "id": "d392ac87-fa63-4fd6-a5ca-29285bac9fcf",
   "metadata": {},
   "source": [
    "# Additional"
   ]
  },
  {
   "cell_type": "code",
   "execution_count": 1,
   "id": "024b14f8-ed6a-4647-aada-4c3fba986538",
   "metadata": {},
   "outputs": [
    {
     "name": "stdout",
     "output_type": "stream",
     "text": [
      "hello world\n"
     ]
    }
   ],
   "source": [
    "class test:\n",
    "     def __init__(self, bananas):\n",
    "         self.bananas = bananas\n",
    " \n",
    "     def display(self):\n",
    "           print(self.bananas)\n",
    "\n",
    "obj=test(\"hello world\")\n",
    "obj.display()"
   ]
  },
  {
   "cell_type": "code",
   "execution_count": 9,
   "id": "a7bd1d92-2475-438c-9589-e8c568a85a28",
   "metadata": {},
   "outputs": [
    {
     "name": "stdout",
     "output_type": "stream",
     "text": [
      "hello world\n"
     ]
    }
   ],
   "source": [
    "class test:\n",
    "    def __init__(self,bananas):\n",
    "        self.bananas = bananas\n",
    "    def display(self):\n",
    "        print(self.bananas)\n",
    "obj = test(\"hello world\")\n",
    "obj.display()"
   ]
  },
  {
   "cell_type": "code",
   "execution_count": 5,
   "id": "39cf36dc-255f-4b49-8fc3-b1d524482b34",
   "metadata": {},
   "outputs": [
    {
     "name": "stdout",
     "output_type": "stream",
     "text": [
      "<__main__.animal object at 0x0000028C34638550>\n",
      "Roar!\n"
     ]
    }
   ],
   "source": [
    "class animal:\n",
    "    \"\"\"Represents animals based on their name and species.\"\"\"\n",
    "    def __init__(self, name, species):\n",
    "        \n",
    "        \"\"\" Sets up animal objects \"\"\"\n",
    "        self.name = name\n",
    "        self.species = species\n",
    "        \n",
    "    def speak(self):\n",
    "        \"\"\" Prints out the noise an animal makes when it speaks \"\"\"\n",
    "        if self.species == \"Cat\":\n",
    "            print(\"Meow\")\n",
    "        elif self.species == \"Dog\":\n",
    "            print(\"Bark!\")\n",
    "        else:\n",
    "            print(\"Roar!\")\n",
    "\n",
    " \n",
    "new_animal = animal(\"Zuldrak\", \"Weasel\")\n",
    "\n",
    "print(new_animal)\n",
    "\n",
    "new_animal.speak()"
   ]
  },
  {
   "cell_type": "code",
   "execution_count": 6,
   "id": "cf335620-866c-4dab-afe1-ed40805299b9",
   "metadata": {},
   "outputs": [
    {
     "name": "stdout",
     "output_type": "stream",
     "text": [
      "<__main__.animal object at 0x0000028C34638DC0>\n",
      "Roar\n"
     ]
    }
   ],
   "source": [
    "class animal:\n",
    "    def __init__(self,name,species):\n",
    "        self.name=name\n",
    "        self.species=species\n",
    "    def speak(self):\n",
    "        if self.species=='Cat':\n",
    "            print('Meow')\n",
    "        elif self.species=='Dog':\n",
    "            print('Bark')\n",
    "        else:\n",
    "            print('Roar')\n",
    "new_animal=animal(\"Z\",\"Weasel\")\n",
    "print(new_animal)\n",
    "new_animal.speak()"
   ]
  },
  {
   "cell_type": "code",
   "execution_count": 7,
   "id": "acbfcdd8-378e-47b6-963c-dcf1f12fb479",
   "metadata": {},
   "outputs": [
    {
     "name": "stdout",
     "output_type": "stream",
     "text": [
      "<__main__.animal object at 0x0000028C34638DC0>\n"
     ]
    }
   ],
   "source": [
    "print(new_animal)"
   ]
  },
  {
   "cell_type": "code",
   "execution_count": null,
   "id": "a75a62e6-03a0-492f-b4a6-af68477ba110",
   "metadata": {},
   "outputs": [],
   "source": []
  }
 ],
 "metadata": {
  "kernelspec": {
   "display_name": "Python 3",
   "language": "python",
   "name": "python3"
  },
  "language_info": {
   "codemirror_mode": {
    "name": "ipython",
    "version": 3
   },
   "file_extension": ".py",
   "mimetype": "text/x-python",
   "name": "python",
   "nbconvert_exporter": "python",
   "pygments_lexer": "ipython3",
   "version": "3.8.8"
  }
 },
 "nbformat": 4,
 "nbformat_minor": 5
}
