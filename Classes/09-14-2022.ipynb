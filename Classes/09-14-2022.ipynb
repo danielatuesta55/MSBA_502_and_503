{
 "cells": [
  {
   "cell_type": "markdown",
   "id": "da80468d-1c4c-4734-9cda-c20b6e716774",
   "metadata": {},
   "source": [
    "# Class 09 - 14- 2022\n",
    "\n",
    "index, list, escape characters, multiline strings, string methods, lists"
   ]
  },
  {
   "cell_type": "markdown",
   "id": "b37b99be-1567-44f3-8acc-cf71e35903da",
   "metadata": {},
   "source": [
    "## User controlled While Loops\n",
    "\n",
    "1. a common use of while loops is to allow the user to determine how many times a loop runs\n"
   ]
  },
  {
   "cell_type": "code",
   "execution_count": 2,
   "id": "581bcb05-eb37-4ff8-bdec-e2f25baff746",
   "metadata": {},
   "outputs": [
    {
     "name": "stdin",
     "output_type": "stream",
     "text": [
      "Would you like to run again? no\n"
     ]
    }
   ],
   "source": [
    "#User set \n",
    "repeat = \"yes\"\n",
    "\n",
    "#While loop \n",
    "while repeat == \"yes\":\n",
    "    #Main analysis\n",
    "    repeat = input(\"Would you like to run again?\")\n"
   ]
  },
  {
   "cell_type": "code",
   "execution_count": 8,
   "id": "761ae3d6-cccd-45c4-bd05-57e3e821496d",
   "metadata": {},
   "outputs": [
    {
     "name": "stdin",
     "output_type": "stream",
     "text": [
      "Give me a number... 5\n"
     ]
    },
    {
     "name": "stdout",
     "output_type": "stream",
     "text": [
      "\n",
      "Your initial number 5.0, squared is equal to 25.0\n",
      "\n",
      "Your initial number 5.0, squareroot is equal to 2.23606797749979\n",
      "\n",
      "Your initial number 5.0, the factorial of the number is equal to 120\n",
      "\n"
     ]
    },
    {
     "name": "stdin",
     "output_type": "stream",
     "text": [
      "do you want to try a new number? yes/no yes\n",
      "Give me a number... 10\n"
     ]
    },
    {
     "name": "stdout",
     "output_type": "stream",
     "text": [
      "\n",
      "Your initial number 10.0, squared is equal to 100.0\n",
      "\n",
      "Your initial number 10.0, squareroot is equal to 3.1622776601683795\n",
      "\n",
      "Your initial number 10.0, the factorial of the number is equal to 3628800\n",
      "\n"
     ]
    },
    {
     "name": "stdin",
     "output_type": "stream",
     "text": [
      "do you want to try a new number? yes/no no\n"
     ]
    }
   ],
   "source": [
    "#prompt user for a number\n",
    "#report square, square root, factorial\n",
    "#Offer to repeat as many times \n",
    "\n",
    "#Import dependencie\n",
    "import math\n",
    "#Start loop\n",
    "repeat = 'Yes'\n",
    "#While loop\n",
    "while repeat == 'Yes':\n",
    "    #Get user to input number\n",
    "    user_number = float(input('Give me a number...'))\n",
    "    print()\n",
    "    #Square user number\n",
    "    square = math.pow(user_number,2)\n",
    "    #print user number\n",
    "    print('Your initial number {}, squared is equal to {}'.format(user_number,square))\n",
    "    #extra space\n",
    "    print()\n",
    "    #Calc square root user number\n",
    "    squareRoot = math.sqrt(user_number)\n",
    "    #print the calc\n",
    "    print('Your initial number {}, squareroot is equal to {}'.format(user_number,squareRoot))\n",
    "    print()\n",
    "    #calc factorial\n",
    "    factorial = math.factorial(user_number)\n",
    "    #print calc\n",
    "    print('Your initial number {}, the factorial of the number is equal to {}'.format(user_number,factorial))\n",
    "    print()\n",
    "    #ask user if they want to continue\n",
    "    repeat = input('do you want to try a new number? yes/no').capitalize()"
   ]
  },
  {
   "cell_type": "markdown",
   "id": "d20daa08-e39f-405b-91dc-5fe2ee37a92e",
   "metadata": {},
   "source": [
    "# Strings as sequences\n",
    "\n",
    "Strings can be treated as a sequence of consecutive characters. We have seen this before when we used a for loop to iterate through characters of a string\n",
    "\n",
    "Each character has an index or an integer number that identifies its position in the string \n",
    "\n",
    "Indices always start from 0 \n",
    "\n",
    "A strings always have index assigend to every character in the word"
   ]
  },
  {
   "cell_type": "code",
   "execution_count": 11,
   "id": "94db1778-a7f8-4bd1-bfc9-1493ac3b355b",
   "metadata": {},
   "outputs": [
    {
     "name": "stdout",
     "output_type": "stream",
     "text": [
      "The third index of the fruit variable is: n\n"
     ]
    }
   ],
   "source": [
    "#declare variable\n",
    "fruit = \"yummy banana\"\n",
    "#To print the a specific index we call the variable and then in [] we input the index number we are looking for\n",
    "print(\"The third index of the fruit variable is:\",fruit[10])"
   ]
  },
  {
   "cell_type": "code",
   "execution_count": 18,
   "id": "ebb8bf87-4e0b-4f90-ad05-c89425bdc62c",
   "metadata": {},
   "outputs": [
    {
     "name": "stdout",
     "output_type": "stream",
     "text": [
      "r\n"
     ]
    }
   ],
   "source": [
    "# Index\n",
    "fruit =\"Starfruit\"\n",
    "# store the grab index into a variable for furthir use or print\n",
    "index_character = fruit[5]\n",
    "#print\n",
    "print(index_character)"
   ]
  },
  {
   "cell_type": "markdown",
   "id": "44874ca6-65a7-4d17-bc9c-907a72414435",
   "metadata": {},
   "source": [
    "# Slicing Strings\n",
    "## [3:5] -- Here you can see how we can pick a range of indexes\n",
    "## [3:] -- start 3 and continue increments of 1\n",
    "## [ :6] -- Start at begining increments of 1 until 6th index\n",
    "## If you enter a third number in the [ : : ] you can tell it how much it should increment by"
   ]
  },
  {
   "cell_type": "code",
   "execution_count": 21,
   "id": "015492fb-a9aa-44da-b40f-7661eabbe243",
   "metadata": {},
   "outputs": [
    {
     "name": "stdout",
     "output_type": "stream",
     "text": [
      "arf\n"
     ]
    }
   ],
   "source": [
    "# Slicing as sequences \n",
    "# Index\n",
    "fruit =\"Starfruit\"\n",
    "# store the grab index into a variable for furthir use or print\n",
    "index_character = fruit[2:5]\n",
    "#print\n",
    "print(index_character)"
   ]
  },
  {
   "cell_type": "code",
   "execution_count": 22,
   "id": "467ff757-414f-4fc7-b789-ac9dc66f1cc4",
   "metadata": {},
   "outputs": [
    {
     "name": "stdout",
     "output_type": "stream",
     "text": [
      "nan\n"
     ]
    }
   ],
   "source": [
    "# Slicing as sequences \n",
    "# Index\n",
    "fruit =\"Banana\"\n",
    "# store the grab index into a variable for furthir use or print\n",
    "index_character = fruit[2:5]\n",
    "#print\n",
    "print(index_character)"
   ]
  },
  {
   "cell_type": "code",
   "execution_count": 26,
   "id": "4db59e9a-464c-4c0c-83d6-8f279205914a",
   "metadata": {},
   "outputs": [
    {
     "name": "stdout",
     "output_type": "stream",
     "text": [
      "yay\n"
     ]
    }
   ],
   "source": [
    "# Slicing as sequences \n",
    "# Index\n",
    "fruit =\"yay fruit\"\n",
    "# store the grab index into a variable for furthir use or print\n",
    "index_character = fruit[:3]\n",
    "#print\n",
    "print(index_character)"
   ]
  },
  {
   "cell_type": "code",
   "execution_count": 31,
   "id": "62111975-650b-4156-a70b-05d35e608630",
   "metadata": {},
   "outputs": [
    {
     "name": "stdout",
     "output_type": "stream",
     "text": [
      "a ri\n"
     ]
    }
   ],
   "source": [
    "# Slicing as sequences \n",
    "# Index\n",
    "fruit =\"yay fruit\"\n",
    "# store the grab index into a variable for furthir use or print\n",
    "index_character = fruit[1::2]\n",
    "#print\n",
    "print(index_character)"
   ]
  },
  {
   "cell_type": "markdown",
   "id": "fcadaaa2-b2d2-48f5-b729-212556687f73",
   "metadata": {},
   "source": [
    "# Streing as sequences\n",
    "## Length of string\n",
    " use the len function"
   ]
  },
  {
   "cell_type": "code",
   "execution_count": 35,
   "id": "0b07d138-415b-4328-9a3c-93bb44a0cad7",
   "metadata": {},
   "outputs": [
    {
     "name": "stdout",
     "output_type": "stream",
     "text": [
      "67\n"
     ]
    }
   ],
   "source": [
    "string = \"Today I was very board and I could not concentrate during excercise\"\n",
    "length = len(string)\n",
    "print(length)\n",
    "\n",
    "# you will need this for HW 2"
   ]
  },
  {
   "cell_type": "code",
   "execution_count": 47,
   "id": "03df8111-4520-4963-9aaa-5de6efb89429",
   "metadata": {},
   "outputs": [
    {
     "name": "stdin",
     "output_type": "stream",
     "text": [
      "Please type a string of your choice... asfdas\n",
      "Do you want even or odd? as\n"
     ]
    },
    {
     "name": "stdout",
     "output_type": "stream",
     "text": [
      "Sorry, only even and odd are supported. Please check your spelling.\n"
     ]
    },
    {
     "name": "stdin",
     "output_type": "stream",
     "text": [
      "Do you want to try again no\n"
     ]
    }
   ],
   "source": [
    "#Allow the user to enter a string of their choice\n",
    "#Allow the user to choose even or odd\n",
    "#Print the indices of the users choice\n",
    "\n",
    "#This while loop will allow the user to be redirected again if the want to without running code again\n",
    "repeat = \"Yes\"\n",
    "#While loop\n",
    "while repeat ==\"Yes\":\n",
    "    \n",
    "    user_string = input('Please type a string of your choice...')\n",
    "    even_odd = input('Do you want even or odd?').capitalize()\n",
    "\n",
    "    if even_odd == \"Even\":\n",
    "        #using len fucntion here allwos the user to input any length of string!!!\n",
    "        for i in range(0,len(user_string),1):\n",
    "            #Check that i is even number with modules equals 0\n",
    "            if i % 2 == 0:\n",
    "                print(user_string[i])\n",
    "    elif even_odd == 'Odd':\n",
    "        for i in range(0,len(user_string),1):\n",
    "            if i %2 != 0:\n",
    "                print(user_string[i])\n",
    "    else:\n",
    "        print(\"Sorry, only even and odd are supported. Please check your spelling.\")\n",
    "    #Within while loop do the repeat option for user outside the if confitional and loop\n",
    "    repeat = input('Do you want to try again').capitalize()\n",
    "\n",
    "            "
   ]
  },
  {
   "cell_type": "markdown",
   "id": "899e9178-9246-40c7-aa2b-1f5e181ad4a7",
   "metadata": {},
   "source": [
    "# Special characters\n",
    "## To enter some special characters ina srting, python uses the backslash (\"enetr character\") to indicate a special input\n",
    "\\'\n",
    "\n",
    "\\\"\n",
    "\n",
    "\\n\n",
    "\n",
    "\\t\n",
    "\n",
    "\\\\"
   ]
  },
  {
   "cell_type": "code",
   "execution_count": 50,
   "id": "562a0ca2-d77d-41ca-a65b-bdc55d04a698",
   "metadata": {},
   "outputs": [
    {
     "name": "stdout",
     "output_type": "stream",
     "text": [
      "And she said \n",
      "\"Go away\"\n"
     ]
    }
   ],
   "source": [
    "text = \"And she said \\n\\\"Go away\\\"\"\n",
    "print(text)"
   ]
  },
  {
   "cell_type": "code",
   "execution_count": 55,
   "id": "d251fc08-eb5a-4089-8bab-abf0fd32c1a7",
   "metadata": {},
   "outputs": [
    {
     "name": "stdout",
     "output_type": "stream",
     "text": [
      "hello \t my name is\n",
      " daniel's\n"
     ]
    }
   ],
   "source": [
    "text = 'hello \\t my name is\\n daniel\\'s'\n",
    "print(text)"
   ]
  },
  {
   "cell_type": "code",
   "execution_count": 61,
   "id": "d922cb4b-62b0-4b3a-8f6c-e837a7c36110",
   "metadata": {},
   "outputs": [
    {
     "name": "stdout",
     "output_type": "stream",
     "text": [
      "Bananas is in Our list of fruits includes Pineapples, Apples, Watermelons, Bananas\n"
     ]
    }
   ],
   "source": [
    "#Checking if strings are on other strings\n",
    "string1 = 'bananas'.capitalize().strip()\n",
    "string2 = 'Our list of fruits includes Pineapples, Apples, Watermelons, Bananas'\n",
    "\n",
    "if string1 in string2:\n",
    "    print(string1, \"is in\", string2)\n",
    "else:\n",
    "    print(\"It is not in our list\")"
   ]
  },
  {
   "cell_type": "code",
   "execution_count": null,
   "id": "bad81e77-c0ab-4a40-9c54-d480e9b464ae",
   "metadata": {},
   "outputs": [],
   "source": [
    "#Ask the user for an input string\n",
    "#Search for the input string inside of the three-line quick brown fox string\n",
    "#Report back to the user\n",
    "#Run as many searches as the user requests\n",
    "\n",
    "text = input('Type any type of stirng...')\n",
    "fox_string = \"\"\"The\n",
    "quick\n",
    "brown\n",
    "fox\n",
    "\"\"\"\n",
    "repeat = 'yes'\n",
    "while repeat == 'yes':\n",
    "    \n"
   ]
  }
 ],
 "metadata": {
  "kernelspec": {
   "display_name": "Python 3",
   "language": "python",
   "name": "python3"
  },
  "language_info": {
   "codemirror_mode": {
    "name": "ipython",
    "version": 3
   },
   "file_extension": ".py",
   "mimetype": "text/x-python",
   "name": "python",
   "nbconvert_exporter": "python",
   "pygments_lexer": "ipython3",
   "version": "3.8.8"
  }
 },
 "nbformat": 4,
 "nbformat_minor": 5
}
