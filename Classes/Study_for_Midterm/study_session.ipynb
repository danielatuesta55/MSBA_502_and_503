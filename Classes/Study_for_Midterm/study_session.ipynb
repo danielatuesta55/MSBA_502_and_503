{
 "cells": [
  {
   "cell_type": "markdown",
   "id": "e0c35497-e1a9-42a2-aaf4-a37cdcf1fc3f",
   "metadata": {},
   "source": [
    "# While Loop\n",
    "\n",
    "used to iterate over a block of code as long as the test expression (condition) is true."
   ]
  },
  {
   "cell_type": "code",
   "execution_count": 8,
   "id": "5e71cf63-895a-4967-aed3-76bdba8c58fb",
   "metadata": {},
   "outputs": [],
   "source": [
    "x = 2\n",
    "\n",
    "while x > 1:\n",
    "    print(x)\n",
    "    "
   ]
  },
  {
   "cell_type": "code",
   "execution_count": 14,
   "id": "925f6ba7-c26f-4d47-816b-b50d91690098",
   "metadata": {},
   "outputs": [
    {
     "name": "stdin",
     "output_type": "stream",
     "text": [
      "What is your name? r\n",
      "Give me a number 2\n"
     ]
    },
    {
     "name": "stdout",
     "output_type": "stream",
     "text": [
      "r, your number 2 + 1 is = 3\n"
     ]
    },
    {
     "name": "stdin",
     "output_type": "stream",
     "text": [
      "Do you want to try again (yes/no)? houy\n"
     ]
    }
   ],
   "source": [
    "repeat = 'yes'\n",
    "\n",
    "\n",
    "\n",
    "while 'y' in repeat[0].lower().strip():\n",
    "    username = input(\"What is your name?\")\n",
    "    number = int(input(\"Give me a number\"))\n",
    "    addition = number + 1\n",
    "    print(f\"{username}, your number {number} + 1 is = {addition}\")\n",
    "    repeat = input(\"Do you want to try again (yes/no)?\")       \n",
    "    \n",
    "\n",
    "    "
   ]
  },
  {
   "cell_type": "code",
   "execution_count": 19,
   "id": "d394a1ac-dbf7-4b57-b3c3-641ef0c4fa85",
   "metadata": {},
   "outputs": [
    {
     "name": "stdout",
     "output_type": "stream",
     "text": [
      "0\n",
      "1\n",
      "2\n",
      "3\n",
      "4\n",
      "5\n",
      "6\n",
      "7\n",
      "8\n",
      "9\n"
     ]
    }
   ],
   "source": [
    "#First for loop \n",
    "\n",
    "for i in range(0,10,1):\n",
    "    print(i)\n",
    "\n"
   ]
  },
  {
   "cell_type": "code",
   "execution_count": 25,
   "id": "12aa4dd6-7a94-4140-854a-66abd491f520",
   "metadata": {},
   "outputs": [
    {
     "name": "stdout",
     "output_type": "stream",
     "text": [
      "[]\n",
      "[0, 1, 2, 3, 4, 5, 6, 7, 8, 9]\n"
     ]
    }
   ],
   "source": [
    "# Create a list from the for loop\n",
    "MyList = []\n",
    "print(MyList)\n",
    "for i in range (0,10,1):\n",
    "    MyList.append(i)\n",
    "\n",
    "print(MyList) # This wil print [0-9]"
   ]
  },
  {
   "cell_type": "code",
   "execution_count": 31,
   "id": "a7eb89d2-86be-440f-ac06-843c4e10fbcc",
   "metadata": {},
   "outputs": [
    {
     "name": "stdout",
     "output_type": "stream",
     "text": [
      "[0, 1, 2, 3, 4, 5, 6, 7, 8, 9]\n",
      "0\n",
      "1\n",
      "2\n",
      "3\n",
      "4\n",
      "5\n",
      "6\n",
      "7\n",
      "8\n",
      "9\n"
     ]
    }
   ],
   "source": [
    "print(MyList)\n",
    "for i in MyList:\n",
    "    print(i)"
   ]
  },
  {
   "cell_type": "code",
   "execution_count": 38,
   "id": "5806a41e-f990-4a21-8473-f378c0907723",
   "metadata": {
    "collapsed": true,
    "jupyter": {
     "outputs_hidden": true
    },
    "tags": []
   },
   "outputs": [
    {
     "name": "stdout",
     "output_type": "stream",
     "text": [
      "shoe\n",
      "sock\n",
      "9\n",
      "10\n",
      "Daniel\n"
     ]
    }
   ],
   "source": [
    "l = ['shoe','sock',9,10,'Daniel']\n",
    "\n",
    "for i in l:\n",
    "    print(i)\n",
    "\n",
    "# print(l[0])\n",
    "# print(l[1])\n",
    "# print(l[2])\n",
    "# print(l[3])\n",
    "# print(l[4])\n",
    "\n"
   ]
  },
  {
   "cell_type": "code",
   "execution_count": 56,
   "id": "b41088bc-7fa7-47f3-932b-0ed0184e2e94",
   "metadata": {},
   "outputs": [
    {
     "name": "stdout",
     "output_type": "stream",
     "text": [
      "10\n",
      "9\n",
      "8\n",
      "7\n",
      "6\n",
      "5\n",
      "Launch Initiated...\n",
      "4\n",
      "3\n",
      "2\n",
      "1\n",
      "0\n",
      "BLASTOFF!!!\n"
     ]
    }
   ],
   "source": [
    "#Creating for loop with if statements inside!\n",
    "\n",
    "#Created for loop to go backwards\n",
    "for i in range (10,-1,-1):\n",
    "    #print\n",
    "    print(i)\n",
    "    # Conditional statement if\n",
    "    if i == 5:\n",
    "        print('Launch Initiated...')\n",
    "    elif i == 0:\n",
    "        print('BLASTOFF!!!')\n",
    "    else:\n",
    "        continue "
   ]
  },
  {
   "cell_type": "code",
   "execution_count": 70,
   "id": "d88a4a7f-1168-470b-b0fa-0294b3897699",
   "metadata": {},
   "outputs": [
    {
     "name": "stdout",
     "output_type": "stream",
     "text": [
      "On your marks!\n",
      "0\n",
      "1\n",
      "2\n",
      "3\n",
      "Get set\n",
      "4\n",
      "5\n",
      "Go!\n"
     ]
    }
   ],
   "source": [
    "# #marks = 0 \n",
    "# set = 3\n",
    "# go = 5\n",
    "\n",
    "print(\"On your marks!\")\n",
    "\n",
    "for i in range(0,6,1):\n",
    "    print(i)  \n",
    "    if i == 3:\n",
    "        print(\"Get set\")\n",
    "        \n",
    "    elif i == 5:\n",
    "        print(\"Go!\")\n",
    "    else:\n",
    "        continue\n",
    "        "
   ]
  },
  {
   "cell_type": "code",
   "execution_count": 81,
   "id": "ea85e3c6-4889-41f4-93c0-fae1093757db",
   "metadata": {},
   "outputs": [
    {
     "name": "stdout",
     "output_type": "stream",
     "text": [
      "10\n",
      "9\n",
      "8\n",
      "7\n",
      "6\n",
      "Launch Initiated...\n",
      "5\n",
      "4\n",
      "3\n",
      "2\n",
      "1\n",
      "0\n",
      "BLASTOFF!!!\n"
     ]
    }
   ],
   "source": [
    "# count dwon from 10 to 0 blastoff\n",
    "#print 10,9,8....0 blastoff\n",
    "\n",
    "n = 10\n",
    "\n",
    "while n > -1: \n",
    "    print(n)\n",
    "    n-=1\n",
    "    # Conditional statement if\n",
    "    if n == 5:\n",
    "        print('Launch Initiated...')\n",
    "    elif n == -1:\n",
    "        print('BLASTOFF!!!')\n",
    "    else:\n",
    "        continue \n",
    "    \n"
   ]
  },
  {
   "cell_type": "code",
   "execution_count": 103,
   "id": "18de96df-aa2e-4d96-863e-c2f5d00de5b6",
   "metadata": {},
   "outputs": [
    {
     "name": "stdin",
     "output_type": "stream",
     "text": [
      "Enter radius please -9\n"
     ]
    },
    {
     "name": "stdout",
     "output_type": "stream",
     "text": [
      "Ooops, there is a typo you might have entered a negative number or a none number value\n"
     ]
    },
    {
     "name": "stdin",
     "output_type": "stream",
     "text": [
      "Enter radius please 9+\n"
     ]
    },
    {
     "name": "stdout",
     "output_type": "stream",
     "text": [
      "Ooops, there is a typo you might have entered a negative number or a none number value\n"
     ]
    },
    {
     "name": "stdin",
     "output_type": "stream",
     "text": [
      "Enter radius please 9\n"
     ]
    },
    {
     "name": "stdout",
     "output_type": "stream",
     "text": [
      "Your initial radius was 9.0 this means that the volume is equal to 3054\n"
     ]
    },
    {
     "name": "stdin",
     "output_type": "stream",
     "text": [
      "would you like to get another number yes/no no\n"
     ]
    },
    {
     "name": "stdout",
     "output_type": "stream",
     "text": [
      "Thanks for using this!\n"
     ]
    }
   ],
   "source": [
    "#Import dependencie\n",
    "import math\n",
    "import time\n",
    "\n",
    "\n",
    "#Initiate while loop\n",
    "repeat = 'yes'\n",
    "\n",
    "    \n",
    "#Create while loop\n",
    "while 'y' in repeat[0].lower().strip():\n",
    "    \n",
    "    # Calculate volume\n",
    "    radius = input(\"Enter radius please\")\n",
    "    if radius.isdigit():\n",
    "        radius = float(radius)\n",
    "        volume = (4 / 3) * math.pi * (radius ** 3)\n",
    "        # Round number\n",
    "        volume_rounded = round(volume)\n",
    "        print(f\"Your initial radius was {radius} this means that the volume is equal to {volume_rounded}\")\n",
    "        # Use time.sleep() to delay promting the user if they need want to continue\n",
    "        time.sleep(2)\n",
    "        repeat = input(\"would you like to get another number yes/no\")\n",
    "\n",
    "    \n",
    "    else:\n",
    "        print(\"Ooops, there is a typo you might have entered a negative number or a none number value\")\n",
    "    \n",
    "\n",
    "    \n",
    "    \n",
    "# Print final statement for user    \n",
    "print(\"Thanks for using this!\")\n",
    "    "
   ]
  },
  {
   "cell_type": "code",
   "execution_count": 116,
   "id": "a536e32a-136c-4e03-a473-8c8da584b762",
   "metadata": {},
   "outputs": [
    {
     "name": "stdout",
     "output_type": "stream",
     "text": [
      "['Apples', 'Bananas', '6 coconuts', 'Strawberries', 'Starfruit', 'WD40']\n",
      "6 coconuts\n",
      "['6 coconuts', 'Strawberries', 'Starfruit', 'WD40']\n",
      "['Apples', 'Bananas', '6 coconuts']\n",
      "Starfruit\n"
     ]
    }
   ],
   "source": [
    "#Created the list\n",
    "grocery_list = ['Apples','Bananas','6 coconuts','Strawberries','Starfruit','WD40']\n",
    "\n",
    "\n",
    "#print the list\n",
    "print(grocery_list)\n",
    "\n",
    "# Print 6 cocunuts\n",
    "print(grocery_list[2])\n",
    "\n",
    "# Print from cocunts to the end\n",
    "print(grocery_list[2:])\n",
    "\n",
    "#Print beggining to 3 index\n",
    "print(grocery_list[:3])\n",
    "\n",
    "\n",
    "#We do not need to know the exact value example\n",
    "\n",
    "# get_this_index = 4\n",
    "# print(grocery_list[get_this_index]) #Is taking the specific item from the list\n"
   ]
  },
  {
   "cell_type": "code",
   "execution_count": 133,
   "id": "0cbc5f31-6f3f-4d5f-a037-d987de31d1dd",
   "metadata": {},
   "outputs": [
    {
     "name": "stdout",
     "output_type": "stream",
     "text": [
      "['Welcome to USD', 90, 87]\n",
      "['Welcome to USD', 90, 34, 87]\n"
     ]
    }
   ],
   "source": [
    "string = [\"Welcome to USD\", 90, 87]\n",
    "print(string)\n",
    "string.insert(2,34)\n",
    "print(string)\n",
    "\n"
   ]
  },
  {
   "cell_type": "code",
   "execution_count": 117,
   "id": "72e98a03-c904-43b2-a291-774a2987f1ef",
   "metadata": {},
   "outputs": [
    {
     "ename": "SyntaxError",
     "evalue": "invalid syntax (<ipython-input-117-ae51a84ad11c>, line 1)",
     "output_type": "error",
     "traceback": [
      "\u001b[1;36m  File \u001b[1;32m\"<ipython-input-117-ae51a84ad11c>\"\u001b[1;36m, line \u001b[1;32m1\u001b[0m\n\u001b[1;33m    W E L C O M E  TO  U S D\u001b[0m\n\u001b[1;37m      ^\u001b[0m\n\u001b[1;31mSyntaxError\u001b[0m\u001b[1;31m:\u001b[0m invalid syntax\n"
     ]
    }
   ],
   "source": [
    "W E L C O M E   TO    U  S   D \n",
    "0 1 2 3 4 5 6 7 89 10 11 12  13"
   ]
  },
  {
   "cell_type": "code",
   "execution_count": null,
   "id": "9dfee276-de5e-4608-914e-659abefb8102",
   "metadata": {},
   "outputs": [],
   "source": []
  }
 ],
 "metadata": {
  "kernelspec": {
   "display_name": "Python 3",
   "language": "python",
   "name": "python3"
  },
  "language_info": {
   "codemirror_mode": {
    "name": "ipython",
    "version": 3
   },
   "file_extension": ".py",
   "mimetype": "text/x-python",
   "name": "python",
   "nbconvert_exporter": "python",
   "pygments_lexer": "ipython3",
   "version": "3.8.8"
  }
 },
 "nbformat": 4,
 "nbformat_minor": 5
}
