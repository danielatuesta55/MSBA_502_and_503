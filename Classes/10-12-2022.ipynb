{
 "cells": [
  {
   "cell_type": "markdown",
   "id": "a2e05be0-0eea-4a54-92fd-588fcb23d91d",
   "metadata": {},
   "source": [
    "Make sure that you never have the ile you want to read/write/ append open while pythin is using it.\n",
    "\n",
    "Whichever program asks for access to a file first gets to use it until it is finished\n",
    "python cannot access a file while another rogrma is using it \n",
    "\n",
    "Another program cannot access a file while python is using it\n",
    "\n",
    "If you want to interact wiht a file located in the same folder as your python code, you can just use a the files name and extension when you want to access the file \n",
    "for example \"toread.txt\"\n",
    "\n",
    "if you want to interact with a file located in a different part of your computer from your python code you need to specify the fill path of the file\n",
    "example \"C:///Users/Jake/Downloads/toread.text\n",
    "\n",
    "Some file types are more complex than others. The two we will discuss are txt and csv"
   ]
  },
  {
   "cell_type": "code",
   "execution_count": 14,
   "id": "e131716e-2bb4-4134-9c5c-9ea4abec149f",
   "metadata": {},
   "outputs": [
    {
     "name": "stdin",
     "output_type": "stream",
     "text": [
      "Enter a search term pig\n"
     ]
    },
    {
     "name": "stdout",
     "output_type": "stream",
     "text": [
      "Sorry\n"
     ]
    }
   ],
   "source": [
    "\n",
    "with open('txt_files/sh.txt') as file:\n",
    "    file_contents =file.read()\n",
    "user_search = input(\"Enter a search term\")\n",
    "\n",
    "if user_search.lower().strip() in file_contents.lower():\n",
    "    print(\"Your search was found!\")\n",
    "else:\n",
    "    print(\"Sorry\")\n"
   ]
  },
  {
   "cell_type": "code",
   "execution_count": 15,
   "id": "82e89bd3-00a4-4ad4-a2b1-3f836862325e",
   "metadata": {},
   "outputs": [
    {
     "name": "stdin",
     "output_type": "stream",
     "text": [
      "Enter radius: 4\n",
      "What would you like to name the output file? DanielTrial\n"
     ]
    }
   ],
   "source": [
    "import math \n",
    "\n",
    "radius = float(input(\"Enter radius:\"))\n",
    "area = math.pi*radius**2\n",
    "\n",
    "output_file = input(\"What would you like to name the output file?\")\n",
    "file_name = (output_file+\".txt\")\n",
    "\n",
    "first_line = \"Circle data report\"\n",
    "second_line=\"\\nRadius: \"+str(radius)\n",
    "third_line=\"\\nArea: \"+str(area)\n",
    "\n",
    "with open(file_name, \"w\") as b:\n",
    "    b.write(first_line)\n",
    "    b.write(second_line)\n",
    "    b.write(third_line)"
   ]
  },
  {
   "cell_type": "code",
   "execution_count": 17,
   "id": "1635d6d7-15fb-418f-8f3f-cb812b5a7559",
   "metadata": {},
   "outputs": [
    {
     "name": "stdout",
     "output_type": "stream",
     "text": [
      "Circle data report\n",
      "Radius: 4.0\n",
      "Area: 50.26548245743669\n"
     ]
    }
   ],
   "source": [
    "with open('DanielTrial.txt') as file:\n",
    "    file_contents=file.read()\n",
    "print(file_contents)"
   ]
  },
  {
   "cell_type": "code",
   "execution_count": 19,
   "id": "d2a896a4-72de-4d32-b257-c76c52eb4ff6",
   "metadata": {},
   "outputs": [
    {
     "name": "stdout",
     "output_type": "stream",
     "text": [
      "                                              To be  \\\n",
      "0         Whether 'tis nobler in the mind to suffer   \n",
      "1       The slings and arrows of outrageous fortune   \n",
      "2         Or to take arms against a sea of troubles   \n",
      "3         And by opposing end them. To die—to sleep   \n",
      "4             No more; and by a sleep to say we end   \n",
      "5    The heart-ache and the thousand natural shocks   \n",
      "6        That flesh is heir to: 'tis a consummation   \n",
      "7                     Devoutly to be wish'd. To die   \n",
      "8                                          To sleep   \n",
      "9   For in that sleep of death what dreams may come   \n",
      "10       When we have shuffled off this mortal coil   \n",
      "11           Must give us pause—there's the respect   \n",
      "12             That makes calamity of so long life.   \n",
      "13  For who would bear the whips and scorns of time   \n",
      "14                             Th'oppressor's wrong   \n",
      "15                      The pangs of dispriz'd love   \n",
      "16                          The insolence of office   \n",
      "17          That patient merit of th'unworthy takes   \n",
      "18           When he himself might his quietus make   \n",
      "19       With a bare bodkin? Who would fardels bear   \n",
      "20            To grunt and sweat under a weary life   \n",
      "21      But that the dread of something after death   \n",
      "22                        The undiscovere'd country   \n",
      "23                             No traveller returns   \n",
      "24      And makes us rather bear those ills we have   \n",
      "25          Than fly to others that we know not of?   \n",
      "26      Thus conscience doth make cowards of us all   \n",
      "27            And thus the native hue of resolution   \n",
      "28   Is sicklied o'er with the pale cast of thought   \n",
      "29         And enterprises of great pith and moment   \n",
      "30        With this regard their currents turn awry   \n",
      "31                     And lose the name of action.   \n",
      "\n",
      "                  or not to be  that is the question:  \n",
      "0                          NaN                    NaN  \n",
      "1                          NaN                    NaN  \n",
      "2                          NaN                    NaN  \n",
      "3                          NaN                    NaN  \n",
      "4                          NaN                    NaN  \n",
      "5                          NaN                    NaN  \n",
      "6                          NaN                    NaN  \n",
      "7                    to sleep;                    NaN  \n",
      "8        perchance to dream—ay       there's the rub:  \n",
      "9                          NaN                    NaN  \n",
      "10                         NaN                    NaN  \n",
      "11                         NaN                    NaN  \n",
      "12                         NaN                    NaN  \n",
      "13                         NaN                    NaN  \n",
      "14   the proud man's contumely                    NaN  \n",
      "15             the law's delay                    NaN  \n",
      "16              and the spurns                    NaN  \n",
      "17                         NaN                    NaN  \n",
      "18                         NaN                    NaN  \n",
      "19                         NaN                    NaN  \n",
      "20                         NaN                    NaN  \n",
      "21                         NaN                    NaN  \n",
      "22            from whose bourn                    NaN  \n",
      "23            puzzles the will                    NaN  \n",
      "24                         NaN                    NaN  \n",
      "25                         NaN                    NaN  \n",
      "26                         NaN                    NaN  \n",
      "27                         NaN                    NaN  \n",
      "28                         NaN                    NaN  \n",
      "29                         NaN                    NaN  \n",
      "30                         NaN                    NaN  \n",
      "31                         NaN                    NaN  \n"
     ]
    }
   ],
   "source": [
    "import pandas as pd\n",
    "\n",
    "file_path = 'txt_files/sh.txt'\n",
    "df = pd.read_csv(file_path)\n",
    "print(df)"
   ]
  },
  {
   "cell_type": "code",
   "execution_count": 24,
   "id": "5214ed85-a3da-48c6-b6bc-a51d9517cdd2",
   "metadata": {},
   "outputs": [
    {
     "name": "stdin",
     "output_type": "stream",
     "text": [
      "What would you like to append? jackson\n",
      "Do you want to append anything else? (yes/no) yes\n",
      "What would you like to append? gym\n",
      "Do you want to append anything else? (yes/no) yes\n",
      "What would you like to append? surf\n",
      "Do you want to append anything else? (yes/no) no\n"
     ]
    }
   ],
   "source": [
    "repeat = 'yes'\n",
    "\n",
    "while 'y' in repeat.lower().strip():\n",
    "    response= input(\"What would you like to append?\")\n",
    "    \n",
    "    with open(\"txt_files/output.txt\",\"a\") as file:\n",
    "        file.write(response + \"\\n\")\n",
    "    repeat = input(\"Do you want to append anything else? (yes/no)\")"
   ]
  },
  {
   "cell_type": "code",
   "execution_count": 25,
   "id": "c7bae300-daac-4447-ad37-43621267bf27",
   "metadata": {},
   "outputs": [
    {
     "name": "stdout",
     "output_type": "stream",
     "text": [
      "hi/nmango/nfireballs/njackson/njackson\n",
      "gym\n",
      "surf\n",
      "\n"
     ]
    }
   ],
   "source": [
    "import txt\n",
    "with open (\"txt_files/output.txt\",\"r\") as file:\n",
    "    file_contents = file.read()\n",
    "print(file_contents)"
   ]
  },
  {
   "cell_type": "code",
   "execution_count": 31,
   "id": "18321fb8-c581-46b0-956f-af39b9ee9d36",
   "metadata": {},
   "outputs": [
    {
     "name": "stdout",
     "output_type": "stream",
     "text": [
      "3\n",
      "/\n",
      "1\n",
      "6\n",
      "/\n",
      "2\n",
      "0\n",
      "2\n",
      "1\n",
      ",\n",
      "1\n",
      "4\n",
      "3\n",
      "\n",
      "\n",
      "3\n",
      "/\n",
      "1\n",
      "5\n",
      "/\n",
      "2\n",
      "0\n",
      "2\n",
      "1\n",
      ",\n",
      "1\n",
      "5\n",
      "0\n",
      "\n",
      "\n",
      "3\n",
      "/\n",
      "1\n",
      "2\n",
      "/\n",
      "2\n",
      "0\n",
      "2\n",
      "1\n",
      ",\n",
      "1\n",
      "2\n",
      "0\n",
      "\n",
      "\n",
      "3\n",
      "/\n",
      "1\n",
      "6\n",
      "/\n",
      "2\n",
      "0\n",
      "2\n",
      "1\n",
      ",\n",
      "1\n",
      "1\n",
      "0\n",
      "\n",
      "\n"
     ]
    }
   ],
   "source": [
    "import csv\n",
    "with open('csv_files/apple.csv',\"r\") as file:\n",
    "    file_content = file.read()\n",
    "    for line in file_content:\n",
    "        print(line)\n"
   ]
  },
  {
   "cell_type": "code",
   "execution_count": 30,
   "id": "71a3b2e8-2315-40d4-982b-eddcaac258c4",
   "metadata": {},
   "outputs": [
    {
     "name": "stdin",
     "output_type": "stream",
     "text": [
      "Which file do you like to analyze? apple\n",
      "Which date do you want to look up? 3/16/2021\n"
     ]
    },
    {
     "name": "stdout",
     "output_type": "stream",
     "text": [
      "Sorry, we don't have tat info \n"
     ]
    }
   ],
   "source": [
    "import csv\n",
    "\n",
    "which_file = input(\"Which file do you like to analyze?\")\n",
    "which_date = input(\"Which date do you want to look up?\")\n",
    "\n",
    "try:\n",
    "    with open (which_file,\"r\") as file:\n",
    "        reader = csv.reader(file)\n",
    "        for line in reader:\n",
    "            date = line[0]\n",
    "            price = float(line[1])\n",
    "            \n",
    "            if date == which_date:\n",
    "                print(\"Price:\", price)\n",
    "            \n",
    "    \n",
    "except:\n",
    "    print(\"Sorry, we don't have that info \")"
   ]
  },
  {
   "cell_type": "code",
   "execution_count": null,
   "id": "568207fb-6de0-41da-9d9b-22409ade0dc6",
   "metadata": {},
   "outputs": [],
   "source": []
  }
 ],
 "metadata": {
  "kernelspec": {
   "display_name": "Python 3",
   "language": "python",
   "name": "python3"
  },
  "language_info": {
   "codemirror_mode": {
    "name": "ipython",
    "version": 3
   },
   "file_extension": ".py",
   "mimetype": "text/x-python",
   "name": "python",
   "nbconvert_exporter": "python",
   "pygments_lexer": "ipython3",
   "version": "3.8.8"
  }
 },
 "nbformat": 4,
 "nbformat_minor": 5
}
