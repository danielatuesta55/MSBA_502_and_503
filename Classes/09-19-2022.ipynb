{
 "cells": [
  {
   "cell_type": "markdown",
   "id": "bb2817e4-366f-4792-893d-c4eba1fbd76f",
   "metadata": {},
   "source": [
    "# Class 09-19-2022\n",
    "\n",
    "## Review\n",
    "Using \"in\" \n",
    "\n",
    "See if something is present in another present\n",
    "\n",
    "Usre define while loop \n",
    "Escape characters - to enter some special characters in a stiring \n",
    "String slicing - Index vlaues (location of a vlaue in a string itterable!)\n",
    "Looping Index value notation\n",
    "\n",
    "## Lists \n",
    "\n",
    "A list is a collection that has many aspects in common with strings\n",
    "\n",
    "1. Comprised of smaleer pieces\n",
    "2. Indexes are ordered starting from 0\n",
    "3. Slicing works the same way\n",
    "\n",
    "Unlike string, the elements of a list do not have to be characters. A list can be filled with any tupe and mixing types is allowed\n",
    "\n",
    "Lists in real life:\n",
    "1. to do list\n",
    "2. Shopping list\n",
    "3. Resume\n",
    "4. Acomplishments\n",
    "\n",
    "A list is a thing that holds other things! \n",
    "we can have a chors list and grossery list in the same list \"My weekend list\" WE CAN NEST LISTS \n",
    "\n",
    "Normally we do lists vertically but in python they are horizontally. \n",
    "\n",
    "Structure and syntax is new but its something that we already do and we use in our every day life\n",
    "\n",
    "## Elements of a list \n",
    "\n",
    "Any data type! can be in a list! Remeber that. Its a collection of other things! \n",
    "\n",
    "### Lists are itterables! \n",
    "\n",
    "A list is defined with []\n",
    "\n",
    "### Adding elemets into a list\n",
    "the elements will be added at the end of the list unless you tell it the exact position you want to be added.\n",
    "\n",
    "### Printing specific elements\n",
    "\n",
    "We specify using the index of the element in the list \n",
    "print(new_list[4])\n",
    "\n",
    "We can also change the list values at any time:\n",
    "new_list[4] = \"new value\"\n"
   ]
  },
  {
   "cell_type": "code",
   "execution_count": 20,
   "id": "7a2c96a8-d086-4b98-9c5b-762b48e71b55",
   "metadata": {},
   "outputs": [
    {
     "name": "stdout",
     "output_type": "stream",
     "text": [
      "[10, 20, 30, 40, 50, 'test']\n",
      "[]\n",
      "[2]\n",
      "This is an empty list: []\n",
      "This is the list that was populated with the loop [10, 20, 30, 40, 50]\n"
     ]
    }
   ],
   "source": [
    "#Creating a list \n",
    "my_list = [10,20,30,40,50,'test']\n",
    "#Printing the list\n",
    "print(my_list)\n",
    "\n",
    "# we can have blank lists\n",
    "empty_list = []\n",
    "print(empty_list)\n",
    "\n",
    "#We can add values to a list with .append()\n",
    "empty_list.append(2)\n",
    "print(empty_list)\n",
    "\n",
    "#We cna use a loop to add all values to list \n",
    "#We cna use a loop to add all values to list \n",
    "data = [10,20,30,40,50]\n",
    "results=[]\n",
    "print('This is an empty list:',results)\n",
    "for x in data:\n",
    "    results.append(x)\n",
    "print('This is the list that was populated with the loop', results)"
   ]
  },
  {
   "cell_type": "code",
   "execution_count": 26,
   "id": "ea16e7e7-1f97-4590-9f24-6c3db9aa4a21",
   "metadata": {},
   "outputs": [
    {
     "name": "stdout",
     "output_type": "stream",
     "text": [
      "['Apples', 'Bananas', '6 coconuts', 'Strawberries', 'Starfruit', 'WD40']\n",
      "6 coconuts\n",
      "['6 coconuts', 'Strawberries', 'Starfruit', 'WD40']\n",
      "['Apples', 'Bananas', '6 coconuts']\n",
      "Starfruit\n"
     ]
    }
   ],
   "source": [
    "#Created the list\n",
    "grocery_list = ['Apples','Bananas','6 coconuts','Strawberries','Starfruit','WD40']\n",
    "\n",
    "#print the list\n",
    "print(grocery_list)\n",
    "\n",
    "# Print 6 cocunuts\n",
    "print(grocery_list[2])\n",
    "\n",
    "# Print from cocunts to the end\n",
    "print(grocery_list[2:])\n",
    "\n",
    "#Print beggining to 3 index\n",
    "print(grocery_list[:3])\n",
    "\n",
    "#We do not need to know the exact value example\n",
    "\n",
    "get_this_index = 4\n",
    "print(grocery_list[get_this_index]) #Is taking the specific item from the list\n",
    "\n",
    "\n"
   ]
  },
  {
   "cell_type": "code",
   "execution_count": 27,
   "id": "24f9efe5-15b3-4fa4-bb2c-2284250efb47",
   "metadata": {},
   "outputs": [
    {
     "name": "stdout",
     "output_type": "stream",
     "text": [
      "WD40\n"
     ]
    }
   ],
   "source": [
    "# Another way to grab elements\n",
    "var1 = \"12496\"\n",
    "var2 = len(var1)\n",
    "print(grocery_list[var2])"
   ]
  },
  {
   "cell_type": "code",
   "execution_count": 30,
   "id": "fe063290-e7ce-4734-ade7-7f3686f723a2",
   "metadata": {},
   "outputs": [
    {
     "name": "stdout",
     "output_type": "stream",
     "text": [
      "['Zebras']\n",
      "['Zebras', 'Cheethas']\n",
      "['Firewood', 'Cheethas']\n"
     ]
    }
   ],
   "source": [
    "#Create list\n",
    "new_grocery_list =['Zebras']\n",
    "\n",
    "print(new_grocery_list)\n",
    "\n",
    "#Adde - append\n",
    "animal=\"Cheethas\"\n",
    "new_grocery_list.append(animal)\n",
    "print(new_grocery_list)\n",
    "\n",
    "new_grocery_list[0]=\"Firewood\" # This replaces the value zebra for firewood\n",
    "print(new_grocery_list)"
   ]
  },
  {
   "cell_type": "code",
   "execution_count": null,
   "id": "fa160d57-368b-48b1-b334-2f7f2b16cf64",
   "metadata": {},
   "outputs": [],
   "source": []
  }
 ],
 "metadata": {
  "kernelspec": {
   "display_name": "Python 3",
   "language": "python",
   "name": "python3"
  },
  "language_info": {
   "codemirror_mode": {
    "name": "ipython",
    "version": 3
   },
   "file_extension": ".py",
   "mimetype": "text/x-python",
   "name": "python",
   "nbconvert_exporter": "python",
   "pygments_lexer": "ipython3",
   "version": "3.8.8"
  }
 },
 "nbformat": 4,
 "nbformat_minor": 5
}
