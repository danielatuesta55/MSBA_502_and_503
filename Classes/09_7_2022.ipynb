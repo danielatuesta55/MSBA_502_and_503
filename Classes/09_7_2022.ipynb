{
 "cells": [
  {
   "cell_type": "code",
   "execution_count": 4,
   "id": "74d9b1b6-eaca-46bc-93e6-0ce4d7eab12a",
   "metadata": {},
   "outputs": [
    {
     "name": "stdout",
     "output_type": "stream",
     "text": [
      "10\n",
      "2\n"
     ]
    }
   ],
   "source": [
    "#Using floor division //=\n",
    "x = 10 \n",
    "print(x)\n",
    "x //= 4\n",
    "print(x)"
   ]
  },
  {
   "cell_type": "code",
   "execution_count": 5,
   "id": "287bd22c-472d-4b7e-8c33-5ac5e2c90d8c",
   "metadata": {},
   "outputs": [
    {
     "name": "stdout",
     "output_type": "stream",
     "text": [
      "10\n",
      "2\n"
     ]
    }
   ],
   "source": [
    "#Using modulus %\n",
    "x = 10 \n",
    "print(x)\n",
    "x %= 4\n",
    "print(x)"
   ]
  },
  {
   "cell_type": "code",
   "execution_count": 1,
   "id": "043f67c6-8f8e-4cba-93c3-5754e87bcb8c",
   "metadata": {},
   "outputs": [
    {
     "name": "stdout",
     "output_type": "stream",
     "text": [
      "2\n"
     ]
    }
   ],
   "source": [
    "print(10-((7//2)*3)+1)"
   ]
  },
  {
   "cell_type": "code",
   "execution_count": 2,
   "id": "cb853376-e260-4d5f-8b24-bff4b27fdd9e",
   "metadata": {},
   "outputs": [],
   "source": [
    "#Make sure for HW one when you print the output has spaces you can dd spaces at then end before the endong\" mark\n",
    "#Calcualte discount you need to use int to transform user input into interger \n"
   ]
  },
  {
   "cell_type": "code",
   "execution_count": 5,
   "id": "c2d641d5-baef-41f3-bb49-0f06f8022c5a",
   "metadata": {},
   "outputs": [
    {
     "name": "stdin",
     "output_type": "stream",
     "text": [
      "How old are you? 5\n"
     ]
    },
    {
     "name": "stdout",
     "output_type": "stream",
     "text": [
      "I am 5 years old\n"
     ]
    }
   ],
   "source": [
    "age = input(\"How old are you?\")\n",
    "print('I am {} years old'.format(age))"
   ]
  },
  {
   "cell_type": "code",
   "execution_count": 11,
   "id": "ce99fd46-bd67-4571-bcc4-b835b579bd72",
   "metadata": {},
   "outputs": [
    {
     "name": "stdin",
     "output_type": "stream",
     "text": [
      "What is your age? 54\n"
     ]
    },
    {
     "name": "stdout",
     "output_type": "stream",
     "text": [
      "You cannot collect SS right now, you will be able in 8 years\n"
     ]
    }
   ],
   "source": [
    "#Determine the users current age\n",
    "#Print how long until they can collect SS\n",
    "#(SS age is 62)\n",
    "\n",
    "age = int(input(\"What is your age?\"))\n",
    "SS_age = 62\n",
    "\n",
    "if user_age >= 62:\n",
    "    print('You can collect SS now')\n",
    "else:\n",
    "    age_difference =  62 - age\n",
    "\n",
    "    print('You cannot collect SS right now, you will be able in {} years'.format(age_difference))\n",
    "    "
   ]
  },
  {
   "cell_type": "code",
   "execution_count": 14,
   "id": "7bf5ca61-f59b-4ea2-bb84-31cee59a83fc",
   "metadata": {},
   "outputs": [
    {
     "name": "stdin",
     "output_type": "stream",
     "text": [
      "What is your name? 56\n",
      "What is your age? 43\n"
     ]
    },
    {
     "name": "stdout",
     "output_type": "stream",
     "text": [
      "56 Next year you will be 44 years old\n"
     ]
    }
   ],
   "source": [
    "#determine the user current age and name \n",
    "#if they are under 30 print that thet are still young\n",
    "#if they are over 30 orint\"name, you turn age next year\n",
    "user_name = input('What is your name?')\n",
    "user_age = int(input('What is your age?'))\n",
    "\n",
    "if user_age <= 30:\n",
    "    print('you are still young')\n",
    "else:\n",
    "    new_age = user_age + 1 \n",
    "    print ('{} Next year you will be {} years old'. format(user_name,new_age))"
   ]
  },
  {
   "cell_type": "code",
   "execution_count": null,
   "id": "e445e3aa-1222-42ef-9690-3792841a286f",
   "metadata": {},
   "outputs": [],
   "source": []
  }
 ],
 "metadata": {
  "kernelspec": {
   "display_name": "Python 3",
   "language": "python",
   "name": "python3"
  },
  "language_info": {
   "codemirror_mode": {
    "name": "ipython",
    "version": 3
   },
   "file_extension": ".py",
   "mimetype": "text/x-python",
   "name": "python",
   "nbconvert_exporter": "python",
   "pygments_lexer": "ipython3",
   "version": "3.8.8"
  }
 },
 "nbformat": 4,
 "nbformat_minor": 5
}
