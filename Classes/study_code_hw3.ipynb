{
 "cells": [
  {
   "cell_type": "code",
   "execution_count": 103,
   "id": "7b2af308-3055-4482-bc7f-7c33c3e2e480",
   "metadata": {},
   "outputs": [
    {
     "name": "stdout",
     "output_type": "stream",
     "text": [
      "The total attempts by the player where 50, knowing that the player has an efficiency of 75% this time the player hit the bullseye 40 times and missed it 10 times. The players accuracy is 58.0%\n"
     ]
    }
   ],
   "source": [
    "import random \n",
    "hits = []\n",
    "misses =[]\n",
    "for i in range(0,50,1):\n",
    "    shot = random.random()\n",
    "    if shot <=0.75:\n",
    "        hits.append(shot)\n",
    "    else:\n",
    "        misses.append(shot)\n",
    "number_hits = len(hits)\n",
    "number_misses = len(misses)\n",
    "attempts = number_hits+number_misses\n",
    "percent = (number_hits*100)/number_misses\n",
    "print(f\"The total attempts by the player where {attempts}, knowing that the player has an efficiency of 75% this time the player hit the bullseye {number_hits} times and missed it {number_misses} times. The players accuracy is {percentage}%\")"
   ]
  },
  {
   "cell_type": "code",
   "execution_count": 24,
   "id": "a7299047-f646-4c1f-9887-f2e0e2b8e6b5",
   "metadata": {
    "tags": []
   },
   "outputs": [
    {
     "name": "stdout",
     "output_type": "stream",
     "text": [
      "1\n",
      "1\n",
      "0\n",
      "1\n",
      "1\n",
      "1\n",
      "1\n",
      "1\n",
      "0\n",
      "1\n",
      "0\n",
      "1\n",
      "1\n",
      "1\n",
      "0\n",
      "0\n",
      "1\n",
      "1\n",
      "0\n",
      "1\n",
      "0\n",
      "1\n",
      "1\n",
      "1\n",
      "1\n",
      "1\n",
      "0\n",
      "1\n",
      "0\n",
      "1\n",
      "1\n",
      "0\n",
      "0\n",
      "1\n",
      "1\n",
      "0\n",
      "1\n",
      "0\n",
      "1\n",
      "0\n",
      "0\n",
      "0\n",
      "1\n",
      "0\n",
      "0\n",
      "0\n",
      "0\n",
      "0\n",
      "0\n",
      "0\n",
      "This is hit [1, 1, 1, 1, 1, 1, 1, 1, 1, 1, 1, 1, 1, 1, 1, 1, 1, 1, 1, 1, 1, 1, 1, 1, 1, 1, 1]\n",
      "This is miss [0, 0, 0, 0, 0, 0, 0, 0, 0, 0, 0, 0, 0, 0, 0, 0, 0, 0, 0, 0, 0, 0, 0]\n",
      "missed: 23\n",
      "hit: 27\n",
      "total: 50\n",
      "The player had an accuracy of 54.0%\n"
     ]
    }
   ],
   "source": [
    "import random as r\n",
    "\n",
    "hit = []\n",
    "miss = []\n",
    "shots = []\n",
    "\n",
    "for i in range(1,51,1):\n",
    "    shot = r.randrange(0,2)\n",
    "    shots.append(shot)\n",
    "    print(shot)\n",
    "    \n",
    "    \n",
    "for k in shots:\n",
    "    if k == 1:\n",
    "        hit.append(k)\n",
    "    else:\n",
    "        miss.append(k)\n",
    "\n",
    "print(f\"This is hit {hit}\")\n",
    "print(f\"This is miss {miss}\")\n",
    "\n",
    "total_miss = len(miss)\n",
    "total_hit = len(hit)\n",
    "\n",
    "total_shots = total_miss+total_hit\n",
    "\n",
    "print(f\"missed: {total_miss}\")\n",
    "print(f\"hit: {total_hit}\")\n",
    "print(f\"total: {total_shots}\")\n",
    "\n",
    "percentage = total_hit*100/total_shots\n",
    "\n",
    "print(f\"The player had an accuracy of {percentage}%\")\n"
   ]
  },
  {
   "cell_type": "markdown",
   "id": "3a94e378-3c6c-460c-ba92-a85c9f63d785",
   "metadata": {},
   "source": [
    "# CODE FOR HW #3"
   ]
  },
  {
   "cell_type": "markdown",
   "id": "da75fd4d-0a3f-40ee-baa0-7fd482759431",
   "metadata": {},
   "source": [
    "The operation's Lobster year, depending on random chance (e.g., weather conditions, luck),  will produce one of the following outcomes each year:\n",
    " \n",
    "    Option 1: 10% chance: excellent yield; the diving operation earns $125,000.\n",
    "    Option 2: 70% chance: moderate yield; the diving operation earns $50,000.\n",
    "    Option 3: 20% chance: poor yield; the diving operation loses $10,000.\n",
    "    \n",
    "bin 1 = 0-10\n",
    "bin 2 = 10-30\n",
    "bin 3 = 30-100"
   ]
  },
  {
   "cell_type": "code",
   "execution_count": 85,
   "id": "00642e08-eaf4-4ee2-89ff-ada214619c68",
   "metadata": {},
   "outputs": [
    {
     "name": "stdout",
     "output_type": "stream",
     "text": [
      "0.10344008888733924\n",
      "Pay $50,000\n"
     ]
    }
   ],
   "source": [
    "#Main code for know how good the year was for LOBSTER OPERATION\n",
    "import random\n",
    "chances = random.random()\n",
    "print(chances)\n",
    "if chances <=0.1:\n",
    "    print(\"Pay $125,000\")\n",
    "elif chances <= 0.3:\n",
    "    print(\"Pay $50,000\")\n",
    "else:\n",
    "    print(\"Pay -$10,000\")"
   ]
  },
  {
   "cell_type": "markdown",
   "id": "e6922018-ecaa-4749-a94e-551bd41e4be6",
   "metadata": {},
   "source": [
    "Depending on random chance (e.g., weather conditions, luck), in years the operation focuses on Bullwhip Kelp, it will produce one of the following outcomes each year:\n",
    " \n",
    "    Option 1: 60% chance: good yield; the diving operation earns $45,000.\n",
    "    Option 2: 40% chance: poor yield; the diving operation loses $10,000."
   ]
  },
  {
   "cell_type": "code",
   "execution_count": 86,
   "id": "24b2fe81-9fb6-4b6d-ae52-ac5ee7c3209b",
   "metadata": {},
   "outputs": [
    {
     "name": "stdout",
     "output_type": "stream",
     "text": [
      "0.10078657937191038\n",
      "Pay $45,000\n"
     ]
    }
   ],
   "source": [
    "#Main code for know how good the year was for BULLWHIP OPERATION\n",
    "import random\n",
    "chances = random.random()\n",
    "print(chances)\n",
    "if chances <=0.6:\n",
    "    print(\"Pay $45,000\")\n",
    "else:\n",
    "    print(\"loss -$10,000\")\n"
   ]
  },
  {
   "cell_type": "markdown",
   "id": "6fcd8163-a82d-4b67-8d12-97f81bdb77d6",
   "metadata": {},
   "source": [
    "Depending on random chance (e.g., weather conditions, luck), in years the operation focuses on Urchins, it will produce one of the following outcomes each year:\n",
    " \n",
    "    Option 1: 75% chance: good yield; the diving operation earns $30,000.\n",
    "    Option 2: 25% chance: poor yield; the diving operation loses $5,000."
   ]
  },
  {
   "cell_type": "code",
   "execution_count": 84,
   "id": "1f6f5ccd-7e7d-45af-b345-1f7328189e93",
   "metadata": {},
   "outputs": [
    {
     "name": "stdout",
     "output_type": "stream",
     "text": [
      "0.7432907253632379\n",
      "Pay $125,000\n"
     ]
    }
   ],
   "source": [
    "#Main code for know how good the year was for URCHINS OPERATION\n",
    "import random\n",
    "chances = random.random()\n",
    "print(chances)\n",
    "if chances <=0.75:\n",
    "    print(\"Pay $30,000\")\n",
    "else:\n",
    "    print(\"Loss -$5,000\")\n"
   ]
  },
  {
   "cell_type": "code",
   "execution_count": 45,
   "id": "fd938b85-b0c8-4bdf-9e09-83cf43337873",
   "metadata": {},
   "outputs": [
    {
     "name": "stdout",
     "output_type": "stream",
     "text": [
      "The odds of this season is 58.0%\n"
     ]
    }
   ],
   "source": [
    "import random as r\n",
    "\n",
    "random_list = []\n",
    "list_1 = []\n",
    "list_2 = []\n",
    "\n",
    "\n",
    "for i in range(0,100,1):\n",
    "    number = r.randrange(0,2)\n",
    "    random_list.append(number)\n",
    "#print(random_list)\n",
    "\n",
    "for i in random_list:\n",
    "    if i == 1:\n",
    "        list_1.append(i)\n",
    "    else:\n",
    "        list_2.append(i)\n",
    "\n",
    "total = len(random_list)\n",
    "total_1 = len(list_1)\n",
    "total_2 =len(list_2)\n",
    "\n",
    "percentage = total_1*100/total\n",
    "\n",
    "print(f\"The odds of this season is {percentage}%\")\n",
    "\n",
    "    "
   ]
  },
  {
   "cell_type": "code",
   "execution_count": 42,
   "id": "1e30611b-74d9-493d-a2cf-61da798e4095",
   "metadata": {},
   "outputs": [
    {
     "name": "stdout",
     "output_type": "stream",
     "text": [
      "0.5730511108924368\n",
      "1\n",
      "1\n"
     ]
    }
   ],
   "source": [
    "a= random.random()\n",
    "b=random.randint(0,2)\n",
    "c=random.randrange(0,2)\n",
    "\n",
    "print(a)\n",
    "print(b)\n",
    "print(c)"
   ]
  },
  {
   "cell_type": "code",
   "execution_count": 126,
   "id": "f750d762-fd8b-4a84-93e4-931f2bc8ece4",
   "metadata": {},
   "outputs": [
    {
     "name": "stdout",
     "output_type": "stream",
     "text": [
      "0.6666666666666666\n"
     ]
    }
   ],
   "source": [
    "x = 2/3\n",
    "print(x)"
   ]
  },
  {
   "cell_type": "code",
   "execution_count": 145,
   "id": "d8123937-dbdb-4ebf-b621-1e0c9d0282ce",
   "metadata": {},
   "outputs": [
    {
     "name": "stdout",
     "output_type": "stream",
     "text": [
      "1\n"
     ]
    }
   ],
   "source": [
    "x = 1%3\n",
    "print(x)"
   ]
  }
 ],
 "metadata": {
  "kernelspec": {
   "display_name": "Python 3",
   "language": "python",
   "name": "python3"
  },
  "language_info": {
   "codemirror_mode": {
    "name": "ipython",
    "version": 3
   },
   "file_extension": ".py",
   "mimetype": "text/x-python",
   "name": "python",
   "nbconvert_exporter": "python",
   "pygments_lexer": "ipython3",
   "version": "3.8.8"
  },
  "vscode": {
   "interpreter": {
    "hash": "4d9defa72c2715dab9f7f172572cd30a1ab1a2083462d32ef96aadb7c6e0c73b"
   }
  }
 },
 "nbformat": 4,
 "nbformat_minor": 5
}
