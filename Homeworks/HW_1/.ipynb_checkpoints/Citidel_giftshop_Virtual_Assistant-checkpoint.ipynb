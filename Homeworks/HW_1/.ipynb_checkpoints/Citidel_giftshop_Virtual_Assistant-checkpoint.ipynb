{
 "cells": [
  {
   "cell_type": "markdown",
   "id": "3b70679b-6bdd-4dd7-868d-16c2856a2ebc",
   "metadata": {},
   "source": [
    "# Welcome to the Citidel Gift Shop Virtual Assistant!\n",
    "\n",
    "### This virtual assistan was created by Jorge Daniel Atuesta.\n",
    "\n"
   ]
  },
  {
   "cell_type": "code",
   "execution_count": 103,
   "id": "d3461f9b-d167-4fb5-ac35-129622515509",
   "metadata": {},
   "outputs": [
    {
     "name": "stdin",
     "output_type": "stream",
     "text": [
      "Hi and welcome to Citidel Gift Shop. Can I please get a name for the order? Katie\n"
     ]
    },
    {
     "name": "stdout",
     "output_type": "stream",
     "text": [
      "Thank you Katie, it is a pleasure to serve you today.\n",
      "Here is a list of the products being offerd today: 1. Plumbuses 2. Meeseek Boxes and 3. Portal Fluid\n"
     ]
    },
    {
     "name": "stdin",
     "output_type": "stream",
     "text": [
      "Katie, would you like to buy Plumbuses today? yes\n",
      "Katie, how many Plumbuses do you need today? 8\n"
     ]
    },
    {
     "name": "stdout",
     "output_type": "stream",
     "text": [
      "Katie, your cart is at $140.0 Let's see what else I can get for you today.\n"
     ]
    },
    {
     "name": "stdin",
     "output_type": "stream",
     "text": [
      "Katie, would you like to buy Meeseek Boxes today? yes\n",
      "Katie, how many Meeseek Boxes do you need today? 10\n"
     ]
    },
    {
     "name": "stdout",
     "output_type": "stream",
     "text": [
      "Katie, your cart is at $155.0. Let's see what else I can get for you today.\n"
     ]
    },
    {
     "name": "stdin",
     "output_type": "stream",
     "text": [
      "Katie, would you like to buy Portal Fluid today? yes\n",
      "Katie, how many Portal Fluid do you need today? 100\n"
     ]
    },
    {
     "name": "stdout",
     "output_type": "stream",
     "text": [
      "Katie, your cart is at $755.0 Let's head out to checkout.\n",
      "Katie, your final purhcase includes: 8 Plumbuses, 10 Meeseeks Boxes, and 100 gallons Portal Fluid. The final amount to pay is $755.0, We hope to see you again soon!\n"
     ]
    }
   ],
   "source": [
    "# Citidel giftshop Virtual Assistant\n",
    "# Created by Jorge Daniel Atuesta\n",
    "\n",
    "#Get the users name from input \n",
    "\n",
    "user_name = input('Hi and welcome to Citidel Gift Shop. Can I please get a name for the order?')\n",
    "\n",
    "#Check if user input value is stored into username variable with print statement.\n",
    "#print(user_name)\n",
    "\n",
    "#Print nice to meet you name\n",
    "print('Thank you {}, it is a pleasure to serve you today.'.format(user_name))\n",
    "\n",
    "#List the products offered to the user before asking if they want to buy them or not\n",
    "print(\"Here is a list of the products being offerd today: 1. Plumbuses 2. Meeseek Boxes and 3. Portal Fluid\")\n",
    "\n",
    "#First purchase\n",
    "#Declare buy_plumbuses variable with user input\n",
    "buy_plumbuses = input('{}, would you like to buy Plumbuses today?'.format(user_name))\n",
    "\n",
    "#Created first IF statment\n",
    "if buy_plumbuses == \"yes\":\n",
    "    number_of_plumbuses = int(input('{}, how many Plumbuses do you need today?'.format(user_name)))\n",
    "    #Nested IF to get total value of purchase\n",
    "    if 0<= number_of_plumbuses <= 5:\n",
    "        #Create variable to hold total price for the amount of boxes user required\n",
    "        cost_plumbuses = 20.00 * number_of_plumbuses\n",
    "        #create total_cart variable\n",
    "        total_cart = cost_plumbuses\n",
    "        #print current cart\n",
    "        print(\"{}, your cart is at ${} Let's see what else I can get for you today.\".format(user_name, total_cart))\n",
    "    #Created elif statement to get discount bewteen 5 - 15\n",
    "    elif 5 <= number_of_plumbuses <= 15:\n",
    "        #get value with disocunt\n",
    "        cost_plumbuses = 17.5 * number_of_plumbuses\n",
    "        #create total_cart variable\n",
    "        total_cart = cost_plumbuses\n",
    "        #print current cart value\n",
    "        print(\"{}, your cart is at ${} Let's see what else I can get for you today.\".format(user_name, total_cart))\n",
    "    #Created else to finish nested if statement   \n",
    "    else:\n",
    "        #get value with disocunt\n",
    "        cost_plumbuses = 15.25 * number_of_plumbuses\n",
    "        #create total_cart variable\n",
    "        total_cart = cost_plumbuses\n",
    "        #print current cart\n",
    "        print(\"{}, your cart is at ${} Let's see what else I can get for you today.\".format(user_name, total_cart))\n",
    "else:\n",
    "    #Make sure total cart is $0\n",
    "    total_cart = 0\n",
    "    #Make sure total number of plumbuses is 0\n",
    "    number_of_plumbuses = 0\n",
    "    print(\"That's ok {}, we will move to the next option...\".format(user_name))\n",
    "    #Make sure cost of plumbuses is 0\n",
    "    cost_plumbuses = 0\n",
    "\n",
    "#Second purchase \n",
    "#Declare buy_meeseek_boxes variable with user input\n",
    "buy_meeseeks_boxes = input('{}, would you like to buy Meeseek Boxes today?'.format(user_name))\n",
    "\n",
    "#Created second IF statment for the meeseeks boxes\n",
    "if buy_meeseeks_boxes == \"yes\":\n",
    "    number_of_meeseeks_boxes = int(input('{}, how many Meeseek Boxes do you need today?'.format(user_name)))\n",
    "    \n",
    "    #Nested IF to get total value of purchase\n",
    "    if 0 <= number_of_meeseeks_boxes <= 9:\n",
    "        \n",
    "        #Create variable to hold total price for the amount of boxes user required\n",
    "        cost_meeseeks_boxes = 1.75 * number_of_meeseeks_boxes\n",
    "        \n",
    "        #Add total_cart to keep track of total payment\n",
    "        total_cart = total_cart + cost_meeseek_boxes\n",
    "        \n",
    "        #print current cart\n",
    "        print(\"{}, your cart is at ${}. Let's see what else I can get for you today.\".format(user_name,total_cart))\n",
    "   \n",
    "    #Created elif statement to get discount bewteen 10 - 18\n",
    "    elif 10 <= number_of_meeseeks_boxes <= 18:\n",
    "        \n",
    "        #get value with disocunt\n",
    "        cost_meeseeks_boxes = 1.50 * number_of_meeseeks_boxes\n",
    "        \n",
    "        #Add total_cart to keep track of total payment\n",
    "        total_cart = total_cart + cost_meeseeks_boxes\n",
    "        \n",
    "        #print current cart value\n",
    "        print(\"{}, your cart is at ${}. Let's see what else I can get for you today.\".format(user_name,total_cart))\n",
    "        \n",
    "    #Created else to finish nested if statement   \n",
    "    else:\n",
    "        #get value with disocunt\n",
    "        cost_meeseeks_boxes = 1.25 * number_of_meeseeks_boxes\n",
    "        \n",
    "        #Add total_cart to keep track of total payment\n",
    "        total_cart = total_cart + cost_meeseeks_boxes\n",
    "        \n",
    "        #print current cart\n",
    "        print(\"{}, your cart is at ${} Let's see what else I can get for you today.\".format(user_name,total_cart))\n",
    "else:\n",
    "    #Create print statment to take client to final product order\n",
    "    print(\"That's ok, we will move to our final product...\")\n",
    "    #Make sure number of meeseek boxes is 0\n",
    "    number_of_meeseeks_boxes=0 \n",
    "    #Make sure total cart is $0\n",
    "    total_cart = 0 + total_cart\n",
    "    \n",
    "\n",
    "# Third purchase\n",
    "\n",
    "#Declare portal_fluid variable with user input\n",
    "buy_portal_fluid = input('{}, would you like to buy Portal Fluid today?'.format(user_name))\n",
    "\n",
    "#Created first IF statment\n",
    "if buy_portal_fluid == \"yes\":\n",
    "    number_of_portal_fluid = int(input('{}, how many Portal Fluid do you need today?'.format(user_name)))\n",
    "    \n",
    "    #Nested IF to get total value of purchase\n",
    "    if 0 <= number_of_portal_fluid <= 2.99:\n",
    "        \n",
    "        #Create variable to hold total price for the amount of boxes user required\n",
    "        cost_portal_fluid = 8.00 * number_of_portal_fluid\n",
    "        \n",
    "        #Add total_cart to keep track of total payment\n",
    "        total_cart = total_cart + cost_portal_fluid\n",
    "        \n",
    "        #print current cart\n",
    "        print(\"{}, your cart is at ${}. Let's head out to checkout.\".format(user_name,total_cart))\n",
    "   \n",
    "    #Created elif statement to get discount bewteen 10 - 18\n",
    "    elif 3 <= number_of_portal_fluid <= 7:\n",
    "        \n",
    "        #get value with disocunt\n",
    "        cost_portal_fluid = 7.00 * number_of_portal_fluid\n",
    "        \n",
    "        #Add total_cart to keep track of total payment\n",
    "        total_cart = total_cart + cost_portal_fluid\n",
    "        \n",
    "        #print current cart value\n",
    "        print(\"{}, your cart is at ${}. Let's head out to checkout.\".format(user_name,total_cart))\n",
    "        \n",
    "    #Created else to finish nested if statement   \n",
    "    else:\n",
    "        #get value with disocunt\n",
    "        cost_portal_fluid = 6.00 * number_of_portal_fluid\n",
    "        \n",
    "        #Add total_cart to keep track of total payment\n",
    "        total_cart = total_cart + cost_portal_fluid\n",
    "        \n",
    "        #print current cart\n",
    "        print(\"{}, your cart is at ${} Let's head out to checkout.\".format(user_name,total_cart))\n",
    "else:\n",
    "    #Print statement to take customer to checkout\n",
    "    print(\"That's ok, Let's head out to checkout...\")   \n",
    "    #Make sure number of portal fluid  is 0\n",
    "    number_of_portal_fluid = 0 \n",
    "    #Make sure total cart is $0\n",
    "    total_cart = 0 + total_cart\n",
    "#Print Final statment with clients name total purchase order\n",
    "print(\"{}, your final purhcase includes: {} Plumbuses, {} Meeseeks Boxes, and {} gallons Portal Fluid. The final amount to pay is ${}, We hope to see you again soon!\".format(user_name,number_of_plumbuses,number_of_meeseeks_boxes,number_of_portal_fluid,total_cart))\n",
    "\n"
   ]
  },
  {
   "cell_type": "code",
   "execution_count": null,
   "id": "8423d47d-0186-4f85-b0ac-0a2b2368a31c",
   "metadata": {},
   "outputs": [],
   "source": []
  }
 ],
 "metadata": {
  "kernelspec": {
   "display_name": "Python 3",
   "language": "python",
   "name": "python3"
  },
  "language_info": {
   "codemirror_mode": {
    "name": "ipython",
    "version": 3
   },
   "file_extension": ".py",
   "mimetype": "text/x-python",
   "name": "python",
   "nbconvert_exporter": "python",
   "pygments_lexer": "ipython3",
   "version": "3.8.8"
  }
 },
 "nbformat": 4,
 "nbformat_minor": 5
}
