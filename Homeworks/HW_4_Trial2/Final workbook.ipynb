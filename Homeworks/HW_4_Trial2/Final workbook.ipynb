{
 "cells": [
  {
   "cell_type": "markdown",
   "id": "2664d431-2ded-4968-a270-c056238c4a45",
   "metadata": {},
   "source": [
    "# To do\n",
    "\n",
    "## Missing this part as to how to append properly line by line! \n",
    "## Line 119\n",
    "\n",
    "https://www.geeksforgeeks.org/how-to-append-a-new-row-to-an-existing-csv-file/"
   ]
  },
  {
   "cell_type": "code",
   "execution_count": 1,
   "id": "7f5bf22b-1fb5-4892-817e-8972bce2e10b",
   "metadata": {},
   "outputs": [
    {
     "name": "stdin",
     "output_type": "stream",
     "text": [
      "What would you like to perform (import/statistics) or end the simulation? statistics\n"
     ]
    },
    {
     "name": "stdout",
     "output_type": "stream",
     "text": [
      "Sorry, no transaction data was loaded yet. Please try again.\n"
     ]
    },
    {
     "name": "stdin",
     "output_type": "stream",
     "text": [
      "Would you like to run any further analyses (yes/no)? yes\n",
      "What would you like to perform (import/statistics)? import\n",
      "Which file would you like to import? transactions_q1.csv\n"
     ]
    },
    {
     "name": "stdout",
     "output_type": "stream",
     "text": [
      "\n",
      "\n",
      "New file created and filled in with imported file data\n",
      "Number of current transactions:4\n",
      "\n"
     ]
    },
    {
     "name": "stdin",
     "output_type": "stream",
     "text": [
      "What would you like to perform (import/statistics) or end the simulation? import\n",
      "Which file would you like to import? transactions_q2.csv\n"
     ]
    },
    {
     "name": "stdout",
     "output_type": "stream",
     "text": [
      "\n",
      "File Imported succesfully, checking for possible duplicate transactions...\n",
      "Checking for duplicates...\n",
      "Almost done...\n",
      "Done!\n",
      "\n",
      "The following transactions have already been recorded: ['9547632', '1584037', '9462158'] \n",
      "Number of current transactions:2\n"
     ]
    },
    {
     "name": "stdin",
     "output_type": "stream",
     "text": [
      "Would you like to run any further analyses (yes/no)? yes\n",
      "What would you like to perform (import/statistics) or end the simulation? statistics\n"
     ]
    },
    {
     "name": "stdout",
     "output_type": "stream",
     "text": [
      "\n",
      "Number of current transactions 6\n",
      "Total Amount pending: $ 11,800\n",
      "\n"
     ]
    },
    {
     "name": "stdin",
     "output_type": "stream",
     "text": [
      "Would you like to run any further analyses (yes/no)? n\n"
     ]
    },
    {
     "name": "stdout",
     "output_type": "stream",
     "text": [
      "\n",
      "Thanks for using this simulation\n"
     ]
    }
   ],
   "source": [
    "# Import dependencies \n",
    "import csv\n",
    "from csv import writer\n",
    "import os\n",
    "from operator import itemgetter\n",
    "import time \n",
    "\n",
    "#Create Stats function \n",
    "\n",
    "#Stats function \n",
    "def statistics():\n",
    "    \"\"\"Created a funciton that runs all code for statistics option\"\"\"\n",
    "    \n",
    "    # Set counters and empty lists for data collection\n",
    "    total_rows = 0\n",
    "    pending = []\n",
    "    total_pending = 0\n",
    "    total_pending_money_only=[]\n",
    "    \n",
    "    # Created a conditional statement to check if the \"main\" file existis or not\n",
    "    if os.path.exists(\"transaction_ledger.csv\"):\n",
    "        is_file='yes'\n",
    "    else:\n",
    "        is_file='no'\n",
    "    \n",
    "    # Created a conditional statement if the file does or doesn't exist to preform actions\n",
    "    if is_file == 'no':\n",
    "        #If the file doesn't exist prompt the user and ask them to try again\n",
    "        print(\"Sorry, no transaction data was loaded yet. Please try again.\")\n",
    "        \n",
    "\n",
    "    if is_file == 'yes':\n",
    "        #If the file does exist then open it in read mode and preforme calculations\n",
    "        with open('transaction_ledger.csv','r') as file:\n",
    "            reader = csv.reader(file)\n",
    "            header = next(file)\n",
    "            for i in reader:\n",
    "                total_rows += 1\n",
    "                #print(i)\n",
    "                #Extracting only the values that have pending \n",
    "                if i[4]=='PENDING':\n",
    "                    pending.append(i)\n",
    "                \n",
    "            #Created inner function in order to grab the value on index 3 (amount) and create calculations\n",
    "            #Used this as a resource for the code https://www.geeksforgeeks.org/python-converting-all-strings-in-list-to-integers/\n",
    "            def Extract(pending):\n",
    "                return list(map(itemgetter(3), pending))\n",
    "            \n",
    "            #Storing the previous step into a variable\n",
    "            final_list_with_values = Extract(pending)\n",
    "            \n",
    "            # Since python reads in values as strings I converted the strings to floats\n",
    "            total_pending_money_only = [round(float(i)) for i in final_list_with_values]\n",
    "            \n",
    "            # Created this for loop to add all the values and show them to user\n",
    "            for i in total_pending_money_only:\n",
    "                total_pending += i\n",
    "           \n",
    "            # Formating print statement\n",
    "            print()\n",
    "            # Printed the results to the user    \n",
    "            print(f\"Number of current transactions {total_rows}\")\n",
    "            print(\"Total Amount pending: $\",\"{:,}\".format(total_pending))\n",
    "            # Formating print statement\n",
    "            print()\n",
    "\n",
    "#Create empty list that will hold all unique ID's in the transaction_ledgers csv that will be compared to identify duplicate transactions\n",
    "unique_id_transaction_ledgers = []\n",
    "\n",
    "#Create the Import function\n",
    "def ImportFunction():\n",
    "    \n",
    "    #Create empty list to hold duplicate ID's found on the imported file\n",
    "    duplicate_trans = []\n",
    "    total_rows = 0\n",
    "    duplicate_counter = 0\n",
    "    # First step is to ask the user what file they would like to import\n",
    "    which_file = input(\"Which file would you like to import?\")\n",
    "    print()\n",
    "    \n",
    "    #Using os.path.exists check if the 'main' file transaction_ledgeres.csv exists. if it does set varible to 'yes' if not set variable to 'no'\n",
    "    if os.path.exists('transaction_ledger.csv'):\n",
    "        main_file ='yes'\n",
    "    else:\n",
    "        main_file = 'no'\n",
    "    \n",
    "    # Created a conditional statement to check if the \"user choice\" file existis or not\n",
    "    if os.path.exists(which_file):\n",
    "        is_file='yes'\n",
    "    else:\n",
    "        #Prompt the user the file doesnt exist in this file path\n",
    "        print()\n",
    "        print(f\"This file '{which_file}' does not exist.\")\n",
    "        is_file='no'\n",
    "    # Created a conditional statement if the file does or doesn't exist to preform actions\n",
    "    if main_file == 'yes':    \n",
    "        # If true than open the file and preform actions\n",
    "        if is_file == 'yes':\n",
    "            \n",
    "            #Second step is to load the file into python. \n",
    "            with open(which_file,'r') as file:\n",
    "                user_file = file.read()\n",
    "            #print(user_file)             \n",
    "            print(\"File Imported succesfully, checking for possible duplicate transactions...\")    \n",
    "            print(\"Checking for duplicates...\")\n",
    "            time.sleep(0.5)\n",
    "            print(\"Almost done...\")\n",
    "            time.sleep(0.8)\n",
    "            print(\"Done!\")\n",
    "            time.sleep(0.5)\n",
    "            # Reading in the transaction_ledger.csv Since its true\n",
    "            with open('transaction_ledger.csv','r') as file:\n",
    "                trans_file = csv.reader(file)\n",
    "                header = next(trans_file) #This will skip the headers on CSV to be able to compare ID in column one and see if there is duplicate values\n",
    "                #Created loop with the help @craigb anwser on my quesiton on stackover overflow\n",
    "                for i in trans_file:\n",
    "                    unique_id_transaction_ledgers.append(i[0].strip().upper())\n",
    "\n",
    "            # NEW FILE WITH UNIQUE TRANSACTION CONTENT ONLY NO DUPLICATES\n",
    "            with open(which_file,'r') as file:\n",
    "                reader = csv.reader(file)\n",
    "                for i in reader:\n",
    "                    total_rows += 1\n",
    "                    if i[0].strip().upper() in unique_id_transaction_ledgers:\n",
    "                        duplicate_trans.append(i[0])\n",
    "                        duplicate_counter +=1\n",
    "                    else:\n",
    "                        with open('transaction_ledger.csv','a+', newline='') as outfile: # Missing this part as to how to append properly line by line! \n",
    "                            #header = next(outfile)\n",
    "                            writer=csv.writer(outfile,delimiter=\",\")\n",
    "                            writer.writerow(i)\n",
    "                print()\n",
    "                print(f\"The following transactions have already been recorded: {duplicate_trans} \")\n",
    "                time.sleep(0.5)\n",
    "                print(f\"Number of current transactions:{total_rows-duplicate_counter}\")\n",
    "\n",
    "        #If file doesnt exist set flag true\n",
    "        else:\n",
    "            flag = True\n",
    "    # If main file does not exist than create it and preform the actions needed        \n",
    "    if main_file == 'no':\n",
    "        \n",
    "         #Open user file and read it to be able to append to the new empty file transaction_ledger.csv\n",
    "        with open(which_file,'r') as old_file:\n",
    "            reader_obj = csv.reader(old_file) #read the current csv file\n",
    "            #Write transactions_ledgers.csv and preform actions\n",
    "            with open('transaction_ledger.csv', 'w') as new_file:\n",
    "                writer_obj = csv.writer(new_file, delimiter=\",\",lineterminator = \"\\n\")\n",
    "                header = ['ID', 'COMPANY NAME', 'DATE', 'AMOUNT', 'STATUS']\n",
    "                writer_obj.writerow(header)\n",
    "                for data in reader_obj:\n",
    "                    total_rows += 1\n",
    "                    #loop through the read data and write each row in transaction_Ledger.csv\n",
    "                    writer_obj.writerow(data)\n",
    "                print()\n",
    "                print(\"New file created and filled in with imported file data\")\n",
    "                time.sleep(0.2)\n",
    "                print(f\"Number of current transactions:{total_rows}\")\n",
    "                print()\n",
    "        \n",
    "#Create boolean value for while loop name it flag\n",
    "flag = True\n",
    "\n",
    "#Created while loop\n",
    "while flag:\n",
    "    # Ask the user what action they want to preform. \n",
    "    user_selection = input(\"What would you like to perform (import/statistics) or end the simulation?\")\n",
    "    # Conditional - if they choose stats then call the function statistics\n",
    "    if user_selection.strip().lower() == 'statistics':\n",
    "        statistics()\n",
    "        #Ask user if they want to run another analysis \n",
    "        repeat1 = input('Would you like to run any further analyses (yes/no)?' )\n",
    "        if 'y' in repeat1.strip().lower():\n",
    "            #ask user what thye want to do\n",
    "            next_step = input(\"What would you like to perform (import/statistics)?\")\n",
    "            if next_step.lower().strip() == 'statistics':\n",
    "                #if statistics than run the statistics function\n",
    "                statistics()\n",
    "                #keep flag true to loop again if the user wants to \n",
    "                flag = True\n",
    "                \n",
    "                #If import run the ImportFunction and keep flag true\n",
    "            elif next_step.lower().strip() == 'import':\n",
    "                ImportFunction()\n",
    "                flag = True\n",
    "       \n",
    "        # If they dont want to continue than end simulation turn flag False        \n",
    "        else:\n",
    "            print()\n",
    "            print(\"Thanks for using this simulation\")\n",
    "            flag = False\n",
    "        \n",
    "    # Conditional -  if they choose the import function then call the ImportFunction\n",
    "    elif user_selection.lower().strip() == 'import':\n",
    "        ImportFunction()\n",
    "        #Ask user if they want to run another analysis \n",
    "        repeat = input('Would you like to run any further analyses (yes/no)?' )\n",
    "        if 'y' in repeat.strip().lower():\n",
    "            flag = True\n",
    "        else:\n",
    "            print(\"Thanks for using this simulation\")\n",
    "            flag = False\n",
    "    elif 'e' in user_selection[0].lower().strip():\n",
    "        print()\n",
    "        print(\"Thanks for using this simulation\")\n",
    "        flag = False\n",
    "    # If the user inputs an invalid operation than prompt them that the program doesnt preform the action and ask them to try again\n",
    "    else:\n",
    "        print()\n",
    "        print(\"Sorry, this program can only run the following two funtions: 1. Import 2. Statistics or you can end the simulation\")\n",
    "        flag = True\n",
    "\n",
    "        \n",
    "    \n"
   ]
  },
  {
   "cell_type": "code",
   "execution_count": 16,
   "id": "474fa035-0f99-4bca-bf88-ca3ba511add2",
   "metadata": {},
   "outputs": [
    {
     "name": "stdout",
     "output_type": "stream",
     "text": [
      "['ID', 'COMPANY NAME', 'DATE', 'AMOUNT', 'STATUS']\n",
      "['9547632', 'Arasaka', '3/1/2022', '6500', 'PENDING']\n",
      "['1584037', 'Militech', '3/15/2022', '3000', 'COMPLETE']\n",
      "['9433817', 'Arasaka', '4/1/2022', '450', 'COMPLETE']\n",
      "['9462158', 'Arasaka', '4/29/2022', '900', 'PENDING']\n",
      "['7597534', 'Arasaka', '4/15/2022', '600', 'COMPLETE']\n",
      "[]\n",
      "['2165489', 'Militech', '5/15/2022', '4400', 'PENDING']\n",
      "[]\n"
     ]
    }
   ],
   "source": [
    "with open(\"transaction_ledger.csv\", 'r') as file:\n",
    "    csvreader = csv.reader(file)\n",
    "    for row in csvreader:\n",
    "        print(row)"
   ]
  },
  {
   "cell_type": "code",
   "execution_count": null,
   "id": "cafc042d-9949-4d70-92e9-28bc8f710881",
   "metadata": {},
   "outputs": [],
   "source": [
    "with open(\"transactions_q1.csv\", 'r') as file:\n",
    "    csvreader = csv.reader(file)\n",
    "    for row in csvreader:\n",
    "        print(row)"
   ]
  },
  {
   "cell_type": "code",
   "execution_count": 13,
   "id": "3c57123e-e155-439a-b867-255a2a5acce6",
   "metadata": {},
   "outputs": [
    {
     "name": "stdout",
     "output_type": "stream",
     "text": [
      "['9547632', 'Arasaka', '3/1/2022', '6500', 'PENDING']\n",
      "['1584037', 'Militech', '3/15/2022', '3000', 'COMPLETE']\n",
      "['7597534', 'Arasaka', '4/15/2022', '600', 'COMPLETE']\n",
      "['9462158', 'Arasaka', '4/29/2022', '900', 'PENDING']\n",
      "['2165489', 'Militech', '5/15/2022', '4400', 'PENDING']\n"
     ]
    }
   ],
   "source": [
    "with open(\"transactions_q2.csv\", 'r') as file:\n",
    "    csvreader = csv.reader(file)\n",
    "    for row in csvreader:\n",
    "        print(row)"
   ]
  },
  {
   "cell_type": "code",
   "execution_count": 10,
   "id": "63f4d967-7014-474c-b245-a1dba63c80d0",
   "metadata": {},
   "outputs": [
    {
     "name": "stdout",
     "output_type": "stream",
     "text": [
      "['9547632', '1584037', '9433817', '9462158']\n"
     ]
    }
   ],
   "source": [
    "# print(duplicate_trans)\n",
    "# print(duplicate_counter)\n",
    "\n",
    "print(unique_id_transaction_ledgers)"
   ]
  },
  {
   "cell_type": "code",
   "execution_count": 7,
   "id": "e150b0de-5513-4fe1-b530-68224b803f1c",
   "metadata": {},
   "outputs": [
    {
     "name": "stdout",
     "output_type": "stream",
     "text": [
      ".\n",
      ".\n"
     ]
    },
    {
     "data": {
      "text/plain": [
       "(None, None, None)"
      ]
     },
     "execution_count": 7,
     "metadata": {},
     "output_type": "execute_result"
    }
   ],
   "source": [
    "print(\".\"), time.sleep(0.5), print(\".\")"
   ]
  },
  {
   "cell_type": "code",
   "execution_count": 12,
   "id": "e3a3dbd1-ea1a-4374-9591-5f06af2fae65",
   "metadata": {},
   "outputs": [
    {
     "name": "stdout",
     "output_type": "stream",
     "text": [
      "File Imported succesfully, checking for possible duplicate transactions...\n",
      "Checking for duplicates...\n",
      "Almost done...\n",
      "Done! Checking for duplicates\n"
     ]
    }
   ],
   "source": []
  },
  {
   "cell_type": "code",
   "execution_count": null,
   "id": "5c4339d3-d7f9-4014-90ef-8553296a29f8",
   "metadata": {},
   "outputs": [],
   "source": []
  }
 ],
 "metadata": {
  "kernelspec": {
   "display_name": "Python 3",
   "language": "python",
   "name": "python3"
  },
  "language_info": {
   "codemirror_mode": {
    "name": "ipython",
    "version": 3
   },
   "file_extension": ".py",
   "mimetype": "text/x-python",
   "name": "python",
   "nbconvert_exporter": "python",
   "pygments_lexer": "ipython3",
   "version": "3.8.8"
  }
 },
 "nbformat": 4,
 "nbformat_minor": 5
}
