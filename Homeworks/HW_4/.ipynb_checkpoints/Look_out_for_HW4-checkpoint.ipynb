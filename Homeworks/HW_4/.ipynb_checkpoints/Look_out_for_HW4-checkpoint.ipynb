{
 "cells": [
  {
   "cell_type": "markdown",
   "id": "a82ac295-c09b-4787-bf11-e0aec6559225",
   "metadata": {},
   "source": [
    "# What to look out for in HW 4\n",
    "\n",
    "Where to get started?\n",
    "\n",
    "1. Append a file not read or write\n",
    "2. Two moduls -Stats and Import\n",
    "3. In the stats we are only asked to read and not to write start getting stats first \n",
    "4. conditionals to look for values and counters! so we can add full values of pending transactions \n",
    "5. Distinct transactions! How many are pending. We need to use counters for pending and also a counter to get how many rows we have all_rows+=1\n",
    "6. NO FILE PATHS THE DATA HAS TO BE ON THE SAME LOCATION AS THE CODE\n",
    "7. IF FILE DOESNT EXIST DO TRY EXCEPT AND \n",
    "8. FIRST BULLET POINT: Import to read and write to another file -sample 4 or 5 MULTIPLE REQUEST THAT THE PROGRAM NEEDS TO HANDEL. 1. Write info to a file 2. check file if vlaue is in file sample-4 3. indent in another block wtrite if ts not a duplicate. Use print statement if duplicated. The block that is doing it have a counter to ocunt and then print at the end"
   ]
  },
  {
   "cell_type": "code",
   "execution_count": null,
   "id": "375ccbe1-bc30-4b64-af18-5b9838a2cbd6",
   "metadata": {},
   "outputs": [],
   "source": []
  }
 ],
 "metadata": {
  "kernelspec": {
   "display_name": "Python 3",
   "language": "python",
   "name": "python3"
  },
  "language_info": {
   "codemirror_mode": {
    "name": "ipython",
    "version": 3
   },
   "file_extension": ".py",
   "mimetype": "text/x-python",
   "name": "python",
   "nbconvert_exporter": "python",
   "pygments_lexer": "ipython3",
   "version": "3.8.8"
  }
 },
 "nbformat": 4,
 "nbformat_minor": 5
}
