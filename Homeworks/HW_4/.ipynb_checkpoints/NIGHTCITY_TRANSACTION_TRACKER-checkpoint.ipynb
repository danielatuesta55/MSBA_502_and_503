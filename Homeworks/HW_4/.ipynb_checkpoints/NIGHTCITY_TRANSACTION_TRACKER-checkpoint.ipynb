{
 "cells": [
  {
   "cell_type": "markdown",
   "id": "e550ef07-2ce0-40ec-9555-c64fd988a13d",
   "metadata": {},
   "source": [
    "# NIGHTCITY TRANSACTION TRACKER\n",
    "\n",
    "This program has been created with the intention to keep track of financials \n",
    "\n",
    "This code was created by *Jorge Daniel Atuesta* October-27-2022\n"
   ]
  },
  {
   "cell_type": "code",
   "execution_count": 3,
   "id": "8072d18b-5f45-4859-929b-956c7679c41d",
   "metadata": {},
   "outputs": [
    {
     "name": "stdin",
     "output_type": "stream",
     "text": [
      " s\n"
     ]
    },
    {
     "name": "stdout",
     "output_type": "stream",
     "text": [
      "Welcome to the Adrek Robotics transaction tracker!\n"
     ]
    }
   ],
   "source": [
    "#Import dependencies \n",
    "\n",
    "import csv\n",
    "\n",
    "#Initialize while loop\n",
    "repeat = 'yes'\n",
    "\n",
    "#Ask user for name of file they would like to analyze\n",
    "which_file = input(\"\")\n",
    "\n",
    "#Create while loop\n",
    "while 'y' in repeat.strip().lower():\n",
    "    #Try except block to handel user error\n",
    "    try:\n",
    "        with open(which_file,'r') as file:\n",
    "            file_content = file.read()\n",
    "            print(file_content)\n",
    "    except:\n",
    "        print(\"Sorry the user file can't be found. Please try again.\")\n",
    "\n",
    "#Ask user if they want to run another analysis\n",
    "repeat = input(\"Would you like to run any further analyses (yes/no)?\")\n",
    "\n",
    "    #Print welcome message\n",
    "    print('Welcome to the Adrek Robotics transaction tracker!')"
   ]
  },
  {
   "cell_type": "code",
   "execution_count": null,
   "id": "004a87a0-3999-46d6-8c38-bfa712220662",
   "metadata": {},
   "outputs": [],
   "source": []
  }
 ],
 "metadata": {
  "kernelspec": {
   "display_name": "Python 3",
   "language": "python",
   "name": "python3"
  },
  "language_info": {
   "codemirror_mode": {
    "name": "ipython",
    "version": 3
   },
   "file_extension": ".py",
   "mimetype": "text/x-python",
   "name": "python",
   "nbconvert_exporter": "python",
   "pygments_lexer": "ipython3",
   "version": "3.8.8"
  }
 },
 "nbformat": 4,
 "nbformat_minor": 5
}
