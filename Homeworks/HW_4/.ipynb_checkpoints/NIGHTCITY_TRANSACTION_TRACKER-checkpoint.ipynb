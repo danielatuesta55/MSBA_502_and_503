{
 "cells": [
  {
   "cell_type": "markdown",
   "id": "e550ef07-2ce0-40ec-9555-c64fd988a13d",
   "metadata": {},
   "source": [
    "# NIGHTCITY TRANSACTION TRACKER\n",
    "\n",
    "This program has been created with the intention to keep track of financials \n",
    "\n",
    "This code was created by *Jorge Daniel Atuesta* October-27-2022\n"
   ]
  },
  {
   "cell_type": "markdown",
   "id": "18a39858-dc2a-48ba-a431-1ad88206ab98",
   "metadata": {},
   "source": [
    "# Stats is working \n",
    "\n",
    "# import is working but missing the following \n",
    "- reading and seeing if a value is duplicated and if so promting the user and making sure that value is not written. This will be on line 82\n",
    "\n",
    "### I still need to comment all the code"
   ]
  },
  {
   "cell_type": "code",
   "execution_count": 9,
   "id": "004a87a0-3999-46d6-8c38-bfa712220662",
   "metadata": {},
   "outputs": [
    {
     "name": "stdin",
     "output_type": "stream",
     "text": [
      "What would you like to perform (import/statistics)? statistics\n"
     ]
    },
    {
     "name": "stdout",
     "output_type": "stream",
     "text": [
      "['ID', 'COMPANY NAME', 'DATE', 'AMOUNT', 'STATUS']\n",
      "['9547632', 'Arasaka', '3/1/2022', '6500', 'PENDING']\n",
      "['1584037', 'Militech', '3/15/2022', '3000', 'COMPLETE']\n",
      "['9433817', 'Arasaka', '4/1/2022', '450', 'COMPLETE']\n",
      "['9462158', 'Arasaka', '4/29/2022', '900', 'PENDING']\n",
      "\n",
      "Number of current transactions 5\n",
      "Total Amount pending: $ 7,400\n",
      "\n"
     ]
    },
    {
     "name": "stdin",
     "output_type": "stream",
     "text": [
      "Would you like to run any further analyses (yes/no)? y\n"
     ]
    }
   ],
   "source": [
    "import csv\n",
    "from csv import writer\n",
    "import os\n",
    "from operator import itemgetter\n",
    " \n",
    "\n",
    "#Stats function \n",
    "def statistics():\n",
    "    \"\"\"Created a funciton that runs all code for statistics option\"\"\"\n",
    "    \n",
    "    # Set counters and empty lists for data collection\n",
    "    total_rows = 0\n",
    "    pending =[]\n",
    "    total_pending = 0\n",
    "    total_pending_money_only=[]\n",
    "    \n",
    "    # Created a conditional statement to check if the \"main\" file existis or not\n",
    "    if os.path.exists(\"transaction_ledger.csv\"):\n",
    "        is_file='yes'\n",
    "    else:\n",
    "        is_file='no'\n",
    "    \n",
    "    # Created a conditional statement if the file does or doesn't exist to preform actions\n",
    "    if is_file == 'no':\n",
    "        #If the file doesn't exist prompt the user and ask them to try again\n",
    "        print(\"Sorry, no transaction data was loaded yet. Please try again.\")\n",
    "        \n",
    "\n",
    "    if is_file == 'yes':\n",
    "        #If the file does exist then open it in read mode and preforme calculations\n",
    "        with open('transaction_ledger.csv','r') as file:\n",
    "            reader = csv.reader(file)\n",
    "            for i in reader:\n",
    "                total_rows += 1\n",
    "                print(i)\n",
    "                #Extracting only the values that have pending \n",
    "                if i[4]=='PENDING':\n",
    "                    pending.append(i)\n",
    "                \n",
    "            #Created inner function in order to grab the value on index 3 (amount) and create calculations\n",
    "            #Used this as a resource for the code https://www.geeksforgeeks.org/python-converting-all-strings-in-list-to-integers/\n",
    "            def Extract(pending):\n",
    "                return list(map(itemgetter(3), pending))\n",
    "            \n",
    "            #Storing the previous step into a variable\n",
    "            final_list_with_values = Extract(pending)\n",
    "            \n",
    "            # Since python reads in values as strings I converted the strings to floats\n",
    "            total_pending_money_only = [round(float(i)) for i in final_list_with_values]\n",
    "            \n",
    "            # Created this for loop to add all the values and show them to user\n",
    "            for i in total_pending_money_only:\n",
    "                total_pending += i\n",
    "           \n",
    "            # Formating print statement\n",
    "            print()\n",
    "            # Printed the results to the user    \n",
    "            print(f\"Number of current transactions {total_rows}\")\n",
    "            print(\"Total Amount pending: $\",\"{:,}\".format(total_pending))\n",
    "            # Formating print statement\n",
    "            print()\n",
    "        #close the file\n",
    "        file.close()\n",
    "\n",
    "\n",
    "# Create the ImportFunction\n",
    "def ImportFunction():\n",
    "\n",
    "    # First step is to ask the user what file they would like to import\n",
    "    which_file = input(\"Which file would you like to import?\")\n",
    "    #Second step is to load the file into python. For this I will use the With open statement in a try except block so the program doesnt crash if the file doesnt exist\n",
    "    try:\n",
    "        # i need to preform all actions! \n",
    "        with open(which_file,'r') as file:\n",
    "            user_file = file.read()\n",
    "            print(user_file)\n",
    "            \n",
    "    except:\n",
    "        print(\"Sorry the user file can't be found. Please try again.\")\n",
    "    \n",
    "    #Third step is to open the transaction_ledger.csv. If the file doesnt exist create it if it does then preform actions\n",
    "    try:\n",
    "        #Have to do this using append method\n",
    "        with open('transaction_ledger.csv','r') as file:\n",
    "            file_content_transaction_ledger = file.read()\n",
    "            print(file_content_transaction_ledger)\n",
    "    except:\n",
    "        #Open user file and read it to be able to append to the new empty file transaction_ledger.csv\n",
    "        with open(which_file,'r') as old_file:\n",
    "            reader_obj = csv.reader(old_file) #read the current csv file\n",
    "            \n",
    "            with open('transaction_ledger.csv', 'w') as new_file:\n",
    "                writer_obj = csv.writer(new_file, delimiter=\",\",lineterminator = \"\\n\")\n",
    "                header = ['ID', 'COMPANY NAME', 'DATE', 'AMOUNT', 'STATUS']\n",
    "                writer_obj.writerow(header)\n",
    "                for data in reader_obj:\n",
    "                    #loop through the read data and write each row in transaction_Ledger.csv\n",
    "                    writer_obj.writerow(data)\n",
    "        print(\"New file created and filled in with old file data\")  \n",
    "        \n",
    "# Created a user activated while loop so they can preforme as many interactions as they want.          \n",
    "repeat ='yes'\n",
    "# Ask the user what action they want to preform. \n",
    "user_selection = input(\"What would you like to perform (import/statistics)?\")\n",
    "\n",
    "#Created while loop\n",
    "while 'y' in repeat.lower().strip():\n",
    "    # Conditional - if they choose stats then call the function statistics\n",
    "    if user_selection.strip().lower() == 'statistics':\n",
    "        statistics()\n",
    "        break\n",
    "    # Conditional -  if they choose the import function then call the ImportFunction\n",
    "    elif user_selection.lower().strip() == 'import':\n",
    "        ImportFunction()\n",
    "    # If the user inputs an invalid operation than prompt them that the program doesnt preform the action and ask them to try again\n",
    "    else:\n",
    "        print(\"Sorry, this program can only run the following two funtions: 1. Import 2. Statistics\")\n",
    "        break\n",
    "#Ask user if they want to run another analysis        \n",
    "repeat = input('Would you like to run any further analyses (yes/no)?' )\n",
    "    \n",
    " \n",
    "                    "
   ]
  },
  {
   "cell_type": "code",
   "execution_count": 5,
   "id": "83d43fa6-2354-4f2d-adf2-dd69a142cd50",
   "metadata": {},
   "outputs": [
    {
     "name": "stdout",
     "output_type": "stream",
     "text": [
      "9547632,Arasaka,3/1/2022,6500,PENDING\n",
      "\n",
      "1584037,Militech,3/15/2022,3000,COMPLETE\n",
      "\n",
      "9433817,Arasaka,4/1/2022,450,COMPLETE\n",
      "\n",
      "9462158,Arasaka,4/29/2022,900,PENDING\n",
      "\n",
      "\n",
      "9547632,Arasaka,3/1/2022,6500,PENDING\n",
      "1584037,Militech,3/15/2022,3000,COMPLETE\n",
      "9433817,Arasaka,4/1/2022,450,COMPLETE\n",
      "9462158,Arasaka,4/29/2022,900,PENDING\n",
      "\n"
     ]
    }
   ],
   "source": [
    "with open('transaction_ledger.csv','r') as file:\n",
    "    read = file.read()\n",
    "    print(read)\n",
    "with open('transactions_q1.csv','r') as file:\n",
    "    read = file.read()\n",
    "    print(read)"
   ]
  },
  {
   "cell_type": "code",
   "execution_count": null,
   "id": "71e85e41-fefe-4ecf-b511-a4f6047c2656",
   "metadata": {},
   "outputs": [],
   "source": [
    "c = [[2,4,5,6],[1,1,1]]\n",
    "d =[1,2,3]\n",
    "e = []\n",
    "\n",
    "for i in c:\n",
    "    for j in i:\n",
    "       \n",
    "print(e)"
   ]
  },
  {
   "cell_type": "code",
   "execution_count": null,
   "id": "adfa67f3-25ca-471e-b3dd-06d9d66236a9",
   "metadata": {},
   "outputs": [],
   "source": []
  }
 ],
 "metadata": {
  "kernelspec": {
   "display_name": "Python 3",
   "language": "python",
   "name": "python3"
  },
  "language_info": {
   "codemirror_mode": {
    "name": "ipython",
    "version": 3
   },
   "file_extension": ".py",
   "mimetype": "text/x-python",
   "name": "python",
   "nbconvert_exporter": "python",
   "pygments_lexer": "ipython3",
   "version": "3.8.8"
  }
 },
 "nbformat": 4,
 "nbformat_minor": 5
}
