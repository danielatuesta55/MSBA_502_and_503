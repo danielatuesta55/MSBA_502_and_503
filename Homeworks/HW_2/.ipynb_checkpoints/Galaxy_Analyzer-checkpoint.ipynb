{
 "cells": [
  {
   "cell_type": "markdown",
   "id": "20f7dad7-db0e-4377-b458-ff595cc46f5b",
   "metadata": {},
   "source": [
    "<h1 align=\"center\">Welcome to the Galaxy Analyzer Tool!</h1>\n",
    "<h6 align=\"right\">This code was created by Jorge Daniel Atuesta on September 25th 2022</h6>\n",
    "<br>\n",
    "\n",
    "\n",
    "This unique tool will allow you to analyze galaxies, planets, and their planetary incomes. Here are the steps you need to follow to get your results:\n",
    "1. When prompted please enter you name\n",
    "2. Enter the number of galaxies you would like to analyze\n",
    "3. The number of plantes in each of the galaxies\n",
    "4. The income of the planet in each galaxy\n",
    "<br>\n",
    "If you follow the steps correctly you will see the final output display the number of galaxies you chose the number of total planets and who many their are on average on each galaxy. You will also see the average planetary income and average galactic income. Furthermore, you will also see the income distribution of the galaxy! \n",
    "\n",
    "<h5 align=\"center\">Good luck in your Quest!</h5>\n",
    "<br>\n",
    "<p align=\"center\">\n",
    "  <img src=https://media.giphy.com/media/5zf2M4HgjjWszLd4a5/giphy.gif>\n",
    "</p>"
   ]
  },
  {
   "cell_type": "markdown",
   "id": "c9582482-f594-4c7b-8685-fb6154ba9427",
   "metadata": {},
   "source": [
    "# Code that is currently working\n",
    "\n",
    "## !! Distribution pre galaxy not working right  !!"
   ]
  },
  {
   "cell_type": "code",
   "execution_count": null,
   "id": "7109b542-ad19-41d3-acb4-e5da312ba3bd",
   "metadata": {},
   "outputs": [
    {
     "name": "stdin",
     "output_type": "stream",
     "text": [
      "How many galaxies would you like to analyze? 3\n"
     ]
    },
    {
     "name": "stdout",
     "output_type": "stream",
     "text": [
      "\n",
      "\n"
     ]
    },
    {
     "name": "stdin",
     "output_type": "stream",
     "text": [
      "How many planets in Galaxy 1 ? 1\n"
     ]
    },
    {
     "name": "stdout",
     "output_type": "stream",
     "text": [
      "\n"
     ]
    },
    {
     "name": "stdin",
     "output_type": "stream",
     "text": [
      "What is the income in planet 1 in galaxy 1? 23123\n"
     ]
    },
    {
     "name": "stdout",
     "output_type": "stream",
     "text": [
      "\n"
     ]
    },
    {
     "name": "stdin",
     "output_type": "stream",
     "text": [
      "How many planets in Galaxy 2 ? 2\n"
     ]
    },
    {
     "name": "stdout",
     "output_type": "stream",
     "text": [
      "\n"
     ]
    },
    {
     "name": "stdin",
     "output_type": "stream",
     "text": [
      "What is the income in planet 1 in galaxy 2? 123\n",
      "What is the income in planet 2 in galaxy 2? 321231\n"
     ]
    },
    {
     "name": "stdout",
     "output_type": "stream",
     "text": [
      "\n"
     ]
    },
    {
     "name": "stdin",
     "output_type": "stream",
     "text": [
      "How many planets in Galaxy 3 ? 1\n"
     ]
    },
    {
     "name": "stdout",
     "output_type": "stream",
     "text": [
      "\n"
     ]
    },
    {
     "name": "stdin",
     "output_type": "stream",
     "text": [
      "What is the income in planet 1 in galaxy 3? 8900000\n"
     ]
    },
    {
     "name": "stdout",
     "output_type": "stream",
     "text": [
      "\n",
      "Number of planets:  4\n",
      "Number of planets per galaxy:  1.33\n",
      "\n",
      "Average planetary income: $ 2,311,119.25\n",
      "Average galactic income: $ 3,081,492.3333333335\n",
      "\n",
      "Income distribution: Less than $20,000: 1 galaxy(s)\n",
      " At least $20,000 but less than $40,000: 1 galaxy(s)\n",
      " At least $40,000 but less than $60,000: 0 galaxy(s)\n",
      " At least $60,000 but less than $80,000: 0 galaxy(s)\n",
      " At least $80,000: 2 galaxy(s)\n"
     ]
    }
   ],
   "source": [
    "# Code created by Jorge Daniel Atuesta\n",
    "# Submitted on September 27th 2022\n",
    "\n",
    "#Import dependencies \n",
    "import pandas as pd\n",
    "import math\n",
    "import locale\n",
    "locale.setlocale(locale.LC_ALL, 'en_US')\n",
    "\n",
    "#Set the initial replay - yes\n",
    "replay = 'yes'\n",
    "#start while loop\n",
    "while replay.strip().lower() == 'yes':\n",
    "\n",
    "    #Create count variables \n",
    "    count_planets = 0\n",
    "    planetary_income =  0\n",
    "    galactic_income = 0 \n",
    "    income1 = 0\n",
    "    income2 = 0\n",
    "    income3 = 0\n",
    "    income4 = 0\n",
    "    income5 = 0\n",
    "\n",
    "    #Save user response to variable\n",
    "    number_of_galaxies = int(input(\"How many galaxies would you like to analyze?\"))\n",
    "    #Check if code is working and use it to display output to user\n",
    "    #print(\"The number of galaxies you entered is: {}\".format(number_of_galaxies))\n",
    "    #Create white space for ease of interpretation\n",
    "    print()\n",
    "    \n",
    "    #Create for loop to itterate through the len of input from user and print what is needed\n",
    "    for k in range(1, number_of_galaxies + 1, 1):\n",
    "        #Create white space for better user experience\n",
    "        print()\n",
    "        #Get no. of planets from user and store it in a variable. The code will reference the galaxy its reffering to\n",
    "        no_planets = int(input(\"How many planets in Galaxy \"+ str(k) + \" ?\"))\n",
    "        #Start counter\n",
    "        count_planets += no_planets\n",
    "        #Create white space for better user experience\n",
    "        print()\n",
    "        #Print to make sure the math is correct and user integration\n",
    "        #print(\"The number of planets in Galaxy \" + str(k) +\" is:\" + str(i))\n",
    "        #Create white space for better user experience\n",
    "        #print()\n",
    "\n",
    "        #Create for loop with start 1 and end on no_plantes +1 to get income of planets\n",
    "        for i in range(1, no_planets + 1, 1):\n",
    "            #Get user input on the income per planet and store it in a variable\n",
    "            income_planet = float(input(\"What is the income in planet \" + str(i)+ \" in galaxy \" +str(k)+ \"?\"))\n",
    "            #Start counter variable to add incomes\n",
    "            planetary_income += income_planet\n",
    "            \n",
    "            quadrant_income = 0 \n",
    "            quadrant_income += income_planet\n",
    "            \n",
    "            if quadrant_income < 20000:\n",
    "                income1 += 1\n",
    "                \n",
    "            elif 20000 <= quadrant_income <= 39999.99:\n",
    "                income2 += 1\n",
    "                \n",
    "            elif 40000 <= quadrant_income <= 59999.99:\n",
    "                income3 += 1\n",
    "                \n",
    "            elif 60000 <= quadrant_income <= 79999.99:\n",
    "                income4 += 1\n",
    "                \n",
    "            elif quadrant_income >= 80000:\n",
    "                 income5 += 1\n",
    "                \n",
    "            else:\n",
    "                 print(\"Ooops it seems that there was a mistake...\")\n",
    "            \n",
    "    \n",
    "    #Created white space for user interaction\n",
    "    print()\n",
    "    #Print number of planets in the galaxies    \n",
    "    print(\"Number of planets: \" , count_planets)\n",
    "    #Get avg planets per galaxy \n",
    "    planets_per_galaxy = round(count_planets / number_of_galaxies,2)\n",
    "    #print avg planets per galaxy\n",
    "    print(\"Number of planets per galaxy: \", planets_per_galaxy)\n",
    "    #Create white space for user friendliness\n",
    "    print()\n",
    "    #Total planetary income formula\n",
    "    total_planetary_income = planetary_income/count_planets\n",
    "    #print total planetary income\n",
    "    print(\"Average planetary income: $\",\"{:,}\".format(total_planetary_income))#the format will place , in the final output\n",
    "\n",
    "    #total galactic income formula\n",
    "    total_galactic_income = planetary_income/number_of_galaxies\n",
    "    #print total galactic income\n",
    "    print(\"Average galactic income: $\",\"{:,}\".format(total_galactic_income))#the format will place , in the final output\n",
    "    #print white space for user friendliness\n",
    "    print()\n",
    "\n",
    "        \n",
    "    print(\"Income distribution: Less than $20,000:\",income1 , \"galaxy(s)\\n\",\n",
    "          \"At least $20,000 but less than $40,000:\", income2,\"galaxy(s)\\n\",\n",
    "          \"At least $40,000 but less than $60,000:\",income3 , \"galaxy(s)\\n\",\n",
    "         \"At least $60,000 but less than $80,000:\",income4 ,\"galaxy(s)\\n\",\n",
    "         \"At least $80,000:\", income5, \"galaxy(s)\")\n",
    "    \n",
    "    #close while loop\n",
    "    replay = input(\"Would you like to analyze another quadrant (yes/no)?\")"
   ]
  },
  {
   "cell_type": "markdown",
   "id": "09c5f49c-029e-487c-a5da-e593570fd282",
   "metadata": {},
   "source": [
    "# Teachers code for HW"
   ]
  },
  {
   "cell_type": "code",
   "execution_count": 5,
   "id": "f4f66427-c1b6-463e-9a7d-dc2eecd80aaf",
   "metadata": {},
   "outputs": [
    {
     "name": "stdin",
     "output_type": "stream",
     "text": [
      "How many galaxies are we analyzing today? 2\n",
      "How many planets are in Galaxy 1? 2\n",
      "How many planets 1's income? 12\n",
      "How many planets 2's income? 31\n",
      "How many planets are in Galaxy 2? 3\n",
      "How many planets 1's income? 123\n",
      "How many planets 2's income? 321\n",
      "How many planets 3's income? 12\n"
     ]
    },
    {
     "name": "stdout",
     "output_type": "stream",
     "text": [
      "[[12.0, 31.0], [123.0, 321.0, 12.0]]\n"
     ]
    }
   ],
   "source": [
    "#Import dependencies\n",
    "import math \n",
    "import pandas as pd\n",
    "\n",
    "beeeg_list = []\n",
    "conunt_planet = 0\n",
    "total_income = 0\n",
    "\n",
    "galaxy_number = int(input(\"How many galaxies are we analyzing today?\"))\n",
    "\n",
    "for i in range (1, galaxy_number +1):\n",
    "    planets_in_galaxy = int(input(f\"How many planets are in Galaxy {i}?\"))\n",
    "    planet_income = []\n",
    "    \n",
    "    for j in range(1,planets_in_galaxy+1):\n",
    "        planet_income_input = float(input(f\"How many planets {j}'s income?\"))\n",
    "        total_income += planet_income_input\n",
    "        conunt_planet += 1\n",
    "        planet_income.append(planet_income_input)\n",
    "    \n",
    "    beeeg_list.append(planet_income)\n",
    "\n",
    "print(beeeg_list)\n",
    "\n"
   ]
  },
  {
   "cell_type": "code",
   "execution_count": 6,
   "id": "697144e3-b0af-4828-8f47-da9aebe95a20",
   "metadata": {},
   "outputs": [
    {
     "name": "stdout",
     "output_type": "stream",
     "text": [
      "2\n"
     ]
    }
   ],
   "source": [
    "total_count = len(beeeg_list)\n",
    "print(total_count)"
   ]
  },
  {
   "cell_type": "code",
   "execution_count": 8,
   "id": "72f99bc6-cf5f-431b-8fb5-e33640baa353",
   "metadata": {},
   "outputs": [
    {
     "name": "stdout",
     "output_type": "stream",
     "text": [
      "5\n"
     ]
    }
   ],
   "source": [
    "#Count the total length or amount of elements in the list meaning galaxy\n",
    "other_count =0\n",
    "for element in beeeg_list:\n",
    "    amount = len(element)\n",
    "    other_count += amount\n",
    "\n",
    "print(other_count)"
   ]
  },
  {
   "cell_type": "code",
   "execution_count": null,
   "id": "2c15a751-12f2-4db5-a8df-cbfc1b3ff02d",
   "metadata": {},
   "outputs": [],
   "source": []
  },
  {
   "cell_type": "code",
   "execution_count": 9,
   "id": "3adc7689-3c62-4a14-a925-05260fbe9f2b",
   "metadata": {},
   "outputs": [
    {
     "name": "stdout",
     "output_type": "stream",
     "text": [
      "499.0\n"
     ]
    }
   ],
   "source": [
    "#sum of all of the planets income CODE\n",
    "total_income = 0\n",
    "for e in beeeg_list:\n",
    "    list_total=sum(e)\n",
    "    total_income += list_total\n",
    "\n",
    "print(total_income)"
   ]
  },
  {
   "cell_type": "code",
   "execution_count": null,
   "id": "e9ddd231-c763-418a-bf1a-2bcfeb599cd1",
   "metadata": {},
   "outputs": [],
   "source": []
  }
 ],
 "metadata": {
  "kernelspec": {
   "display_name": "Python 3",
   "language": "python",
   "name": "python3"
  },
  "language_info": {
   "codemirror_mode": {
    "name": "ipython",
    "version": 3
   },
   "file_extension": ".py",
   "mimetype": "text/x-python",
   "name": "python",
   "nbconvert_exporter": "python",
   "pygments_lexer": "ipython3",
   "version": "3.8.8"
  }
 },
 "nbformat": 4,
 "nbformat_minor": 5
}
