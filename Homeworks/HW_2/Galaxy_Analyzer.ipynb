{
 "cells": [
  {
   "cell_type": "markdown",
   "id": "20f7dad7-db0e-4377-b458-ff595cc46f5b",
   "metadata": {},
   "source": [
    "### Welcome to the Galaxy Analyzer tool! \n",
    "This unique too will allow you to analyze galaxies, planets, and their planetary incomes. Here are the steps you need to follow to get your results:\n",
    "1. When prompted please enter you name\n",
    "2. Enter the number of galaxies you would like to analyze\n",
    "3. The number of plantes in each of the galaxies\n",
    "4. The income of the planet in each galaxy\n",
    "\n",
    "If you follow the steps correctly you will see the final output display the number of galaxies you chose the number of total planets and who many their are on average on each galaxy. You will also see the average planetary income and average galactic income. Furthermore, you will also see the income distribution of the galaxy! \n",
    "\n",
    "<h5 align=\"center\">Good luck inn your Quest!</h5>\n",
    "<p align=\"center\">\n",
    "  <img width=600 src=https://media.giphy.com/media/5zf2M4HgjjWszLd4a5/giphy.gif>\n",
    "</p>"
   ]
  },
  {
   "cell_type": "code",
   "execution_count": 10,
   "id": "d65ac9e1-dbd3-4685-bec6-087b28e56205",
   "metadata": {},
   "outputs": [],
   "source": [
    "# Code created by Jorge Daniel Atuesta\n",
    "# Submitted on September 27th 2022\n",
    "\n",
    "# Import dependencies \n",
    "import pandas as pd\n",
    "import math as math"
   ]
  },
  {
   "cell_type": "code",
   "execution_count": 29,
   "id": "a277f976-ca2f-4b7a-9f17-e06c4da5672e",
   "metadata": {
    "tags": []
   },
   "outputs": [
    {
     "name": "stdin",
     "output_type": "stream",
     "text": [
      "How many galaxies would you like to analyze? 2\n"
     ]
    },
    {
     "name": "stdout",
     "output_type": "stream",
     "text": [
      "\n",
      "The number of galaxies you entered is: 2\n",
      "\n"
     ]
    },
    {
     "name": "stdin",
     "output_type": "stream",
     "text": [
      "How many planets are in galaxy {}? 1\n"
     ]
    },
    {
     "ename": "AttributeError",
     "evalue": "'NoneType' object has no attribute 'append'",
     "output_type": "error",
     "traceback": [
      "\u001b[1;31m---------------------------------------------------------------------------\u001b[0m",
      "\u001b[1;31mAttributeError\u001b[0m                            Traceback (most recent call last)",
      "\u001b[1;32m<ipython-input-29-840e53795179>\u001b[0m in \u001b[0;36m<module>\u001b[1;34m\u001b[0m\n\u001b[0;32m     19\u001b[0m         \u001b[1;31m#Create for loop to get all the planets in all galaxies\u001b[0m\u001b[1;33m\u001b[0m\u001b[1;33m\u001b[0m\u001b[1;33m\u001b[0m\u001b[0m\n\u001b[0;32m     20\u001b[0m         \u001b[1;32mfor\u001b[0m \u001b[0mi\u001b[0m \u001b[1;32min\u001b[0m \u001b[0mrange\u001b[0m\u001b[1;33m(\u001b[0m\u001b[1;36m1\u001b[0m\u001b[1;33m,\u001b[0m\u001b[0mnumber_of_galaxies\u001b[0m\u001b[1;33m+\u001b[0m\u001b[1;36m1\u001b[0m\u001b[1;33m,\u001b[0m \u001b[1;36m1\u001b[0m\u001b[1;33m)\u001b[0m\u001b[1;33m:\u001b[0m\u001b[1;33m\u001b[0m\u001b[1;33m\u001b[0m\u001b[0m\n\u001b[1;32m---> 21\u001b[1;33m             \u001b[0mplanet_number\u001b[0m \u001b[1;33m=\u001b[0m \u001b[0mplanet_number\u001b[0m\u001b[1;33m.\u001b[0m\u001b[0mappend\u001b[0m\u001b[1;33m(\u001b[0m\u001b[0mi\u001b[0m\u001b[1;33m)\u001b[0m\u001b[1;33m\u001b[0m\u001b[1;33m\u001b[0m\u001b[0m\n\u001b[0m\u001b[0;32m     22\u001b[0m             \u001b[0mnumber_of_planets\u001b[0m \u001b[1;33m=\u001b[0m  \u001b[0mint\u001b[0m\u001b[1;33m(\u001b[0m\u001b[0minput\u001b[0m\u001b[1;33m(\u001b[0m\u001b[1;34m\"How many planets are in galaxy {}?\"\u001b[0m\u001b[1;33m)\u001b[0m\u001b[1;33m.\u001b[0m\u001b[0mformat\u001b[0m\u001b[1;33m(\u001b[0m\u001b[0mplanet_number\u001b[0m\u001b[1;33m)\u001b[0m\u001b[1;33m)\u001b[0m\u001b[1;33m\u001b[0m\u001b[1;33m\u001b[0m\u001b[0m\n\u001b[0;32m     23\u001b[0m         \u001b[1;31m#Create white space for ease of interpretation\u001b[0m\u001b[1;33m\u001b[0m\u001b[1;33m\u001b[0m\u001b[1;33m\u001b[0m\u001b[0m\n",
      "\u001b[1;31mAttributeError\u001b[0m: 'NoneType' object has no attribute 'append'"
     ]
    }
   ],
   "source": [
    "#Create the outter loop structure with a while loop\n",
    "\n",
    "#Set the initial replay - yes\n",
    "replay = 'yes'\n",
    "#start while loop\n",
    "while replay.strip().lower() == 'yes':\n",
    "    #Save user response to variable\n",
    "    number_of_galaxies = int(input(\"How many galaxies would you like to analyze?\"))\n",
    "    #Create white space for ease of interpretation\n",
    "    print()\n",
    "    #Check if code is working and use it to display output to user\n",
    "    print(\"The number of galaxies you entered is: {}\".format(number_of_galaxies))\n",
    "    #Create white space for ease of interpretation\n",
    "    print()\n",
    "    \n",
    "    #Create conditional statement\n",
    "    if number_of_galaxies > 1:\n",
    "        \n",
    "        #Create for loop to get all the planets in all galaxies \n",
    "        for i in range(1,number_of_galaxies+1, 1):\n",
    "            #Create empty list to appended to \n",
    "            planet_number = []\n",
    "            number_of_plantes = int(input(\"How many planets are in galaxy\"))\n",
    "       \n",
    "    \n",
    "        #Create for loop to get all the planets in all galaxies \n",
    "        for i in range(1,number_of_galaxies+1, 1):\n",
    "            planet_number = planet_number.append(i)\n",
    "            number_of_planets =  int(input(\"How many planets are in galaxy {}?\").format(planet_number))\n",
    "        #Create white space for ease of interpretation\n",
    "        print()\n",
    "        if number_of_planets > 1:\n",
    "            print(\"wow\")\n",
    "        \n",
    "        elif number_of_planets == 1:\n",
    "            income = float(input(\"What was planets 1's income last year?\"))\n",
    "            #Created white space for ease of interpretation by user\n",
    "            print()\n",
    "        \n",
    "        else:\n",
    "            #Communicate error to user and break\n",
    "            print(\"You entered an invalid number, Goodbye\")\n",
    "            #Stop simulation\n",
    "            break\n",
    "     \n",
    "            \n",
    "      \n",
    "        \n",
    "        #print how many plantes per galaxy\n",
    "    \n",
    "    #If the user input is 1 \n",
    "    elif number_of_galaxies == 1:\n",
    "        #Capture number of planets inside the galaxy\n",
    "        number_of_planets = int(input(\"How many plantes in Galaxy {}\").format(number_of_galaxies))\n",
    "        #Create white space for ease of interpretation\n",
    "        print()\n",
    "        #Print to check that its running properly and to the user \n",
    "        print(\"The number of planets in Galaxy {} is: {}\".format(number_of_galaxies, number_of_planets))\n",
    "        \n",
    "    else:\n",
    "        print('The number you have entered is not valid. Please enter any whole number from 0 to infinity')\n",
    "    \n",
    "    #This will update the loop and if user says yes the loop will continue if not it will exit\n",
    "    replay = input(\"Would you like to analyze another quadrant (yes/no)?\")\n",
    "    "
   ]
  },
  {
   "cell_type": "code",
   "execution_count": 18,
   "id": "51bb3ff7-874d-48f0-bc6d-2c1de0385ef6",
   "metadata": {},
   "outputs": [
    {
     "name": "stdin",
     "output_type": "stream",
     "text": [
      "What is the stock price? 5\n",
      "How many days would you like to simulate? 5\n"
     ]
    },
    {
     "name": "stdout",
     "output_type": "stream",
     "text": [
      "After 1 day(s), the stock price is: 6.0\n",
      "After 2 day(s), the stock price is: 7.0\n",
      "After 3 day(s), the stock price is: 8.0\n",
      "After 4 day(s), the stock price is: 7.0\n",
      "After 5 day(s), the stock price is: 6.0\n"
     ]
    }
   ],
   "source": [
    "#Ask the user for the starting price of the stock\n",
    "#Ask the user for the simulation length\n",
    "#For each day, have the stock retun bewteeen +$3 and -$1\n",
    "\n",
    "import random\n",
    "stock_price = float(input('What is the stock price?'))\n",
    "sim_length = int(input(\"How many days would you like to simulate?\"))\n",
    "\n",
    "for i in range(1,sim_length+1, 1):\n",
    "    change = random.randrange(-1,4)\n",
    "    stock_price = stock_price + change\n",
    "    print(\"After\", i , \"day(s), the stock price is:\",stock_price)"
   ]
  },
  {
   "cell_type": "code",
   "execution_count": null,
   "id": "9112083d-9e96-4966-955f-8eac5f31bd3c",
   "metadata": {},
   "outputs": [],
   "source": [
    "no_galaxies = int(input(\"How many galaxies?\"))\n",
    "\n",
    "for i in range(1,no_galaxies+1,1):\n",
    "    no_planets = int(input(\"How many planets in \",i,\"?\"))"
   ]
  }
 ],
 "metadata": {
  "kernelspec": {
   "display_name": "Python 3",
   "language": "python",
   "name": "python3"
  },
  "language_info": {
   "codemirror_mode": {
    "name": "ipython",
    "version": 3
   },
   "file_extension": ".py",
   "mimetype": "text/x-python",
   "name": "python",
   "nbconvert_exporter": "python",
   "pygments_lexer": "ipython3",
   "version": "3.8.8"
  }
 },
 "nbformat": 4,
 "nbformat_minor": 5
}
