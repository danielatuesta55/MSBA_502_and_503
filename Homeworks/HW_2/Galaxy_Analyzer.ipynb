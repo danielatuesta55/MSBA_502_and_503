{
 "cells": [
  {
   "cell_type": "markdown",
   "id": "20f7dad7-db0e-4377-b458-ff595cc46f5b",
   "metadata": {},
   "source": [
    "### Welcome to the Galaxy Analyzer tool! \n",
    "This unique too will allow you to analyze galaxies, planets, and their planetary incomes. Here are the steps you need to follow to get your results:\n",
    "1. When prompted please enter you name\n",
    "2. Enter the number of galaxies you would like to analyze\n",
    "3. The number of plantes in each of the galaxies\n",
    "4. The income of the planet in each galaxy\n",
    "\n",
    "If you follow the steps correctly you will see the final output display the number of galaxies you chose the number of total planets and who many their are on average on each galaxy. You will also see the average planetary income and average galactic income. Furthermore, you will also see the income distribution of the galaxy! \n",
    "\n",
    "<h5 align=\"center\">Good luck inn your Quest!</h5>\n",
    "<p align=\"center\">\n",
    "  <img width=600 src=https://media.giphy.com/media/5zf2M4HgjjWszLd4a5/giphy.gif>\n",
    "</p>"
   ]
  },
  {
   "cell_type": "code",
   "execution_count": 4,
   "id": "d65ac9e1-dbd3-4685-bec6-087b28e56205",
   "metadata": {},
   "outputs": [],
   "source": [
    "# Code created by Jorge Daniel Atuesta\n",
    "# Submitted on September 27th 2022\n",
    "\n",
    "# Import dependencies \n",
    "import pandas as pd\n",
    "import math as math"
   ]
  },
  {
   "cell_type": "code",
   "execution_count": 5,
   "id": "a277f976-ca2f-4b7a-9f17-e06c4da5672e",
   "metadata": {
    "tags": []
   },
   "outputs": [
    {
     "name": "stdin",
     "output_type": "stream",
     "text": [
      "How many galaxies would you like to analyze? 1\n"
     ]
    },
    {
     "name": "stdout",
     "output_type": "stream",
     "text": [
      "\n",
      "The number of galaxies you entered is: 1\n",
      "\n"
     ]
    },
    {
     "name": "stdin",
     "output_type": "stream",
     "text": [
      "How many plantes in Galaxy {} 1\n"
     ]
    },
    {
     "name": "stdout",
     "output_type": "stream",
     "text": [
      "\n",
      "The number of planets in Galaxy 1 is: 1\n"
     ]
    },
    {
     "name": "stdin",
     "output_type": "stream",
     "text": [
      "Would you like to analyze another quadrant (yes/no)? 1\n"
     ]
    }
   ],
   "source": [
    "#Create the outter loop structure with a while loop\n",
    "\n",
    "#Set the initial replay - yes\n",
    "replay = 'yes'\n",
    "#start while loop\n",
    "while replay.strip().lower() == 'yes':\n",
    "    #Save user response to variable\n",
    "    number_of_galaxies = int(input(\"How many galaxies would you like to analyze?\"))\n",
    "    #Create white space for ease of interpretation\n",
    "    print()\n",
    "    #Check if code is working and use it to display output to user\n",
    "    print(\"The number of galaxies you entered is: {}\".format(number_of_galaxies))\n",
    "    #Create white space for ease of interpretation\n",
    "    print()\n",
    "    \n",
    "    #Create conditional statement\n",
    "    if number_of_galaxies > 1:\n",
    "        \n",
    "        #Create for loop to get all the planets in all galaxies \n",
    "        for i in range(1,number_of_galaxies+1, 1):\n",
    "            #Create empty list to appended to \n",
    "            planet_number = []\n",
    "            number_of_plantes = int(input(\"How many planets are in galaxy\"))\n",
    "       \n",
    "    \n",
    "        #Create for loop to get all the planets in all galaxies \n",
    "        for i in range(1,number_of_galaxies+1, 1):\n",
    "            planet_number = planet_number.append(i)\n",
    "            number_of_planets =  int(input(\"How many planets are in galaxy {}?\").format(planet_number))\n",
    "        #Create white space for ease of interpretation\n",
    "        print()\n",
    "        if number_of_planets > 1:\n",
    "            print(\"wow\")\n",
    "        \n",
    "        elif number_of_planets == 1:\n",
    "            income = float(input(\"What was planets 1's income last year?\"))\n",
    "            #Created white space for ease of interpretation by user\n",
    "            print()\n",
    "        \n",
    "        else:\n",
    "            #Communicate error to user and break\n",
    "            print(\"You entered an invalid number, Goodbye\")\n",
    "            #Stop simulation\n",
    "            break\n",
    "     \n",
    "            \n",
    "      \n",
    "        \n",
    "        #print how many plantes per galaxy\n",
    "    \n",
    "    #If the user input is 1 \n",
    "    elif number_of_galaxies == 1:\n",
    "        #Capture number of planets inside the galaxy\n",
    "        number_of_planets = int(input(\"How many plantes in Galaxy {}\").format(number_of_galaxies))\n",
    "        #Create white space for ease of interpretation\n",
    "        print()\n",
    "        #Print to check that its running properly and to the user \n",
    "        print(\"The number of planets in Galaxy {} is: {}\".format(number_of_galaxies, number_of_planets))\n",
    "        \n",
    "    else:\n",
    "        print('The number you have entered is not valid. Please enter any whole number from 0 to infinity')\n",
    "    \n",
    "    #This will update the loop and if user says yes the loop will continue if not it will exit\n",
    "    replay = input(\"Would you like to analyze another quadrant (yes/no)?\")\n",
    "    "
   ]
  },
  {
   "cell_type": "markdown",
   "id": "c9582482-f594-4c7b-8685-fb6154ba9427",
   "metadata": {},
   "source": [
    "# Code that is currently working"
   ]
  },
  {
   "cell_type": "code",
   "execution_count": 60,
   "id": "d22b1c5c-dfe6-4298-8938-9a746a3f6519",
   "metadata": {},
   "outputs": [
    {
     "name": "stdin",
     "output_type": "stream",
     "text": [
      "How many galaxies would you like to analyze? 3\n"
     ]
    },
    {
     "name": "stdout",
     "output_type": "stream",
     "text": [
      "\n",
      "\n"
     ]
    },
    {
     "name": "stdin",
     "output_type": "stream",
     "text": [
      "How many planets in Galaxy 1 ? 2\n"
     ]
    },
    {
     "name": "stdout",
     "output_type": "stream",
     "text": [
      "\n"
     ]
    },
    {
     "name": "stdin",
     "output_type": "stream",
     "text": [
      "What is the income in planet 1 in galaxy 1? 10000\n",
      "What is the income in planet 2 in galaxy 1? 34000\n"
     ]
    },
    {
     "name": "stdout",
     "output_type": "stream",
     "text": [
      "\n"
     ]
    },
    {
     "name": "stdin",
     "output_type": "stream",
     "text": [
      "How many planets in Galaxy 2 ? 3\n"
     ]
    },
    {
     "name": "stdout",
     "output_type": "stream",
     "text": [
      "\n"
     ]
    },
    {
     "name": "stdin",
     "output_type": "stream",
     "text": [
      "What is the income in planet 1 in galaxy 2? 0\n",
      "What is the income in planet 2 in galaxy 2? 40000\n",
      "What is the income in planet 3 in galaxy 2? 22000\n"
     ]
    },
    {
     "name": "stdout",
     "output_type": "stream",
     "text": [
      "\n"
     ]
    },
    {
     "name": "stdin",
     "output_type": "stream",
     "text": [
      "How many planets in Galaxy 3 ? 1\n"
     ]
    },
    {
     "name": "stdout",
     "output_type": "stream",
     "text": [
      "\n"
     ]
    },
    {
     "name": "stdin",
     "output_type": "stream",
     "text": [
      "What is the income in planet 1 in galaxy 3? 18000\n"
     ]
    },
    {
     "name": "stdout",
     "output_type": "stream",
     "text": [
      "Number of planets:  6\n",
      "Number of planets per galaxy:  2.0\n",
      "\n",
      "Average planetary income: $ 20666.6667\n",
      "Average galactic income: $ 41333.3333\n",
      "\n",
      "Income distribution: Less than $20,000: 1 galaxy(s)\n",
      " At least $20,000 but less than $40,000: 2 galaxy(s)\n",
      " At least $40,000 but less than $60,000: 3 galaxy(s)\n",
      " At least $60,000 but less than $80,000: 4 galaxy(s)\n",
      " At least $80,000: 5 galaxy(s)\n",
      "\n"
     ]
    },
    {
     "name": "stdin",
     "output_type": "stream",
     "text": [
      "Would you like to analyze another quadrant (yes/no)? no\n"
     ]
    }
   ],
   "source": [
    "#Import dependencies \n",
    "import pandas as pd\n",
    "import math\n",
    "\n",
    "#Set the initial replay - yes\n",
    "replay = 'yes'\n",
    "#start while loop\n",
    "while replay.strip().lower() == 'yes':\n",
    "\n",
    "    #Create count variables \n",
    "    count_planets = 0\n",
    "    planetary_income =  0\n",
    "    galactic_income = 0\n",
    "\n",
    "    #Save user response to variable\n",
    "    number_of_galaxies = int(input(\"How many galaxies would you like to analyze?\"))\n",
    "    #Check if code is working and use it to display output to user\n",
    "    #print(\"The number of galaxies you entered is: {}\".format(number_of_galaxies))\n",
    "    #Create white space for ease of interpretation\n",
    "    print()\n",
    "\n",
    "    #Create for loop to itterate through the len of input from user and print what is needed\n",
    "    for k in range(1, number_of_galaxies + 1, 1):\n",
    "        #Create white space for better user experience\n",
    "        print()\n",
    "        #Get no. of planets from user and store it in a variable. The code will reference the galaxy its reffering to\n",
    "        no_planets = int(input(\"How many planets in Galaxy \"+ str(k) + \" ?\"))\n",
    "        #Start counter\n",
    "        count_planets += no_planets\n",
    "        #Create white space for better user experience\n",
    "        print()\n",
    "        #Print to make sure the math is correct and user integration\n",
    "        #print(\"The number of planets in Galaxy \" + str(k) +\" is:\" + str(i))\n",
    "        #Create white space for better user experience\n",
    "        #print()\n",
    "\n",
    "        #Create for loop with start 1 and end on no_plantes +1 to get income of planets\n",
    "        for i in range(1, no_planets + 1, 1):\n",
    "            #Get user input on the income per planet and store it in a variable\n",
    "            income_planet = float(input(\"What is the income in planet \" + str(i)+ \" in galaxy \" +str(k)+ \"?\"))\n",
    "            #Start counter variable to add incomes\n",
    "            planetary_income += income_planet\n",
    "\n",
    "    #Print number of planets in the galaxies    \n",
    "    print(\"Number of planets: \" , count_planets)\n",
    "    #Get avg planets per galaxy \n",
    "    planets_per_galaxy = count_planets / number_of_galaxies\n",
    "    #print avg planets per galaxy\n",
    "    print(\"Number of planets per galaxy: \", planets_per_galaxy)\n",
    "    #Create white space for user friendliness\n",
    "    print()\n",
    "    #Total planetary income formula\n",
    "    total_planetary_income = planetary_income/count_planets\n",
    "    #print total planetary income\n",
    "    print(\"Average planetary income: $\",round(total_planetary_income,4))\n",
    "    #total galactic income formula\n",
    "    total_galactic_income = planetary_income/number_of_galaxies\n",
    "    #print total galactic income\n",
    "    print(\"Average galactic income: $\",round(total_galactic_income,4))\n",
    "    #print white space for user friendliness\n",
    "    print()\n",
    "\n",
    "    print(\"Income distribution: Less than $20,000:\",1 , \"galaxy(s)\\n\",\n",
    "          \"At least $20,000 but less than $40,000:\", 2,\"galaxy(s)\\n\",\n",
    "          \"At least $40,000 but less than $60,000:\",3 , \"galaxy(s)\\n\",\n",
    "         \"At least $60,000 but less than $80,000:\",4 ,\"galaxy(s)\\n\",\n",
    "         \"At least $80,000:\", 5, \"galaxy(s)\\n\")\n",
    "    \n",
    "    #close while loop\n",
    "    replay = input(\"Would you like to analyze another quadrant (yes/no)?\")"
   ]
  },
  {
   "cell_type": "code",
   "execution_count": 56,
   "id": "c40a1b2c-3ee5-4d5d-8b57-148348e0939c",
   "metadata": {},
   "outputs": [
    {
     "name": "stdout",
     "output_type": "stream",
     "text": [
      "Income distribution: Less than $20,000:  1 galaxy(s)\n",
      " At least $20,000 but less than $40,000:  2 galaxy(s)\n",
      " At least $40,000 but less than $60,000:  3 galaxy(s)\n",
      " At least $60,000 but less than $80,000:  4 galaxy(s)\n",
      " At least $80,000:  5 galaxy(s)\n",
      "\n"
     ]
    }
   ],
   "source": []
  },
  {
   "cell_type": "code",
   "execution_count": null,
   "id": "2c12421b-1413-4263-ae06-86802d80872a",
   "metadata": {},
   "outputs": [],
   "source": []
  }
 ],
 "metadata": {
  "kernelspec": {
   "display_name": "Python 3",
   "language": "python",
   "name": "python3"
  },
  "language_info": {
   "codemirror_mode": {
    "name": "ipython",
    "version": 3
   },
   "file_extension": ".py",
   "mimetype": "text/x-python",
   "name": "python",
   "nbconvert_exporter": "python",
   "pygments_lexer": "ipython3",
   "version": "3.8.8"
  }
 },
 "nbformat": 4,
 "nbformat_minor": 5
}
