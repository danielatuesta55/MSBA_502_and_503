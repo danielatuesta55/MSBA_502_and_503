{
 "cells": [
  {
   "cell_type": "markdown",
   "id": "20f7dad7-db0e-4377-b458-ff595cc46f5b",
   "metadata": {},
   "source": [
    "<h1 align=\"center\">Welcome to the Galaxy Analyzer Tool!</h1>\n",
    "<h6 align=\"right\">This code was created by Jorge Daniel Atuesta on September 25th 2022</h6>\n",
    "<br>\n",
    "\n",
    "\n",
    "<p>This unique tool will allow you to analyze galaxies, planets, and their planetary incomes. Here are the steps you need to follow to get your results:\n",
    "1. When prompted please enter you name\n",
    "2. Enter the number of galaxies you would like to analyze\n",
    "3. The number of plantes in each of the galaxies\n",
    "4. The income of the planet in each galaxy\n",
    "<br><p>\n",
    "<p aling = \"left\"> If you follow the steps correctly you will see the final output display the number of galaxies you chose the number of total planets and who many their are on average on each galaxy. You will also see the average planetary income and average galactic income. Furthermore, you will also see the income distribution of the galaxy!</p>\n",
    "\n",
    "<h5 align=\"center\">Good luck in your Quest!</h5>\n",
    "<br></br>\n",
    "<p align=\"center\">\n",
    "  <img src=https://media.giphy.com/media/5zf2M4HgjjWszLd4a5/giphy.gif></p>\n"
   ]
  },
  {
   "cell_type": "markdown",
   "id": "837ea5db-1ccc-47da-9863-a5dca3cfc9d0",
   "metadata": {},
   "source": [
    "# Final trial working as of 9-26-22"
   ]
  },
  {
   "cell_type": "code",
   "execution_count": 3,
   "id": "dca38f22-7c66-46d7-9dcd-8368ce63fc0a",
   "metadata": {
    "tags": []
   },
   "outputs": [
    {
     "name": "stdin",
     "output_type": "stream",
     "text": [
      "How many galaxies are we analyzing today? 1\n"
     ]
    },
    {
     "name": "stdout",
     "output_type": "stream",
     "text": [
      "\n"
     ]
    },
    {
     "name": "stdin",
     "output_type": "stream",
     "text": [
      "How many planets are in Galaxy 1? 1\n"
     ]
    },
    {
     "name": "stdout",
     "output_type": "stream",
     "text": [
      "\n"
     ]
    },
    {
     "name": "stdin",
     "output_type": "stream",
     "text": [
      "What is planets 1's income in Galaxy 1? 79000\n"
     ]
    },
    {
     "name": "stdout",
     "output_type": "stream",
     "text": [
      "\n",
      "\n",
      "Number of planets: 1\n",
      "Planets per galaxy: 1.0\n",
      "\n",
      "Average planetary income: $ 79,000.0\n",
      "Average galactic income: $ 79,000.0\n",
      "\n",
      "Income distribution: Less than $20,000: 0 galaxy(s)\n",
      " At least $20,000 but less than $40,000: 0 galaxy(s)\n",
      " At least $40,000 but less than $60,000: 0 galaxy(s)\n",
      " At least $60,000 but less than $80,000: 1 galaxy(s)\n",
      " At least $80,000: 0 galaxy(s)\n",
      "\n"
     ]
    },
    {
     "name": "stdin",
     "output_type": "stream",
     "text": [
      "Would you like to analyze another quadrant (yes/no)? no\n"
     ]
    },
    {
     "name": "stdout",
     "output_type": "stream",
     "text": [
      "\n",
      "Thank you for using the Galaxy Analyzer!\n"
     ]
    }
   ],
   "source": [
    "# Code created by Jorge Daniel Atuesta\n",
    "# Submitted on September 27th 2022\n",
    "\n",
    "#Create repeat for user while loop to run \n",
    "repeat = 'yes'\n",
    "\n",
    "#User define while loop in case they want to analyze more quadrants\n",
    "while repeat.strip().lower() == 'yes':\n",
    "    #Set all counters and list to 0 and empty is new loop is initiated\n",
    "    g=[]\n",
    "    galaxy_list = []\n",
    "    count_planet = 0\n",
    "    total_income = 0\n",
    "        \n",
    "    #Set Galaxy Distribution counter\n",
    "    galaxy_distribution_count_1 = 0\n",
    "    galaxy_distribution_count_2 = 0\n",
    "    galaxy_distribution_count_3 = 0\n",
    "    galaxy_distribution_count_4 = 0\n",
    "    galaxy_distribution_count_5 = 0                              \n",
    "    \n",
    "    #Getting user input to know number of galaxies\n",
    "    number_of_galaxies = int(input(\"How many galaxies are we analyzing today?\"))\n",
    "    print()\n",
    "    \n",
    "    #For loop - from user input number galaxies get the length of itteration\n",
    "    for i in range (1, number_of_galaxies +1):        \n",
    "        planets_in_galaxy = int(input(f\"How many planets are in Galaxy {i}?\"))\n",
    "        print()\n",
    "        planet_income = []\n",
    "        \n",
    "        #Nested for loop- go through user number of planets and get each planets incomes\n",
    "        for j in range(1,planets_in_galaxy+1):\n",
    "            planet_income_input = float(input(f\"What is planets {j}'s income in Galaxy {i}?\"))\n",
    "            total_income += planet_income_input\n",
    "            count_planet += 1\n",
    "            planet_income.append(planet_income_input)\n",
    "        #Append the planet income in each galaxy  into main list for further analisis\n",
    "        galaxy_list.append(planet_income)\n",
    "        print()\n",
    "    \n",
    "    #Calculating planets per galaxy, avg planetary income and avg galactic income\n",
    "    planets_per_galaxy = count_planet/number_of_galaxies\n",
    "    avg_planetary_income = total_income/count_planet\n",
    "    avg_galactic_income = total_income/number_of_galaxies\n",
    "\n",
    "    #Create for loop to get the total amount per sub-list and then add it to a new list galaxy_total for further analysis\n",
    "    for i in (galaxy_list):\n",
    "        galaxy_total = sum(i)\n",
    "        g.append(galaxy_total)\n",
    "    # Create and additional for loop to get the galaxy distribution\n",
    "    for j in g:\n",
    "        \n",
    "        #Created a conditional statement if, elif and else to add to counter and get precise count of galaxies according to galaxy distribution\n",
    "        if j < 20000:\n",
    "            galaxy_distribution_count_1 +=1\n",
    "\n",
    "        elif 20000 <= j < 40000:\n",
    "            galaxy_distribution_count_2 +=1\n",
    "\n",
    "\n",
    "        elif 40000 <= j < 60000:\n",
    "            galaxy_distribution_count_3 +=1\n",
    "\n",
    "\n",
    "        elif 60000 <= j < 80000:\n",
    "            galaxy_distribution_count_4 +=1\n",
    "\n",
    "\n",
    "        elif j >= 80000:\n",
    "            galaxy_distribution_count_5 +=1\n",
    "\n",
    "        else:\n",
    "            print(\"Ooops it seems that there was a mistake...\")\n",
    "\n",
    "    \n",
    "    #print number of plantes and number of galaxies\n",
    "    print()\n",
    "    print(\"Number of planets:\",count_planet)\n",
    "    print(\"Planets per galaxy:\",planets_per_galaxy)\n",
    "    print()\n",
    "    \n",
    "    #Print avg planetary income and galactic income in $ format\n",
    "    print(\"Average planetary income: $\",\"{:,}\".format(avg_planetary_income))#the format will place , in the final output\n",
    "    print(\"Average galactic income: $\",\"{:,}\".format(avg_galactic_income))#the format will place , in the final output\n",
    "    print()\n",
    "    \n",
    "    #Print galaxy distribution\n",
    "    print(\"Income distribution: Less than $20,000:\",galaxy_distribution_count_1 , \"galaxy(s)\\n\",\n",
    "                      \"At least $20,000 but less than $40,000:\", galaxy_distribution_count_2,\"galaxy(s)\\n\",\n",
    "                      \"At least $40,000 but less than $60,000:\",galaxy_distribution_count_3 , \"galaxy(s)\\n\",\n",
    "                     \"At least $60,000 but less than $80,000:\",galaxy_distribution_count_4 ,\"galaxy(s)\\n\",\n",
    "                     \"At least $80,000:\", galaxy_distribution_count_5, \"galaxy(s)\")\n",
    "    print()\n",
    "    #User exit while loop\n",
    "    repeat = input(\"Would you like to analyze another quadrant (yes/no)?\")\n",
    "    print()\n",
    "#Print final statement to user\n",
    "print(\"Thank you for using the Galaxy Analyzer!\")\n"
   ]
  },
  {
   "cell_type": "markdown",
   "id": "9b939bae-15ae-428e-883d-2cad8da02bf6",
   "metadata": {},
   "source": [
    "# Sophisticated code \n",
    "\n",
    "seems to be working just fine !\n",
    "9-26-22"
   ]
  },
  {
   "cell_type": "code",
   "execution_count": 2,
   "id": "2eecb9da-d76d-4372-a61d-ab6821f9aebf",
   "metadata": {
    "tags": []
   },
   "outputs": [
    {
     "name": "stdin",
     "output_type": "stream",
     "text": [
      "How many galaxies are we analyzing today? 1\n"
     ]
    },
    {
     "name": "stdout",
     "output_type": "stream",
     "text": [
      "\n"
     ]
    },
    {
     "name": "stdin",
     "output_type": "stream",
     "text": [
      "How many planets are in Galaxy 1? 1\n"
     ]
    },
    {
     "name": "stdout",
     "output_type": "stream",
     "text": [
      "\n"
     ]
    },
    {
     "name": "stdin",
     "output_type": "stream",
     "text": [
      "What is planets 1's income in Galaxy 1? 1\n"
     ]
    },
    {
     "name": "stdout",
     "output_type": "stream",
     "text": [
      "\n",
      "\n",
      "Number of planets: 1\n",
      "Planets per galaxy: 1.0\n",
      "\n",
      "Average planetary income: $ 1.0\n",
      "Average galactic income: $ 1.0\n",
      "\n",
      "Income distribution: Less than $20,000: 1 galaxy(s)\n",
      " At least $20,000 but less than $40,000: 0 galaxy(s)\n",
      " At least $40,000 but less than $60,000: 0 galaxy(s)\n",
      " At least $60,000 but less than $80,000: 0 galaxy(s)\n",
      " At least $80,000: 0 galaxy(s)\n",
      "\n"
     ]
    },
    {
     "name": "stdin",
     "output_type": "stream",
     "text": [
      "Would you like to analyze another quadrant (yes/no)? hell no\n"
     ]
    },
    {
     "name": "stdout",
     "output_type": "stream",
     "text": [
      "Your anwser: hell no, seems like a typo\n"
     ]
    },
    {
     "name": "stdin",
     "output_type": "stream",
     "text": [
      "Would you like to analyze another quadrant (yes/no)? no\n"
     ]
    },
    {
     "name": "stdout",
     "output_type": "stream",
     "text": [
      "Thank you for using the Galaxy Analyzer!\n"
     ]
    }
   ],
   "source": [
    "# Code created by Jorge Daniel Atuesta\n",
    "# Submitted on September 27th 2022\n",
    "\n",
    "#Create repeat for user while loop to run \n",
    "repeat = 'yes'\n",
    "\n",
    "#User define while loop in case they want to analyze more quadrants\n",
    "while repeat.strip().lower() == 'yes':\n",
    "    #Set all counters and list to 0 and empty is new loop is initiated\n",
    "    g=[]\n",
    "    galaxy_list = []\n",
    "    count_planet = 0\n",
    "    total_income = 0\n",
    "        \n",
    "    #Set Galaxy Distribution counter\n",
    "    galaxy_distribution_count_1 = 0\n",
    "    galaxy_distribution_count_2 = 0\n",
    "    galaxy_distribution_count_3 = 0\n",
    "    galaxy_distribution_count_4 = 0\n",
    "    galaxy_distribution_count_5 = 0                              \n",
    "    \n",
    "    #Getting user input to know number of galaxies\n",
    "    number_of_galaxies = int(input(\"How many galaxies are we analyzing today?\"))\n",
    "    print()\n",
    "    \n",
    "    if number_of_galaxies > 0:\n",
    "\n",
    "        #For loop - from user input number galaxies get the length of iteration\n",
    "        for i in range (1, number_of_galaxies +1):        \n",
    "            planets_in_galaxy = int(input(f\"How many planets are in Galaxy {i}?\"))\n",
    "            print()\n",
    "            planet_income = []\n",
    "\n",
    "            #Nested for loop- go through user number of planets and get each planets incomes\n",
    "            for j in range(1,planets_in_galaxy+1):\n",
    "                planet_income_input = float(input(f\"What is planets {j}'s income in Galaxy {i}?\"))\n",
    "                total_income += planet_income_input\n",
    "                count_planet += 1\n",
    "                planet_income.append(planet_income_input)\n",
    "            #Append the planet income in each galaxy  into main list for further analysis\n",
    "            galaxy_list.append(planet_income)\n",
    "            print()\n",
    "\n",
    "        #Calculating planets per galaxy, avg planetary income and avg galactic income\n",
    "        planets_per_galaxy = count_planet/number_of_galaxies\n",
    "        avg_planetary_income = total_income/count_planet\n",
    "        avg_galactic_income = total_income/number_of_galaxies\n",
    "\n",
    "        #Create for loop to get the total amount per sub-list and then add it to a new list galaxy_total for further analysis\n",
    "        for i in (galaxy_list):\n",
    "            galaxy_total = sum(i)\n",
    "            g.append(galaxy_total)\n",
    "        # Create and additional for loop to get the galaxy distribution\n",
    "        for j in g:\n",
    "\n",
    "            #Created a conditional statement if, elif and else to add to counter and get precise count of galaxies according to galaxy distribution\n",
    "            if j < 20000:\n",
    "                galaxy_distribution_count_1 +=1\n",
    "\n",
    "            elif 20000 <= j < 40000:\n",
    "                galaxy_distribution_count_2 +=1\n",
    "\n",
    "\n",
    "            elif 40000 <= j < 60000:\n",
    "                galaxy_distribution_count_3 +=1\n",
    "\n",
    "\n",
    "            elif 60000 <= j < 80000:\n",
    "                galaxy_distribution_count_4 +=1\n",
    "\n",
    "\n",
    "            elif j >= 80000:\n",
    "                galaxy_distribution_count_5 +=1\n",
    "\n",
    "            else:\n",
    "                print(\"Ooops it seems that there was a mistake...\")\n",
    "\n",
    "\n",
    "        #print number of plantes and number of galaxies\n",
    "        print()\n",
    "        print(\"Number of planets:\",count_planet)\n",
    "        print(\"Planets per galaxy:\",planets_per_galaxy)\n",
    "        print()\n",
    "\n",
    "        #Print avg planetary income and galactic income in $ format\n",
    "        print(\"Average planetary income: $\",\"{:,}\".format(avg_planetary_income))#the format will place , in the final output\n",
    "        print(\"Average galactic income: $\",\"{:,}\".format(avg_galactic_income))#the format will place , in the final output\n",
    "        print()\n",
    "\n",
    "        #Print galaxy distribution\n",
    "        print(\"Income distribution: Less than $20,000:\",galaxy_distribution_count_1 , \"galaxy(s)\\n\",\n",
    "                          \"At least $20,000 but less than $40,000:\", galaxy_distribution_count_2,\"galaxy(s)\\n\",\n",
    "                          \"At least $40,000 but less than $60,000:\",galaxy_distribution_count_3 , \"galaxy(s)\\n\",\n",
    "                         \"At least $60,000 but less than $80,000:\",galaxy_distribution_count_4 ,\"galaxy(s)\\n\",\n",
    "                         \"At least $80,000:\", galaxy_distribution_count_5, \"galaxy(s)\")\n",
    "        print()\n",
    "        #User exit while loop\n",
    "        repeat = input(\"Would you like to analyze another quadrant (yes/no)?\")\n",
    "        \n",
    "        if repeat.lower().strip() == 'yes':\n",
    "            continue\n",
    "        elif repeat.lower().strip() == 'no':\n",
    "            repeat == 'no'\n",
    "        else:\n",
    "            print(f\"Your answer: {repeat}, seems like a typo\")\n",
    "            repeat = input(\"Would you like to analyze another quadrant (yes/no)?\")\n",
    "        \n",
    "    else:\n",
    "        #print error message and ask if they would like to try again\n",
    "        print(f\"Ooops! ({number_of_galaxies}) seems like a typo. Please try again and enter an positive integer greater than 0 to infinity!\")\n",
    "        repeat = input(\"Do you want to try again? (yes/no)?\")\n",
    "        print()\n",
    "        \n",
    "#Print final statement to user\n",
    "print(\"Thank you for using the Galaxy Analyzer!\")"
   ]
  },
  {
   "cell_type": "markdown",
   "id": "c9582482-f594-4c7b-8685-fb6154ba9427",
   "metadata": {},
   "source": [
    "# Failed attempts or debugging sections"
   ]
  },
  {
   "cell_type": "code",
   "execution_count": null,
   "id": "7109b542-ad19-41d3-acb4-e5da312ba3bd",
   "metadata": {
    "tags": []
   },
   "outputs": [
    {
     "name": "stdin",
     "output_type": "stream",
     "text": [
      "How many galaxies would you like to analyze? 3\n"
     ]
    },
    {
     "name": "stdout",
     "output_type": "stream",
     "text": [
      "\n",
      "\n"
     ]
    },
    {
     "name": "stdin",
     "output_type": "stream",
     "text": [
      "How many planets in Galaxy 1 ? 1\n"
     ]
    },
    {
     "name": "stdout",
     "output_type": "stream",
     "text": [
      "\n"
     ]
    },
    {
     "name": "stdin",
     "output_type": "stream",
     "text": [
      "What is the income in planet 1 in galaxy 1? 110000\n"
     ]
    },
    {
     "name": "stdout",
     "output_type": "stream",
     "text": [
      "\n"
     ]
    },
    {
     "name": "stdin",
     "output_type": "stream",
     "text": [
      "How many planets in Galaxy 2 ? 2\n"
     ]
    },
    {
     "name": "stdout",
     "output_type": "stream",
     "text": [
      "\n"
     ]
    },
    {
     "name": "stdin",
     "output_type": "stream",
     "text": [
      "What is the income in planet 1 in galaxy 2? 2222\n",
      "What is the income in planet 2 in galaxy 2? 111111111\n"
     ]
    },
    {
     "name": "stdout",
     "output_type": "stream",
     "text": [
      "\n"
     ]
    },
    {
     "name": "stdin",
     "output_type": "stream",
     "text": [
      "How many planets in Galaxy 3 ? 1\n"
     ]
    },
    {
     "name": "stdout",
     "output_type": "stream",
     "text": [
      "\n"
     ]
    },
    {
     "name": "stdin",
     "output_type": "stream",
     "text": [
      "What is the income in planet 1 in galaxy 3? 54323456\n"
     ]
    },
    {
     "name": "stdout",
     "output_type": "stream",
     "text": [
      "\n",
      "Number of planets:  4\n",
      "Number of planets per galaxy:  1.33\n",
      "\n",
      "Average planetary income: $ 41,386,697.25\n",
      "Average galactic income: $ 55,182,263.0\n",
      "\n",
      "Income distribution: Less than $20,000: 1 galaxy(s)\n",
      " At least $20,000 but less than $40,000: 0 galaxy(s)\n",
      " At least $40,000 but less than $60,000: 0 galaxy(s)\n",
      " At least $60,000 but less than $80,000: 0 galaxy(s)\n",
      " At least $80,000: 3 galaxy(s)\n"
     ]
    }
   ],
   "source": [
    "# Code created by Jorge Daniel Atuesta\n",
    "# Submitted on September 27th 2022\n",
    "\n",
    "#Import dependencies \n",
    "import pandas as pd\n",
    "import math\n",
    "import locale\n",
    "locale.setlocale(locale.LC_ALL, 'en_US')\n",
    "\n",
    "#Set the initial replay - yes\n",
    "replay = 'yes'\n",
    "#start while loop\n",
    "while replay.strip().lower() == 'yes':\n",
    "\n",
    "    #Create count variables \n",
    "    count_planets = 0\n",
    "    planetary_income =  0\n",
    "    galactic_income = 0 \n",
    "    income1 = 0\n",
    "    income2 = 0\n",
    "    income3 = 0\n",
    "    income4 = 0\n",
    "    income5 = 0\n",
    "\n",
    "    #Save user response to variable\n",
    "    number_of_galaxies = int(input(\"How many galaxies would you like to analyze?\"))\n",
    "    #Check if code is working and use it to display output to user\n",
    "    #print(\"The number of galaxies you entered is: {}\".format(number_of_galaxies))\n",
    "    #Create white space for ease of interpretation\n",
    "    print()\n",
    "    \n",
    "    #Create for loop to itterate through the len of input from user and print what is needed\n",
    "    for k in range(1, number_of_galaxies + 1, 1):\n",
    "        #Create white space for better user experience\n",
    "        print()\n",
    "        #Get no. of planets from user and store it in a variable. The code will reference the galaxy its reffering to\n",
    "        no_planets = int(input(\"How many planets in Galaxy \"+ str(k) + \" ?\"))\n",
    "        #Start counter\n",
    "        count_planets += no_planets\n",
    "        #Create white space for better user experience\n",
    "        print()\n",
    "        #Print to make sure the math is correct and user integration\n",
    "        #print(\"The number of planets in Galaxy \" + str(k) +\" is:\" + str(i))\n",
    "        #Create white space for better user experience\n",
    "        #print()\n",
    "\n",
    "        #Create for loop with start 1 and end on no_plantes +1 to get income of planets\n",
    "        for i in range(1, no_planets + 1, 1):\n",
    "            #Get user input on the income per planet and store it in a variable\n",
    "            income_planet = float(input(\"What is the income in planet \" + str(i)+ \" in galaxy \" +str(k)+ \"?\"))\n",
    "            #Start counter variable to add incomes\n",
    "            planetary_income += income_planet\n",
    "            \n",
    "            quadrant_income = 0 \n",
    "            quadrant_income += income_planet\n",
    "            \n",
    "            if quadrant_income < 20000:\n",
    "                income1 += 1\n",
    "                \n",
    "            elif 20000 <= quadrant_income <= 39999.99:\n",
    "                income2 += 1\n",
    "                \n",
    "            elif 40000 <= quadrant_income <= 59999.99:\n",
    "                income3 += 1\n",
    "                \n",
    "            elif 60000 <= quadrant_income <= 79999.99:\n",
    "                income4 += 1\n",
    "                \n",
    "            elif quadrant_income >= 80000:\n",
    "                 income5 += 1\n",
    "                \n",
    "            else:\n",
    "                 print(\"Ooops it seems that there was a mistake...\")\n",
    "            \n",
    "    \n",
    "    #Created white space for user interaction\n",
    "    print()\n",
    "    #Print number of planets in the galaxies    \n",
    "    print(\"Number of planets: \" , count_planets)\n",
    "    #Get avg planets per galaxy \n",
    "    planets_per_galaxy = round(count_planets / number_of_galaxies,2)\n",
    "    #print avg planets per galaxy\n",
    "    print(\"Number of planets per galaxy: \", planets_per_galaxy)\n",
    "    #Create white space for user friendliness\n",
    "    print()\n",
    "    #Total planetary income formula\n",
    "    total_planetary_income = planetary_income/count_planets\n",
    "    #print total planetary income\n",
    "    print(\"Average planetary income: $\",\"{:,}\".format(total_planetary_income))#the format will place , in the final output\n",
    "\n",
    "    #total galactic income formula\n",
    "    total_galactic_income = planetary_income/number_of_galaxies\n",
    "    #print total galactic income\n",
    "    print(\"Average galactic income: $\",\"{:,}\".format(total_galactic_income))#the format will place , in the final output\n",
    "    #print white space for user friendliness\n",
    "    print()\n",
    "\n",
    "        \n",
    "    print(\"Income distribution: Less than $20,000:\",income1 , \"galaxy(s)\\n\",\n",
    "          \"At least $20,000 but less than $40,000:\", income2,\"galaxy(s)\\n\",\n",
    "          \"At least $40,000 but less than $60,000:\",income3 , \"galaxy(s)\\n\",\n",
    "         \"At least $60,000 but less than $80,000:\",income4 ,\"galaxy(s)\\n\",\n",
    "         \"At least $80,000:\", income5, \"galaxy(s)\")\n",
    "    \n",
    "    #close while loop\n",
    "    replay = input(\"Would you like to analyze another quadrant (yes/no)?\")"
   ]
  },
  {
   "cell_type": "markdown",
   "id": "63abb8f9-12c2-49d5-8ef3-970d4273955d",
   "metadata": {},
   "source": [
    "## Second attempt\n",
    "\n",
    "With teachers code"
   ]
  },
  {
   "cell_type": "code",
   "execution_count": 21,
   "id": "f063168b-c2a5-447a-8dd7-d3131c101651",
   "metadata": {
    "collapsed": true,
    "jupyter": {
     "outputs_hidden": true
    }
   },
   "outputs": [
    {
     "name": "stdin",
     "output_type": "stream",
     "text": [
      "How many galaxies are we analyzing today? 3\n",
      "How many planets are in Galaxy 1? 2\n"
     ]
    },
    {
     "name": "stdout",
     "output_type": "stream",
     "text": [
      "\n"
     ]
    },
    {
     "name": "stdin",
     "output_type": "stream",
     "text": [
      "What is planets 1's income in Galaxy 1? 10000\n",
      "What is planets 2's income in Galaxy 1? 50000\n",
      "How many planets are in Galaxy 2? 3\n"
     ]
    },
    {
     "name": "stdout",
     "output_type": "stream",
     "text": [
      "\n"
     ]
    },
    {
     "name": "stdin",
     "output_type": "stream",
     "text": [
      "What is planets 1's income in Galaxy 2? 10000\n",
      "What is planets 2's income in Galaxy 2? 0\n",
      "What is planets 3's income in Galaxy 2? 9000\n",
      "How many planets are in Galaxy 3? 1\n"
     ]
    },
    {
     "name": "stdout",
     "output_type": "stream",
     "text": [
      "\n"
     ]
    },
    {
     "name": "stdin",
     "output_type": "stream",
     "text": [
      "What is planets 1's income in Galaxy 3? 81000\n"
     ]
    },
    {
     "name": "stdout",
     "output_type": "stream",
     "text": [
      "\n",
      "Number of planets: 6\n",
      "Planets per galaxy: 2.0\n",
      "\n",
      "Average planetary income: $ 26,666.666666666668\n",
      "Average galactic income: $ 53,333.333333333336\n",
      "\n",
      "Income distribution: Less than $20,000: 1 galaxy(s)\n",
      " At least $20,000 but less than $40,000: 2 galaxy(s)\n",
      " At least $40,000 but less than $60,000: 3 galaxy(s)\n",
      " At least $60,000 but less than $80,000: 4 galaxy(s)\n",
      " At least $80,000: 5 galaxy(s)\n",
      "Total income 160000.0\n",
      "List of list of galaxy [[10000.0, 50000.0], [10000.0, 0.0, 9000.0], [81000.0]]\n"
     ]
    },
    {
     "name": "stdin",
     "output_type": "stream",
     "text": [
      "Would you like to analyze another quadrant (yes/no)? no no\n"
     ]
    }
   ],
   "source": [
    "# Code created by Jorge Daniel Atuesta\n",
    "# Submitted on September 27th 2022\n",
    "\n",
    "#Import dependencies\n",
    "import math \n",
    "\n",
    "\n",
    "galaxy_list = []\n",
    "count_planet = 0\n",
    "total_income = 0\n",
    "repeat = 'yes'\n",
    "\n",
    "\n",
    "#User define while loop in case they want to analyze more quadrants\n",
    "while repeat.strip().lower() == 'yes':\n",
    "    #Getting user input to know number of galaxies\n",
    "    number_of_galaxies = int(input(\"How many galaxies are we analyzing today?\"))\n",
    "    \n",
    "    #For loop - from user input number galaxies get the length of itteration\n",
    "    for i in range (1, number_of_galaxies +1):\n",
    "        planets_in_galaxy = int(input(f\"How many planets are in Galaxy {i}?\"))\n",
    "        print()\n",
    "        planet_income = []\n",
    "        \n",
    "        #Nested for loop- go through user number of planets and get each planets incomes\n",
    "        for j in range(1,planets_in_galaxy+1):\n",
    "            planet_income_input = float(input(f\"What is planets {j}'s income in Galaxy {i}?\"))\n",
    "            total_income += planet_income_input\n",
    "            count_planet += 1\n",
    "            planet_income.append(planet_income_input)\n",
    "        #Append the planet income in each galaxy  into main list for further analisis\n",
    "        galaxy_list.append(planet_income)\n",
    "    \n",
    "    #Calculating planets per galaxy, avg planetary income and avg galactic income\n",
    "    planets_per_galaxy = count_planet/number_of_galaxies\n",
    "    avg_planetary_income = total_income/count_planet\n",
    "    avg_galactic_income = total_income/number_of_galaxies\n",
    "    \n",
    "    \n",
    "    #print number of plantes and number of galaxies\n",
    "    print()\n",
    "    print(\"Number of planets:\",count_planet)\n",
    "    print(\"Planets per galaxy:\",planets_per_galaxy)\n",
    "    print()\n",
    "    \n",
    "    #Print avg planetary income and galactic income in $ format\n",
    "    print(\"Average planetary income: $\",\"{:,}\".format(avg_planetary_income))#the format will place , in the final output\n",
    "    print(\"Average galactic income: $\",\"{:,}\".format(avg_galactic_income))#the format will place , in the final output\n",
    "    print()\n",
    "    \n",
    "    \n",
    "    #not going to use in final code\n",
    "    print(\"Total income\",total_income)\n",
    "    print(\"List of list of galaxy\",galaxy_list)\n",
    "    \n",
    "    \n",
    "    #User exit while loop\n",
    "    repeat = input(\"Would you like to analyze another quadrant (yes/no)? no\")\n"
   ]
  },
  {
   "cell_type": "code",
   "execution_count": null,
   "id": "9ad570dd-b45b-4c35-b0d2-80185f837b8a",
   "metadata": {
    "collapsed": true,
    "jupyter": {
     "outputs_hidden": true
    }
   },
   "outputs": [],
   "source": []
  },
  {
   "cell_type": "markdown",
   "id": "09c5f49c-029e-487c-a5da-e593570fd282",
   "metadata": {},
   "source": [
    "# Teachers code for HW"
   ]
  },
  {
   "cell_type": "code",
   "execution_count": 5,
   "id": "f4f66427-c1b6-463e-9a7d-dc2eecd80aaf",
   "metadata": {
    "collapsed": true,
    "jupyter": {
     "outputs_hidden": true
    }
   },
   "outputs": [
    {
     "name": "stdin",
     "output_type": "stream",
     "text": [
      "How many galaxies are we analyzing today? 2\n",
      "How many planets are in Galaxy 1? 2\n",
      "How many planets 1's income? 12\n",
      "How many planets 2's income? 31\n",
      "How many planets are in Galaxy 2? 3\n",
      "How many planets 1's income? 123\n",
      "How many planets 2's income? 321\n",
      "How many planets 3's income? 12\n"
     ]
    },
    {
     "name": "stdout",
     "output_type": "stream",
     "text": [
      "[[12.0, 31.0], [123.0, 321.0, 12.0]]\n"
     ]
    }
   ],
   "source": [
    "#Import dependencies\n",
    "import math \n",
    "import pandas as pd\n",
    "\n",
    "beeeg_list = []\n",
    "conunt_planet = 0\n",
    "total_income = 0\n",
    "\n",
    "galaxy_number = int(input(\"How many galaxies are we analyzing today?\"))\n",
    "\n",
    "for i in range (1, galaxy_number +1):\n",
    "    planets_in_galaxy = int(input(f\"How many planets are in Galaxy {i}?\"))\n",
    "    planet_income = []\n",
    "    \n",
    "    for j in range(1,planets_in_galaxy+1):\n",
    "        planet_income_input = float(input(f\"How many planets {j}'s income?\"))\n",
    "        total_income += planet_income_input\n",
    "        conunt_planet += 1\n",
    "        planet_income.append(planet_income_input)\n",
    "    \n",
    "    beeeg_list.append(planet_income)\n",
    "\n",
    "print(beeeg_list)\n",
    "\n"
   ]
  },
  {
   "cell_type": "code",
   "execution_count": 6,
   "id": "697144e3-b0af-4828-8f47-da9aebe95a20",
   "metadata": {
    "collapsed": true,
    "jupyter": {
     "outputs_hidden": true
    }
   },
   "outputs": [
    {
     "name": "stdout",
     "output_type": "stream",
     "text": [
      "2\n"
     ]
    }
   ],
   "source": [
    "total_count = len(beeeg_list)\n",
    "print(total_count)"
   ]
  },
  {
   "cell_type": "code",
   "execution_count": 8,
   "id": "72f99bc6-cf5f-431b-8fb5-e33640baa353",
   "metadata": {
    "collapsed": true,
    "jupyter": {
     "outputs_hidden": true
    }
   },
   "outputs": [
    {
     "name": "stdout",
     "output_type": "stream",
     "text": [
      "5\n"
     ]
    }
   ],
   "source": [
    "#Count the total length or amount of elements in the list meaning galaxy\n",
    "other_count =0\n",
    "for element in beeeg_list:\n",
    "    amount = len(element)\n",
    "    other_count += amount\n",
    "\n",
    "print(other_count)"
   ]
  },
  {
   "cell_type": "code",
   "execution_count": null,
   "id": "2c15a751-12f2-4db5-a8df-cbfc1b3ff02d",
   "metadata": {
    "collapsed": true,
    "jupyter": {
     "outputs_hidden": true
    }
   },
   "outputs": [],
   "source": []
  },
  {
   "cell_type": "code",
   "execution_count": 9,
   "id": "3adc7689-3c62-4a14-a925-05260fbe9f2b",
   "metadata": {
    "collapsed": true,
    "jupyter": {
     "outputs_hidden": true
    }
   },
   "outputs": [
    {
     "name": "stdout",
     "output_type": "stream",
     "text": [
      "499.0\n"
     ]
    }
   ],
   "source": [
    "#sum of all of the planets income CODE\n",
    "total_income = 0\n",
    "for e in beeeg_list:\n",
    "    list_total=sum(e)\n",
    "    total_income += list_total\n",
    "\n",
    "print(total_income)"
   ]
  },
  {
   "cell_type": "code",
   "execution_count": 15,
   "id": "e9ddd231-c763-418a-bf1a-2bcfeb599cd1",
   "metadata": {
    "collapsed": true,
    "jupyter": {
     "outputs_hidden": true
    }
   },
   "outputs": [
    {
     "name": "stdout",
     "output_type": "stream",
     "text": [
      "3\n"
     ]
    }
   ],
   "source": [
    "print(len(galaxy_list))"
   ]
  },
  {
   "cell_type": "code",
   "execution_count": 18,
   "id": "6c16daff-49bb-4b88-b92c-fbb6ed0f8552",
   "metadata": {
    "collapsed": true,
    "jupyter": {
     "outputs_hidden": true
    }
   },
   "outputs": [
    {
     "name": "stdout",
     "output_type": "stream",
     "text": [
      "[10000.0, 34000.0]\n",
      "44000.0\n",
      "[0.0, 12000.0, 40000.0]\n",
      "52000.0\n",
      "[18000.0]\n",
      "18000.0\n"
     ]
    }
   ],
   "source": [
    "for i in (galaxy_list):\n",
    "    print(i)\n",
    "    galaxy_total = sum(i)\n",
    "    print(galaxy_total)\n",
    "    \n",
    "\n",
    "#print(sum_quadrant)"
   ]
  },
  {
   "cell_type": "markdown",
   "id": "c19be6f5-8b22-471a-a909-d116e1b10446",
   "metadata": {},
   "source": [
    "# This works"
   ]
  },
  {
   "cell_type": "code",
   "execution_count": 46,
   "id": "45f06cec-c35d-4a0c-92c8-e15ddc3c9e7e",
   "metadata": {
    "collapsed": true,
    "jupyter": {
     "outputs_hidden": true
    }
   },
   "outputs": [
    {
     "name": "stdout",
     "output_type": "stream",
     "text": [
      "[10000.0, 50000.0]\n",
      "60000.0\n",
      "[10000.0, 0.0, 9000.0]\n",
      "19000.0\n",
      "[81000.0]\n",
      "81000.0\n",
      "[60000.0, 19000.0, 81000.0]\n",
      "Income distribution: Less than $20,000: 1 galaxy(s)\n",
      " At least $20,000 but less than $40,000: 0 galaxy(s)\n",
      " At least $40,000 but less than $60,000: 0 galaxy(s)\n",
      " At least $60,000 but less than $80,000: 1 galaxy(s)\n",
      " At least $80,000: 1 galaxy(s)\n"
     ]
    }
   ],
   "source": [
    "#Galaxy Distribution\n",
    "galaxy_distribution_count_1 = 0\n",
    "galaxy_distribution_count_2 = 0\n",
    "galaxy_distribution_count_3 = 0\n",
    "galaxy_distribution_count_4 = 0\n",
    "galaxy_distribution_count_5 = 0\n",
    "\n",
    "g = []\n",
    "for i in (galaxy_list):\n",
    "    print(i)\n",
    "    galaxy_total = sum(i)\n",
    "    g.append(galaxy_total)\n",
    "    print(galaxy_total)\n",
    "\n",
    "print(g)\n",
    "for j in g:\n",
    "        \n",
    "\n",
    "    if j < 20000:\n",
    "        galaxy_distribution_count_1 +=1\n",
    "\n",
    "    elif 20000 <= j <= 39999.99:\n",
    "        galaxy_distribution_count_2 +=1\n",
    "\n",
    "\n",
    "    elif 40000 <= j <= 59999.99:\n",
    "        galaxy_distribution_count_3 +=1\n",
    "\n",
    "\n",
    "    elif 60000 <= j <= 79999.99:\n",
    "        galaxy_distribution_count_4 +=1\n",
    "\n",
    "\n",
    "    elif j >= 80000:\n",
    "        galaxy_distribution_count_5 +=1\n",
    "\n",
    "    else:\n",
    "        print(\"Ooops it seems that there was a mistake...\")\n",
    "\n",
    "print(\"Income distribution: Less than $20,000:\",galaxy_distribution_count_1 , \"galaxy(s)\\n\",\n",
    "                  \"At least $20,000 but less than $40,000:\", galaxy_distribution_count_2,\"galaxy(s)\\n\",\n",
    "                  \"At least $40,000 but less than $60,000:\",galaxy_distribution_count_3 , \"galaxy(s)\\n\",\n",
    "                 \"At least $60,000 but less than $80,000:\",galaxy_distribution_count_4 ,\"galaxy(s)\\n\",\n",
    "                 \"At least $80,000:\", galaxy_distribution_count_5, \"galaxy(s)\")\n",
    "\n",
    "\n",
    "#print(sum_quadrant)"
   ]
  },
  {
   "cell_type": "code",
   "execution_count": 82,
   "id": "14d92991-e8dc-4405-969e-d3108e39310c",
   "metadata": {
    "collapsed": true,
    "jupyter": {
     "outputs_hidden": true
    },
    "tags": []
   },
   "outputs": [
    {
     "name": "stdin",
     "output_type": "stream",
     "text": [
      "How many galaxies are we analyzing today? 1\n",
      "How many planets are in Galaxy 1? 1\n"
     ]
    },
    {
     "name": "stdout",
     "output_type": "stream",
     "text": [
      "\n"
     ]
    },
    {
     "name": "stdin",
     "output_type": "stream",
     "text": [
      "What is planets 1's income in Galaxy 1? 1\n"
     ]
    },
    {
     "name": "stdout",
     "output_type": "stream",
     "text": [
      "\n",
      "Number of planets: 1\n",
      "Planets per galaxy: 1.0\n",
      "\n",
      "Average planetary income: $ 1.0\n",
      "Average galactic income: $ 1.0\n",
      "\n",
      "Income distribution: Less than $20,000: 1 galaxy(s)\n",
      " At least $20,000 but less than $40,000: 0 galaxy(s)\n",
      " At least $40,000 but less than $60,000: 0 galaxy(s)\n",
      " At least $60,000 but less than $80,000: 0 galaxy(s)\n",
      " At least $80,000: 0 galaxy(s)\n",
      "Total income 1.0\n",
      "List of list of galaxy [[1.0]]\n"
     ]
    },
    {
     "name": "stdin",
     "output_type": "stream",
     "text": [
      "Would you like to analyze another quadrant (yes/no)? no yes\n",
      "How many galaxies are we analyzing today? 2\n",
      "How many planets are in Galaxy 1? 1\n"
     ]
    },
    {
     "name": "stdout",
     "output_type": "stream",
     "text": [
      "\n"
     ]
    },
    {
     "name": "stdin",
     "output_type": "stream",
     "text": [
      "What is planets 1's income in Galaxy 1? 10000000\n",
      "How many planets are in Galaxy 2? 1\n"
     ]
    },
    {
     "name": "stdout",
     "output_type": "stream",
     "text": [
      "\n"
     ]
    },
    {
     "name": "stdin",
     "output_type": "stream",
     "text": [
      "What is planets 1's income in Galaxy 2? 20000\n"
     ]
    },
    {
     "name": "stdout",
     "output_type": "stream",
     "text": [
      "\n",
      "Number of planets: 2\n",
      "Planets per galaxy: 1.0\n",
      "\n",
      "Average planetary income: $ 5,010,000.0\n",
      "Average galactic income: $ 5,010,000.0\n",
      "\n",
      "Income distribution: Less than $20,000: 0 galaxy(s)\n",
      " At least $20,000 but less than $40,000: 1 galaxy(s)\n",
      " At least $40,000 but less than $60,000: 0 galaxy(s)\n",
      " At least $60,000 but less than $80,000: 0 galaxy(s)\n",
      " At least $80,000: 1 galaxy(s)\n",
      "Total income 10020000.0\n",
      "List of list of galaxy [[10000000.0], [20000.0]]\n"
     ]
    },
    {
     "ename": "KeyboardInterrupt",
     "evalue": "Interrupted by user",
     "output_type": "error",
     "traceback": [
      "\u001b[1;31m---------------------------------------------------------------------------\u001b[0m",
      "\u001b[1;31mKeyboardInterrupt\u001b[0m                         Traceback (most recent call last)",
      "\u001b[1;32m<ipython-input-82-55df3e6ab9c3>\u001b[0m in \u001b[0;36m<module>\u001b[1;34m\u001b[0m\n\u001b[0;32m    109\u001b[0m \u001b[1;33m\u001b[0m\u001b[0m\n\u001b[0;32m    110\u001b[0m     \u001b[1;31m#User exit while loop\u001b[0m\u001b[1;33m\u001b[0m\u001b[1;33m\u001b[0m\u001b[1;33m\u001b[0m\u001b[0m\n\u001b[1;32m--> 111\u001b[1;33m     \u001b[0mrepeat\u001b[0m \u001b[1;33m=\u001b[0m \u001b[0minput\u001b[0m\u001b[1;33m(\u001b[0m\u001b[1;34m\"Would you like to analyze another quadrant (yes/no)? no\"\u001b[0m\u001b[1;33m)\u001b[0m\u001b[1;33m\u001b[0m\u001b[1;33m\u001b[0m\u001b[0m\n\u001b[0m",
      "\u001b[1;32m~\\anaconda3\\lib\\site-packages\\ipykernel\\kernelbase.py\u001b[0m in \u001b[0;36mraw_input\u001b[1;34m(self, prompt)\u001b[0m\n\u001b[0;32m    858\u001b[0m                 \u001b[1;34m\"raw_input was called, but this frontend does not support input requests.\"\u001b[0m\u001b[1;33m\u001b[0m\u001b[1;33m\u001b[0m\u001b[0m\n\u001b[0;32m    859\u001b[0m             )\n\u001b[1;32m--> 860\u001b[1;33m         return self._input_request(str(prompt),\n\u001b[0m\u001b[0;32m    861\u001b[0m             \u001b[0mself\u001b[0m\u001b[1;33m.\u001b[0m\u001b[0m_parent_ident\u001b[0m\u001b[1;33m,\u001b[0m\u001b[1;33m\u001b[0m\u001b[1;33m\u001b[0m\u001b[0m\n\u001b[0;32m    862\u001b[0m             \u001b[0mself\u001b[0m\u001b[1;33m.\u001b[0m\u001b[0m_parent_header\u001b[0m\u001b[1;33m,\u001b[0m\u001b[1;33m\u001b[0m\u001b[1;33m\u001b[0m\u001b[0m\n",
      "\u001b[1;32m~\\anaconda3\\lib\\site-packages\\ipykernel\\kernelbase.py\u001b[0m in \u001b[0;36m_input_request\u001b[1;34m(self, prompt, ident, parent, password)\u001b[0m\n\u001b[0;32m    902\u001b[0m             \u001b[1;32mexcept\u001b[0m \u001b[0mKeyboardInterrupt\u001b[0m\u001b[1;33m:\u001b[0m\u001b[1;33m\u001b[0m\u001b[1;33m\u001b[0m\u001b[0m\n\u001b[0;32m    903\u001b[0m                 \u001b[1;31m# re-raise KeyboardInterrupt, to truncate traceback\u001b[0m\u001b[1;33m\u001b[0m\u001b[1;33m\u001b[0m\u001b[1;33m\u001b[0m\u001b[0m\n\u001b[1;32m--> 904\u001b[1;33m                 \u001b[1;32mraise\u001b[0m \u001b[0mKeyboardInterrupt\u001b[0m\u001b[1;33m(\u001b[0m\u001b[1;34m\"Interrupted by user\"\u001b[0m\u001b[1;33m)\u001b[0m \u001b[1;32mfrom\u001b[0m \u001b[1;32mNone\u001b[0m\u001b[1;33m\u001b[0m\u001b[1;33m\u001b[0m\u001b[0m\n\u001b[0m\u001b[0;32m    905\u001b[0m             \u001b[1;32mexcept\u001b[0m \u001b[0mException\u001b[0m \u001b[1;32mas\u001b[0m \u001b[0me\u001b[0m\u001b[1;33m:\u001b[0m\u001b[1;33m\u001b[0m\u001b[1;33m\u001b[0m\u001b[0m\n\u001b[0;32m    906\u001b[0m                 \u001b[0mself\u001b[0m\u001b[1;33m.\u001b[0m\u001b[0mlog\u001b[0m\u001b[1;33m.\u001b[0m\u001b[0mwarning\u001b[0m\u001b[1;33m(\u001b[0m\u001b[1;34m\"Invalid Message:\"\u001b[0m\u001b[1;33m,\u001b[0m \u001b[0mexc_info\u001b[0m\u001b[1;33m=\u001b[0m\u001b[1;32mTrue\u001b[0m\u001b[1;33m)\u001b[0m\u001b[1;33m\u001b[0m\u001b[1;33m\u001b[0m\u001b[0m\n",
      "\u001b[1;31mKeyboardInterrupt\u001b[0m: Interrupted by user"
     ]
    }
   ],
   "source": [
    "# second to last version\n",
    "\n",
    "#Create repeat for user while loop to run \n",
    "repeat = 'yes'\n",
    "\n",
    "#User define while loop in case they want to analyze more quadrants\n",
    "while repeat.strip().lower() == 'yes':\n",
    "    #Set all counters and list to 0 and empty is new loop is initiated\n",
    "    g=[]\n",
    "    galaxy_list = []\n",
    "    count_planet = 0\n",
    "    total_income = 0\n",
    "        \n",
    "    #Set Galaxy Distribution counter\n",
    "    galaxy_distribution_count_1 = 0\n",
    "    galaxy_distribution_count_2 = 0\n",
    "    galaxy_distribution_count_3 = 0\n",
    "    galaxy_distribution_count_4 = 0\n",
    "    galaxy_distribution_count_5 = 0\n",
    "#     print(\"this is g\",g)\n",
    "#     print(\"this is galaxy list\",galaxy_list)\n",
    "#     print(\"this is count_planet\",count_planet)\n",
    "#     print(\"this is total income\", total_income)\n",
    "#     print(\"this is g dist 1\",galaxy_distribution_count_1)\n",
    "#     print(\"this is g dist 1\",galaxy_distribution_count_2)\n",
    "#     print(\"this is g dist 1\",galaxy_distribution_count_3)\n",
    "#     print(\"this is g dist 1\",galaxy_distribution_count_4)\n",
    "#     print(\"this is g dist 1\",galaxy_distribution_count_5)\n",
    "                                  \n",
    "    \n",
    "    \n",
    "    #Getting user input to know number of galaxies\n",
    "    number_of_galaxies = int(input(\"How many galaxies are we analyzing today?\"))\n",
    "    \n",
    "    #For loop - from user input number galaxies get the length of itteration\n",
    "    for i in range (1, number_of_galaxies +1):        \n",
    "        planets_in_galaxy = int(input(f\"How many planets are in Galaxy {i}?\"))\n",
    "        print()\n",
    "        planet_income = []\n",
    "        \n",
    "        #Nested for loop- go through user number of planets and get each planets incomes\n",
    "        for j in range(1,planets_in_galaxy+1):\n",
    "            planet_income_input = float(input(f\"What is planets {j}'s income in Galaxy {i}?\"))\n",
    "            total_income += planet_income_input\n",
    "            count_planet += 1\n",
    "            planet_income.append(planet_income_input)\n",
    "        #Append the planet income in each galaxy  into main list for further analisis\n",
    "        galaxy_list.append(planet_income)\n",
    "    \n",
    "    #Calculating planets per galaxy, avg planetary income and avg galactic income\n",
    "    planets_per_galaxy = count_planet/number_of_galaxies\n",
    "    avg_planetary_income = total_income/count_planet\n",
    "    avg_galactic_income = total_income/number_of_galaxies\n",
    "\n",
    "\n",
    "    #g = []\n",
    "    \n",
    "    for i in (galaxy_list):\n",
    "        galaxy_total = sum(i)\n",
    "        g.append(galaxy_total)\n",
    "\n",
    "    for j in g:\n",
    "\n",
    "        if j < 20000:\n",
    "            galaxy_distribution_count_1 +=1\n",
    "\n",
    "        elif 20000 <= j <= 39999.99:\n",
    "            galaxy_distribution_count_2 +=1\n",
    "\n",
    "\n",
    "        elif 40000 <= j <= 59999.99:\n",
    "            galaxy_distribution_count_3 +=1\n",
    "\n",
    "\n",
    "        elif 60000 <= j <= 79999.99:\n",
    "            galaxy_distribution_count_4 +=1\n",
    "\n",
    "\n",
    "        elif j >= 80000:\n",
    "            galaxy_distribution_count_5 +=1\n",
    "\n",
    "        else:\n",
    "            print(\"Ooops it seems that there was a mistake...\")\n",
    "\n",
    "    \n",
    "    #print number of plantes and number of galaxies\n",
    "    print()\n",
    "    print(\"Number of planets:\",count_planet)\n",
    "    print(\"Planets per galaxy:\",planets_per_galaxy)\n",
    "    print()\n",
    "    \n",
    "    #Print avg planetary income and galactic income in $ format\n",
    "    print(\"Average planetary income: $\",\"{:,}\".format(avg_planetary_income))#the format will place , in the final output\n",
    "    print(\"Average galactic income: $\",\"{:,}\".format(avg_galactic_income))#the format will place , in the final output\n",
    "    print()\n",
    "    \n",
    "    #Print galaxy distribution\n",
    "    print(\"Income distribution: Less than $20,000:\",galaxy_distribution_count_1 , \"galaxy(s)\\n\",\n",
    "                      \"At least $20,000 but less than $40,000:\", galaxy_distribution_count_2,\"galaxy(s)\\n\",\n",
    "                      \"At least $40,000 but less than $60,000:\",galaxy_distribution_count_3 , \"galaxy(s)\\n\",\n",
    "                     \"At least $60,000 but less than $80,000:\",galaxy_distribution_count_4 ,\"galaxy(s)\\n\",\n",
    "                     \"At least $80,000:\", galaxy_distribution_count_5, \"galaxy(s)\")\n",
    "    \n",
    "    #not going to use in final code\n",
    "    print(\"Total income\",total_income)\n",
    "    print(\"List of list of galaxy\",galaxy_list)\n",
    "    \n",
    "    \n",
    "    #User exit while loop\n",
    "    repeat = input(\"Would you like to analyze another quadrant (yes/no)? no\")\n"
   ]
  }
 ],
 "metadata": {
  "kernelspec": {
   "display_name": "Python 3",
   "language": "python",
   "name": "python3"
  },
  "language_info": {
   "codemirror_mode": {
    "name": "ipython",
    "version": 3
   },
   "file_extension": ".py",
   "mimetype": "text/x-python",
   "name": "python",
   "nbconvert_exporter": "python",
   "pygments_lexer": "ipython3",
   "version": "3.8.8"
  }
 },
 "nbformat": 4,
 "nbformat_minor": 5
}
